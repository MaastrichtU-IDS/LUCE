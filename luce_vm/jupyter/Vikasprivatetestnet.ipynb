{
 "cells": [
  {
   "cell_type": "markdown",
   "metadata": {},
   "source": [
    "### Deploy and Interact with Consent based Smart Contract\n",
    "The aim of this notebook is to compile, deploy and interact with consent based smart contract"
   ]
  },
  {
   "cell_type": "markdown",
   "metadata": {},
   "source": [
    "### Compile contract from file"
   ]
  },
  {
   "cell_type": "code",
   "execution_count": 284,
   "metadata": {
    "inputHidden": false,
    "outputHidden": false
   },
   "outputs": [],
   "source": [
    "# Import libraries\n",
    "import json\n",
    "import web3\n",
    "from datetime import datetime\n",
    "from web3 import Web3, TestRPCProvider, IPCProvider\n",
    "from solcx import compile_source\n",
    "from web3.contract import ConciseContract\n",
    "import web3.eth as eth\n",
    "from web3.auto.gethdev import w3\n",
    "from web3.middleware import geth_poa_middleware \n",
    "import time"
   ]
  },
  {
   "cell_type": "code",
   "execution_count": 285,
   "metadata": {},
   "outputs": [],
   "source": [
    "# Read in LUCE contract code\n",
    "with open('./data/ConsentContract.sol', 'r') as file:\n",
    "    contract_source_code = file.read()"
   ]
  },
  {
   "cell_type": "code",
   "execution_count": 286,
   "metadata": {},
   "outputs": [],
   "source": [
    "# Compile & Store Compiled source code\n",
    "compiled_sol = compile_source(contract_source_code)"
   ]
  },
  {
   "cell_type": "code",
   "execution_count": 287,
   "metadata": {},
   "outputs": [],
   "source": [
    "#compiled_sol"
   ]
  },
  {
   "cell_type": "code",
   "execution_count": 288,
   "metadata": {},
   "outputs": [],
   "source": [
    "# Extract full interface as dict from compiled contract\n",
    "contract_interface = compiled_sol['<stdin>:ConsentCode']"
   ]
  },
  {
   "cell_type": "code",
   "execution_count": 289,
   "metadata": {},
   "outputs": [],
   "source": [
    "#contract_interface"
   ]
  },
  {
   "cell_type": "code",
   "execution_count": 290,
   "metadata": {},
   "outputs": [],
   "source": [
    "# Extract abi and bytecode\n",
    "abi = contract_interface['abi']\n",
    "bytecode = contract_interface['bin']"
   ]
  },
  {
   "cell_type": "markdown",
   "metadata": {},
   "source": [
    "### Deploy"
   ]
  },
  {
   "cell_type": "code",
   "execution_count": 291,
   "metadata": {},
   "outputs": [],
   "source": [
    "w3 = Web3(IPCProvider('~/.ethereum/geth.ipc'))"
   ]
  },
  {
   "cell_type": "code",
   "execution_count": 292,
   "metadata": {},
   "outputs": [
    {
     "data": {
      "text/plain": [
       "'Geth/node1/v1.9.25-stable-e7872729/linux-amd64/go1.15.6'"
      ]
     },
     "execution_count": 292,
     "metadata": {},
     "output_type": "execute_result"
    }
   ],
   "source": [
    "from web3.middleware import geth_poa_middleware\n",
    "w3.middleware_stack.inject(geth_poa_middleware, layer=0)\n",
    "w3.version.node"
   ]
  },
  {
   "cell_type": "code",
   "execution_count": 293,
   "metadata": {},
   "outputs": [],
   "source": [
    "### List all transactions"
   ]
  },
  {
   "cell_type": "code",
   "execution_count": 294,
   "metadata": {},
   "outputs": [],
   "source": [
    "#def list_all_transactions():\n",
    "#    n = w3.eth.blockNumber;\n",
    "#    txs = list();\n",
    "#    for i in range(n+1):\n",
    "#        block = w3.eth.getBlock(i, True)\n",
    "#        for j in range(len(block.transactions)):\n",
    "#            if block.transactions[j]['from'] == w3.eth.accounts[0]:\n",
    "#                txs.append([block.transactions[j]])\n",
    "#    print(f\"Blocks: {n}\")\n",
    "#    print(f\"Transactions: {len(txs)}\")\n",
    "#    return txs"
   ]
  },
  {
   "cell_type": "code",
   "execution_count": 295,
   "metadata": {},
   "outputs": [
    {
     "data": {
      "text/plain": [
       "True"
      ]
     },
     "execution_count": 295,
     "metadata": {},
     "output_type": "execute_result"
    }
   ],
   "source": [
    "w3.personal.unlockAccount(w3.eth.accounts[0], \"password\", 30000)"
   ]
  },
  {
   "cell_type": "markdown",
   "metadata": {},
   "source": [
    "The default `eth.defaultAccount` address is used as the default \"from\" property for transaction dictionaries if no other explicit \"from\" property is specified."
   ]
  },
  {
   "cell_type": "code",
   "execution_count": 296,
   "metadata": {},
   "outputs": [
    {
     "data": {
      "text/plain": [
       "'0x978ACfd0232fE9dED76581F8bbF8fbdb76b68783'"
      ]
     },
     "execution_count": 296,
     "metadata": {},
     "output_type": "execute_result"
    }
   ],
   "source": [
    "w3.eth.defaultAccount = w3.eth.accounts[0]\n",
    "w3.eth.accounts[0]"
   ]
  },
  {
   "cell_type": "code",
   "execution_count": 297,
   "metadata": {},
   "outputs": [],
   "source": [
    "# Create contract blueprint\n",
    "Contract = w3.eth.contract(abi=abi, bytecode=bytecode)"
   ]
  },
  {
   "cell_type": "code",
   "execution_count": 298,
   "metadata": {},
   "outputs": [],
   "source": [
    "# Submit the transaction that deploys the contract\n",
    "tx_hash = Contract.constructor().transact()"
   ]
  },
  {
   "cell_type": "markdown",
   "metadata": {},
   "source": [
    "### Obtain Transcation Receipt"
   ]
  },
  {
   "cell_type": "code",
   "execution_count": 300,
   "metadata": {},
   "outputs": [],
   "source": [
    "# Wait for the transaction to be mined, and get the transaction receipt\n",
    "tx_receipt = w3.eth.waitForTransactionReceipt(tx_hash)"
   ]
  },
  {
   "cell_type": "code",
   "execution_count": 301,
   "metadata": {},
   "outputs": [
    {
     "name": "stdout",
     "output_type": "stream",
     "text": [
      "The contract is deployed with block number 15643 .\n"
     ]
    }
   ],
   "source": [
    "# We obtain the block number under which it is deployed \n",
    "global contract_block\n",
    "contract_block = w3.eth.blockNumber\n",
    "print(\"The contract is deployed with block number\",contract_block,\".\")"
   ]
  },
  {
   "cell_type": "code",
   "execution_count": 302,
   "metadata": {},
   "outputs": [
    {
     "name": "stdout",
     "output_type": "stream",
     "text": [
      "The contract is deployed with block number 15643 .\n"
     ]
    }
   ],
   "source": [
    "# We obtain the block number under which it is deployed \n",
    "global contract_block\n",
    "contract_block = w3.eth.blockNumber\n",
    "print(\"The contract is deployed with block number\",contract_block,\".\")"
   ]
  },
  {
   "cell_type": "code",
   "execution_count": 303,
   "metadata": {},
   "outputs": [],
   "source": [
    "#txs = list_all_transactions()\n",
    "#txs"
   ]
  },
  {
   "cell_type": "markdown",
   "metadata": {},
   "source": [
    "### Interact with contract"
   ]
  },
  {
   "cell_type": "code",
   "execution_count": 304,
   "metadata": {},
   "outputs": [],
   "source": [
    "# Create python instance of deployed contract\n",
    "Contract = w3.eth.contract(\n",
    "    address=tx_receipt.contractAddress,\n",
    "    abi=contract_interface['abi'],\n",
    ")"
   ]
  },
  {
   "cell_type": "code",
   "execution_count": 305,
   "metadata": {},
   "outputs": [
    {
     "data": {
      "text/plain": [
       "6254"
      ]
     },
     "execution_count": 305,
     "metadata": {},
     "output_type": "execute_result"
    }
   ],
   "source": [
    "# Extract accounts\n",
    "accounts = w3.eth.accounts\n",
    "len(accounts)"
   ]
  },
  {
   "cell_type": "code",
   "execution_count": 306,
   "metadata": {},
   "outputs": [],
   "source": [
    "#w3.eth.getBalance(contract_address)"
   ]
  },
  {
   "cell_type": "markdown",
   "metadata": {},
   "source": [
    "**UploadData**  \n",
    "```solidity\n",
    "   function UploadDataPrimaryCategory(\n",
    "        address _address1,\n",
    "        bool _NoRestrictions,\n",
    "        bool _OpenToGeneralResearchAndClinicalCare,\n",
    "        bool _OpenToHMBResearch,\n",
    "        bool _OpenToPopulationAndAncestryResearch,\n",
    "        bool _OpenToDiseaseSpecific)\n",
    "```\n",
    "```solidity\n",
    "    function UploadDataSecondaryCategory(\n",
    "        address _address1, \n",
    "        bool _OpenToGeneticStudiesOnly,\n",
    "        bool _ResearchSpecificRestrictions,\n",
    "        bool _OpenToResearchUseOnly,\n",
    "        bool _NoGeneralMethodResearch)\n",
    "```\n",
    "\n",
    "```solidity\n",
    "   function UploadDataRequirements(\n",
    "        address _address1,\n",
    "        bool _GeographicSpecificRestriction,\n",
    "        bool _OpenToNonProfitUseOnly,\n",
    "        bool _PublicationRequired,\n",
    "        bool _CollaborationRequired,\n",
    "        bool _EthicsApprovalrequired,\n",
    "        bool _TimeLimitOnUse,\n",
    "        bool _CostOnUse,\n",
    "        bool _DataSecurityMeasuresRequired)\n",
    "```"
   ]
  },
  {
   "cell_type": "code",
   "execution_count": null,
   "metadata": {},
   "outputs": [],
   "source": [
    "#w3.personal.unlockAccount(w3.eth.accounts[1], \"test\", 30000)\n",
    "#w3.personal.unlockAccount(w3.eth.accounts[2], \"test\", 30000)\n",
    "#w3.personal.unlockAccount(w3.eth.accounts[3], \"test1\", 30000)\n",
    "#w3.personal.unlockAccount(w3.eth.accounts[4], \"test2\", 30000)\n",
    "#w3.personal.unlockAccount(w3.eth.accounts[5], \"test\", 30000)\n",
    "#w3.personal.unlockAccount(w3.eth.accounts[6], \"test1\", 30000)"
   ]
  },
  {
   "cell_type": "code",
   "execution_count": 265,
   "metadata": {},
   "outputs": [],
   "source": [
    "#for i in range(0, len(accounts)):\n",
    "#    w3.personal.unlockAccount(w3.eth.accounts[i], \"password\", 300000)"
   ]
  },
  {
   "cell_type": "code",
   "execution_count": 74,
   "metadata": {},
   "outputs": [],
   "source": [
    "##for i in range(len(w3.eth.accounts)):\n",
    "##    print(f\"Account {i} balance: {w3.eth.getBalance(w3.eth.accounts[i])}\")"
   ]
  },
  {
   "cell_type": "code",
   "execution_count": 75,
   "metadata": {},
   "outputs": [],
   "source": [
    "# send some ether to new accounts\n",
    "#w3.eth.sendTransaction({\"to\":w3.eth.accounts[2], \"from\":w3.eth.accounts[0], \"value\":w3.toWei(\"1\", \"ether\")})"
   ]
  },
  {
   "cell_type": "code",
   "execution_count": 76,
   "metadata": {},
   "outputs": [],
   "source": [
    "# Distribute Ether to all accounts\n",
    "#for i in range(0, len(accounts)):\n",
    "#   _ = w3.eth.sendTransaction({'from':accounts[0],'to':accounts[i],'value':w3.toWei(0.1, 'ether')})"
   ]
  },
  {
   "cell_type": "code",
   "execution_count": 77,
   "metadata": {},
   "outputs": [],
   "source": [
    "##for i in range(len(w3.eth.accounts)):\n",
    "##    print(f\"Account {i} balance: {w3.eth.getBalance(w3.eth.accounts[i])}\")"
   ]
  },
  {
   "cell_type": "code",
   "execution_count": 78,
   "metadata": {},
   "outputs": [],
   "source": [
    "#print(\"Gas\", Contract.functions.UploadDataPrimaryCategory(test_address0, False, True, True, True, True).estimateGas())\n",
    "#startTime0 = datetime.now()"
   ]
  },
  {
   "cell_type": "code",
   "execution_count": 307,
   "metadata": {},
   "outputs": [],
   "source": [
    "#Data provider consent (General research & non-profit)\n",
    "#D-001 (open)\n",
    "test_address0 = accounts[0]\n",
    "tx_hash = Contract.functions.UploadDataPrimaryCategory(test_address0, False, True, True, True, True).transact()\n",
    "tx_hash = Contract.functions.UploadDataRequirements(test_address0, False, True, False, False, False, False, False, False).transact()\n",
    "#tx_receipt = w3.eth.getTransactionReceipt(tx_hash)"
   ]
  },
  {
   "cell_type": "code",
   "execution_count": 308,
   "metadata": {},
   "outputs": [
    {
     "data": {
      "text/plain": [
       "159189"
      ]
     },
     "execution_count": 308,
     "metadata": {},
     "output_type": "execute_result"
    }
   ],
   "source": [
    "w3.eth.getTransaction(tx_hash).gas"
   ]
  },
  {
   "cell_type": "code",
   "execution_count": 88,
   "metadata": {},
   "outputs": [],
   "source": [
    "#w3.eth.getTransaction(tx_hash)"
   ]
  },
  {
   "cell_type": "code",
   "execution_count": 89,
   "metadata": {},
   "outputs": [
    {
     "name": "stdout",
     "output_type": "stream",
     "text": [
      "AttributeDict({'difficulty': 441997, 'proofOfAuthorityData': HexBytes('0xd883010919846765746888676f312e31352e36856c696e7578'), 'gasLimit': 8000000, 'gasUsed': 0, 'hash': HexBytes('0x5385db3a6b25523ec59f62ef68042049e9bb8c5157de5486a202ac3a872a1d98'), 'logsBloom': HexBytes('0x00000000000000000000000000000000000000000000000000000000000000000000000000000000000000000000000000000000000000000000000000000000000000000000000000000000000000000000000000000000000000000000000000000000000000000000000000000000000000000000000000000000000000000000000000000000000000000000000000000000000000000000000000000000000000000000000000000000000000000000000000000000000000000000000000000000000000000000000000000000000000000000000000000000000000000000000000000000000000000000000000000000000000000000000000000000'), 'miner': '0x978ACfd0232fE9dED76581F8bbF8fbdb76b68783', 'mixHash': HexBytes('0x30452fca0dd7620301bda6d6b1482c8f9257259880eb43348f1155fc34385d23'), 'nonce': HexBytes('0x006de2a8af89b734'), 'number': 13945, 'parentHash': HexBytes('0x494ee19be56fe856c994532be990fd89a2c1fbfcb5d35a89145982a67e9a6315'), 'receiptsRoot': HexBytes('0x56e81f171bcc55a6ff8345e692c0f86e5b48e01b996cadc001622fb5e363b421'), 'sha3Uncles': HexBytes('0x1dcc4de8dec75d7aab85b567b6ccd41ad312451b948a7413f0a142fd40d49347'), 'size': 538, 'stateRoot': HexBytes('0x784f36ef82c6cb7880f7f6df65d1848704bdee05e2ee2263c4c012f3e8d569e6'), 'timestamp': 1609839137, 'totalDifficulty': 11557753524, 'transactions': [], 'transactionsRoot': HexBytes('0x56e81f171bcc55a6ff8345e692c0f86e5b48e01b996cadc001622fb5e363b421'), 'uncles': []})\n"
     ]
    }
   ],
   "source": [
    "print(w3.eth.getBlock('latest'))"
   ]
  },
  {
   "cell_type": "code",
   "execution_count": 83,
   "metadata": {},
   "outputs": [],
   "source": [
    "#tx_hash"
   ]
  },
  {
   "cell_type": "markdown",
   "metadata": {},
   "source": [
    "**giveResearchPurpose**  \n",
    "```solidity\n",
    " function giveResearchPurpose(\n",
    "        address _address2,\n",
    "        bool _UseForMethodsDevelopment,\n",
    "        bool _UseForReferenceOrControlMaterial,\n",
    "        bool _UseForPopulationsResearch,\n",
    "        bool _UseForAncestryResearch,\n",
    "        bool _UseForHMBResearch)\n",
    "```\n",
    "\n",
    "**giveHMBPurpose**  \n",
    "```solidity\n",
    " function giveHMBPurpose( \n",
    "        address _address2, \n",
    "        bool _UseForFundamentalBioResearch,\n",
    "        bool _UseForGeneticsResearch,\n",
    "        bool _UseForDrugDevelopmentResearch, \n",
    "        bool _UseForAnyDiseaseResearch,\n",
    "        bool _UseForAgeCategoriesResearch,\n",
    "        bool _UseForGenderCategoriesResearch)\n",
    "```\n",
    "\n",
    "**giveClinicalPurpose**  \n",
    "```solidity\n",
    " function giveClinicalPurpose( \n",
    "        address _address2, \n",
    "        bool _UseForDecisionSupport, \n",
    "        bool _UseForDiseaseSupport)\n",
    "```\n",
    "\n",
    "**givePerson**  \n",
    "```solidity\n",
    " function givePerson( \n",
    "        address _address2,\n",
    "        bool _UseByAcademicProfessionals,\n",
    "        bool _UseByClinicalProfessionals,\n",
    "        bool _UseByProfitMakingProfessionals, \n",
    "        bool _UseByNonProfessionals)\n",
    "```\n",
    "\n",
    "**giveGeographicSpecificRestriction**  \n",
    "```solidity\n",
    " function giveGeographicSpecificRestriction( \n",
    "        address _address2, \n",
    "        bool _UseBySpecifiedCountries)\n",
    "```\n",
    "**giveProfit**  \n",
    "```solidity\n",
    " function giveProfit( \n",
    "        address _address2, \n",
    "        bool _UseForProfitPurpose,\n",
    "        bool _UseForNonProfitPurpose)\n",
    "```\n",
    "**giveDataRequester_Terms**  \n",
    "```solidity\n",
    " function giveDataRequester_Terms( \n",
    "        address _address2, \n",
    "        bool _NoTimelineRestrictions,\n",
    "        bool _NoFormalApprovalRequired,\n",
    "        bool _NoCollaborationRequired,\n",
    "        bool _NoPublicationRequired,\n",
    "        bool _NoDataSecurityMeasures,\n",
    "        bool _NoDataDestructionRequired,\n",
    "        bool _NoLinkingOfAccessedRecords,\n",
    "        bool _NoRecontactingDataSubjects,\n",
    "        bool _NoIntellectualPropertyClaims,\n",
    "        bool _NoUseOfAccessedResources,\n",
    "        bool _NoFeesForAccess)\n",
    "```"
   ]
  },
  {
   "cell_type": "code",
   "execution_count": 84,
   "metadata": {},
   "outputs": [
    {
     "name": "stdout",
     "output_type": "stream",
     "text": [
      "elapsed_time0 is  10.796817541122437\n",
      "elapsed_gas0 is  146387\n"
     ]
    }
   ],
   "source": [
    "start_time0 = time.time()\n",
    "for i in range(1,100):\n",
    "    #Data Requesters Account \n",
    "    #test_address1 = accounts[1]\n",
    "    #Data Requester 1 (General Research and Profit-Making)\n",
    "    tx_hash = Contract.functions.giveResearchPurpose(accounts[i], True, True, False, False, False).transact()\n",
    "    tx_hash = Contract.functions.givePerson(accounts[i], True, False, True, False).transact()\n",
    "    tx_hash = Contract.functions.giveProfit(accounts[i], True, False).transact()\n",
    "    Contract.functions.AccessData(test_address0, accounts[i]).call() \n",
    "\n",
    "elapsed_time0 =  time.time() - start_time0\n",
    "print (\"elapsed_time0 is \", elapsed_time0)\n",
    "print (\"elapsed_gas0 is \", w3.eth.getTransaction(tx_hash).gas)"
   ]
  },
  {
   "cell_type": "code",
   "execution_count": 85,
   "metadata": {},
   "outputs": [
    {
     "name": "stdout",
     "output_type": "stream",
     "text": [
      "elapsed_time is  58.15028738975525\n",
      "elapsed_gas is  146387\n"
     ]
    }
   ],
   "source": [
    "start_time = time.time()\n",
    "for i in range(1,1000):\n",
    "    #Data Requesters Account \n",
    "    #test_address1 = accounts[1]\n",
    "    #Data Requester 1 (General Research and Profit-Making)\n",
    "    tx_hash = Contract.functions.giveResearchPurpose(accounts[i], True, True, False, False, False).transact()\n",
    "    tx_hash = Contract.functions.givePerson(accounts[i], True, False, True, False).transact()\n",
    "    tx_hash = Contract.functions.giveProfit(accounts[i], True, False).transact()\n",
    "    Contract.functions.AccessData(test_address0, accounts[i]).call() \n",
    "    \n",
    "elapsed_time =  time.time() - start_time\n",
    "print (\"elapsed_time is \", elapsed_time)\n",
    "print (\"elapsed_gas is \", w3.eth.getTransaction(tx_hash).gas)"
   ]
  },
  {
   "cell_type": "code",
   "execution_count": 86,
   "metadata": {},
   "outputs": [
    {
     "name": "stdout",
     "output_type": "stream",
     "text": [
      "elapsed_time1 is  98.84793162345886\n",
      "elapsed_gas1 is  146387\n"
     ]
    }
   ],
   "source": [
    "start_time1 = time.time()\n",
    "for i in range(1,2000):\n",
    "    #Data Requesters Account \n",
    "    #test_address1 = accounts[1]\n",
    "    #Data Requester 1 (General Research and Profit-Making)\n",
    "    tx_hash = Contract.functions.giveResearchPurpose(accounts[i], True, True, False, False, False).transact()\n",
    "    tx_hash = Contract.functions.givePerson(accounts[i], True, False, True, False).transact()\n",
    "    tx_hash = Contract.functions.giveProfit(accounts[i], True, False).transact()\n",
    "    Contract.functions.AccessData(test_address0, accounts[i]).call() \n",
    "\n",
    "elapsed_time1 =  time.time() - start_time1\n",
    "print (\"elapsed_time1 is \", elapsed_time1)\n",
    "print (\"elapsed_gas1 is \", w3.eth.getTransaction(tx_hash).gas)"
   ]
  },
  {
   "cell_type": "code",
   "execution_count": 87,
   "metadata": {},
   "outputs": [
    {
     "name": "stdout",
     "output_type": "stream",
     "text": [
      "elapsed_time2 is  178.52215194702148\n",
      "elapsed_gas2 is  146387\n"
     ]
    }
   ],
   "source": [
    "start_time2 = time.time()\n",
    "for i in range(1,3000):\n",
    "    #Data Requesters Account \n",
    "    #test_address1 = accounts[1]\n",
    "    #Data Requester 1 (General Research and Profit-Making)\n",
    "    tx_hash = Contract.functions.giveResearchPurpose(accounts[i], True, True, False, False, False).transact()\n",
    "    tx_hash = Contract.functions.givePerson(accounts[i], True, False, True, False).transact()\n",
    "    tx_hash = Contract.functions.giveProfit(accounts[i], True, False).transact()\n",
    "    Contract.functions.AccessData(test_address0, accounts[i]).call() \n",
    "\n",
    "elapsed_time2 =  time.time() - start_time2\n",
    "print (\"elapsed_time2 is \", elapsed_time2)\n",
    "print (\"elapsed_gas2 is \", w3.eth.getTransaction(tx_hash).gas)"
   ]
  },
  {
   "cell_type": "code",
   "execution_count": 88,
   "metadata": {},
   "outputs": [
    {
     "name": "stdout",
     "output_type": "stream",
     "text": [
      "elapsed_time3 is  317.2981495857239\n",
      "elapsed_gas3 is  146375\n"
     ]
    }
   ],
   "source": [
    "start_time3 = time.time()\n",
    "for i in range(1,4000):\n",
    "    #Data Requesters Account \n",
    "    #test_address1 = accounts[1]\n",
    "    #Data Requester 1 (General Research and Profit-Making)\n",
    "    tx_hash = Contract.functions.giveResearchPurpose(accounts[i], True, True, False, False, False).transact()\n",
    "    tx_hash = Contract.functions.givePerson(accounts[i], True, False, True, False).transact()\n",
    "    tx_hash = Contract.functions.giveProfit(accounts[i], True, False).transact()\n",
    "    Contract.functions.AccessData(test_address0, accounts[i]).call() \n",
    "\n",
    "elapsed_time3 =  time.time() - start_time3\n",
    "print (\"elapsed_time3 is \", elapsed_time3)\n",
    "print (\"elapsed_gas3 is \", w3.eth.getTransaction(tx_hash).gas)"
   ]
  },
  {
   "cell_type": "code",
   "execution_count": 89,
   "metadata": {},
   "outputs": [
    {
     "name": "stdout",
     "output_type": "stream",
     "text": [
      "elapsed_time4 is  507.5518205165863\n",
      "elapsed_gas4 is  146375\n"
     ]
    }
   ],
   "source": [
    "start_time4 = time.time()\n",
    "for i in range(1,5000):\n",
    "    #Data Requesters Account \n",
    "    #test_address1 = accounts[1]\n",
    "    #Data Requester 1 (General Research and Profit-Making)\n",
    "    tx_hash = Contract.functions.giveResearchPurpose(accounts[i], True, True, False, False, False).transact()\n",
    "    tx_hash = Contract.functions.givePerson(accounts[i], True, False, True, False).transact()\n",
    "    tx_hash = Contract.functions.giveProfit(accounts[i], True, False).transact()\n",
    "    Contract.functions.AccessData(test_address0, accounts[i]).call() \n",
    "\n",
    "elapsed_time4 =  time.time() - start_time4\n",
    "print (\"elapsed_time4 is \", elapsed_time4)\n",
    "print (\"elapsed_gas4 is \", w3.eth.getTransaction(tx_hash).gas)"
   ]
  },
  {
   "cell_type": "code",
   "execution_count": 91,
   "metadata": {},
   "outputs": [
    {
     "name": "stdout",
     "output_type": "stream",
     "text": [
      "elapsed_time01 is  1.7329127788543701\n",
      "elapsed_gas01 is  139989\n"
     ]
    }
   ],
   "source": [
    "start_time01 = time.time()\n",
    "for i in range(1,100):\n",
    "    #Data provider consent (General research & non-profit)\n",
    "    #D-001 (open)\n",
    "    tx_hash = Contract.functions.UploadDataPrimaryCategory(accounts[i], False, True, True, True, True).transact()\n",
    "    tx_hash = Contract.functions.UploadDataRequirements(accounts[i], False, True, False, False, False, False, False, False).transact()\n",
    "    #tx_receipt = w3.eth.getTransactionReceipt(tx_hash)\n",
    "\n",
    "elapsed_time01 =  time.time() - start_time01\n",
    "print (\"elapsed_time01 is \", elapsed_time01)\n",
    "print (\"elapsed_gas01 is \", w3.eth.getTransaction(tx_hash).gas)"
   ]
  },
  {
   "cell_type": "code",
   "execution_count": 92,
   "metadata": {},
   "outputs": [
    {
     "name": "stdout",
     "output_type": "stream",
     "text": [
      "elapsed_time02 is  29.11329436302185\n",
      "elapsed_gas02 is  159189\n"
     ]
    }
   ],
   "source": [
    "start_time02 = time.time()\n",
    "for i in range(1,1000):\n",
    "    #Data provider consent (General research & non-profit)\n",
    "    #D-001 (open)\n",
    "    tx_hash = Contract.functions.UploadDataPrimaryCategory(accounts[i], False, True, True, True, True).transact()\n",
    "    tx_hash = Contract.functions.UploadDataRequirements(accounts[i], False, True, False, False, False, False, False, False).transact()\n",
    "    #tx_receipt = w3.eth.getTransactionReceipt(tx_hash)\n",
    "\n",
    "elapsed_time02 =  time.time() - start_time02\n",
    "print (\"elapsed_time02 is \", elapsed_time02)\n",
    "print (\"elapsed_gas02 is \", w3.eth.getTransaction(tx_hash).gas)"
   ]
  },
  {
   "cell_type": "code",
   "execution_count": 93,
   "metadata": {},
   "outputs": [
    {
     "name": "stdout",
     "output_type": "stream",
     "text": [
      "elapsed_time03 is  59.67318534851074\n",
      "elapsed_gas03 is  159189\n"
     ]
    }
   ],
   "source": [
    "start_time03 = time.time()\n",
    "for i in range(1,2000):\n",
    "    #Data provider consent (General research & non-profit)\n",
    "    #D-001 (open)\n",
    "    tx_hash = Contract.functions.UploadDataPrimaryCategory(accounts[i], False, True, True, True, True).transact()\n",
    "    tx_hash = Contract.functions.UploadDataRequirements(accounts[i], False, True, False, False, False, False, False, False).transact()\n",
    "    #tx_receipt = w3.eth.getTransactionReceipt(tx_hash)\n",
    "\n",
    "elapsed_time03 =  time.time() - start_time03\n",
    "print (\"elapsed_time03 is \", elapsed_time03)\n",
    "print (\"elapsed_gas03 is \", w3.eth.getTransaction(tx_hash).gas)"
   ]
  },
  {
   "cell_type": "code",
   "execution_count": 94,
   "metadata": {},
   "outputs": [
    {
     "name": "stdout",
     "output_type": "stream",
     "text": [
      "elapsed_time04 is  114.71382570266724\n",
      "elapsed_gas04 is  159189\n"
     ]
    }
   ],
   "source": [
    "start_time04 = time.time()\n",
    "for i in range(1,3000):\n",
    "    #Data provider consent (General research & non-profit)\n",
    "    #D-001 (open)\n",
    "    tx_hash = Contract.functions.UploadDataPrimaryCategory(accounts[i], False, True, True, True, True).transact()\n",
    "    tx_hash = Contract.functions.UploadDataRequirements(accounts[i], False, True, False, False, False, False, False, False).transact()\n",
    "    #tx_receipt = w3.eth.getTransactionReceipt(tx_hash)\n",
    "\n",
    "elapsed_time04 =  time.time() - start_time04\n",
    "print (\"elapsed_time04 is \", elapsed_time04)\n",
    "print (\"elapsed_gas04 is \", w3.eth.getTransaction(tx_hash).gas)"
   ]
  },
  {
   "cell_type": "code",
   "execution_count": 95,
   "metadata": {},
   "outputs": [
    {
     "name": "stdout",
     "output_type": "stream",
     "text": [
      "elapsed_time05 is  195.81383609771729\n",
      "elapsed_gas05 is  159177\n"
     ]
    }
   ],
   "source": [
    "start_time05 = time.time()\n",
    "for i in range(1,4000):\n",
    "    #Data provider consent (General research & non-profit)\n",
    "    #D-001 (open)\n",
    "    tx_hash = Contract.functions.UploadDataPrimaryCategory(accounts[i], False, True, True, True, True).transact()\n",
    "    tx_hash = Contract.functions.UploadDataRequirements(accounts[i], False, True, False, False, False, False, False, False).transact()\n",
    "    #tx_receipt = w3.eth.getTransactionReceipt(tx_hash)\n",
    " \n",
    "elapsed_time05 =  time.time() - start_time05\n",
    "print (\"elapsed_time05 is \", elapsed_time05)\n",
    "print (\"elapsed_gas05 is \", w3.eth.getTransaction(tx_hash).gas)"
   ]
  },
  {
   "cell_type": "code",
   "execution_count": 96,
   "metadata": {},
   "outputs": [
    {
     "name": "stdout",
     "output_type": "stream",
     "text": [
      "elapsed_time06 is  292.4467930793762\n",
      "elapsed_gas06 is  159177\n"
     ]
    }
   ],
   "source": [
    "start_time06 = time.time()\n",
    "for i in range(1,5000):\n",
    "    #Data provider consent (General research & non-profit)\n",
    "    #D-001 (open)\n",
    "    tx_hash = Contract.functions.UploadDataPrimaryCategory(accounts[i], False, True, True, True, True).transact()\n",
    "    tx_hash = Contract.functions.UploadDataRequirements(accounts[i], False, True, False, False, False, False, False, False).transact()\n",
    "    #tx_receipt = w3.eth.getTransactionReceipt(tx_hash)\n",
    "\n",
    "elapsed_time06 =  time.time() - start_time06\n",
    "print (\"elapsed_time06 is \", elapsed_time06)\n",
    "print (\"elapsed_gas06 is \", w3.eth.getTransaction(tx_hash).gas)"
   ]
  },
  {
   "cell_type": "code",
   "execution_count": null,
   "metadata": {},
   "outputs": [],
   "source": []
  }
 ],
 "metadata": {
  "hide_input": false,
  "kernel_info": {
   "name": "python3"
  },
  "kernelspec": {
   "display_name": "Python 3",
   "language": "python",
   "name": "python3"
  },
  "language_info": {
   "codemirror_mode": {
    "name": "ipython",
    "version": 3
   },
   "file_extension": ".py",
   "mimetype": "text/x-python",
   "name": "python",
   "nbconvert_exporter": "python",
   "pygments_lexer": "ipython3",
   "version": "3.9.2"
  },
  "nteract": {
   "version": "0.14.3"
  },
  "toc": {
   "base_numbering": 1,
   "nav_menu": {},
   "number_sections": false,
   "sideBar": true,
   "skip_h1_title": false,
   "title_cell": "Table of Contents",
   "title_sidebar": "Contents",
   "toc_cell": false,
   "toc_position": {
    "height": "618px",
    "left": "214px",
    "top": "110px",
    "width": "288px"
   },
   "toc_section_display": true,
   "toc_window_display": true
  },
  "varInspector": {
   "cols": {
    "lenName": 16,
    "lenType": 16,
    "lenVar": 40
   },
   "kernels_config": {
    "python": {
     "delete_cmd_postfix": "",
     "delete_cmd_prefix": "del ",
     "library": "var_list.py",
     "varRefreshCmd": "print(var_dic_list())"
    },
    "r": {
     "delete_cmd_postfix": ") ",
     "delete_cmd_prefix": "rm(",
     "library": "var_list.r",
     "varRefreshCmd": "cat(var_dic_list()) "
    }
   },
   "types_to_exclude": [
    "module",
    "function",
    "builtin_function_or_method",
    "instance",
    "_Feature"
   ],
   "window_display": false
  }
 },
 "nbformat": 4,
 "nbformat_minor": 4
}
