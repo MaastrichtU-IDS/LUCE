{
 "cells": [
  {
   "cell_type": "markdown",
   "metadata": {},
   "source": [
    "# Gaining familiarity with web3py"
   ]
  },
  {
   "cell_type": "markdown",
   "metadata": {},
   "source": [
    "In this notebook I will work through the examples provided in the [web3py documentation](https://web3py.readthedocs.io/en/stable/examples.html) to get a better feeling for the functionality. The goal is to be able to compile, deploy and interact with Solidity contracts directly from within Python. This is important since we need this functionality to be able to dynamically dispatch and interact with contracts from within the server backend of the LUCE technical prototype.  \n",
    "\n",
    "**Update:** Since the old way to deploy contracts via `w3.eth.contract.deploy()` is deprecated this notebook also contains experiments with the new contract creation methods as outlined in the contract section of the web3.py documentation [here](https://web3py.readthedocs.io/en/stable/contracts.html?highlight=abi)."
   ]
  },
  {
   "cell_type": "markdown",
   "metadata": {},
   "source": [
    "### Software used"
   ]
  },
  {
   "cell_type": "markdown",
   "metadata": {},
   "source": [
    "Over the last weeks I developed LuceVM, an Ubuntu 16.04 virtual machine that contains all required software and servers. Using the VM allows for a reproducible development environment and abstracts away the layer of managing dependencies for the different packages. It also makes it easier to ensure all components interact correctly with each other.  \n",
    "\n",
    "The most important tools for us at this stage are:\n",
    "* Python 3.7\n",
    "    * web3\n",
    "    * solc-py-x\n",
    "* Jupyter Notebook Server for interaction and documentation\n",
    "* Virtual Environments via conda to handle dependencies\n",
    "* Solidity Compiler\n",
    "* Node.js\n",
    "* Ganache"
   ]
  },
  {
   "cell_type": "markdown",
   "metadata": {},
   "source": [
    "### Preparation: Connect Python to local Ganache Node"
   ]
  },
  {
   "cell_type": "markdown",
   "metadata": {},
   "source": [
    "First we start an instance of Ganache, either via GUI or the  ```run_ganache.sh``` script in LuceVM.  \n",
    "Update: Running Ganache is handled via `run_servers_tmux.sh` directly as part of the VM setup process now."
   ]
  },
  {
   "cell_type": "code",
   "execution_count": 4,
   "metadata": {},
   "outputs": [],
   "source": [
    "from web3 import Web3, HTTPProvider\n",
    "\n",
    "# Ganache Connection\n",
    "w3 = Web3(Web3.HTTPProvider(\"HTTP://127.0.0.1:8545\"))"
   ]
  },
  {
   "cell_type": "markdown",
   "metadata": {},
   "source": [
    "Alternatively we can also connect to Ganache running on the host machine:  \n",
    "(Change settings to allow incoming connections from 192.168.72.1 or 0.0.0.0)"
   ]
  },
  {
   "cell_type": "code",
   "execution_count": 5,
   "metadata": {},
   "outputs": [],
   "source": [
    "# Connection to Ganache GUI on host\n",
    "#w3 = Web3(Web3.HTTPProvider(\"HTTP://192.168.72.1:7545\"))"
   ]
  },
  {
   "cell_type": "markdown",
   "metadata": {},
   "source": [
    "### Obtain Accounts"
   ]
  },
  {
   "cell_type": "code",
   "execution_count": 6,
   "metadata": {},
   "outputs": [],
   "source": [
    "# Extract default accounts created by ganache\n",
    "accounts = w3.eth.accounts"
   ]
  },
  {
   "cell_type": "code",
   "execution_count": 7,
   "metadata": {},
   "outputs": [
    {
     "data": {
      "text/plain": [
       "['0x92D44e8579620F2Db88A12E70FE38e8CDB3541BA',\n",
       " '0xbf7ca7e607516Cd0F1b94a6C77F45fbFD936949C',\n",
       " '0x43e196C418b4b7Ebf71ba534042cC8907bd39dc9']"
      ]
     },
     "execution_count": 7,
     "metadata": {},
     "output_type": "execute_result"
    }
   ],
   "source": [
    "# Display all 10 default accounts\n",
    "accounts"
   ]
  },
  {
   "cell_type": "code",
   "execution_count": 8,
   "metadata": {},
   "outputs": [
    {
     "data": {
      "text/plain": [
       "'0x92D44e8579620F2Db88A12E70FE38e8CDB3541BA'"
      ]
     },
     "execution_count": 8,
     "metadata": {},
     "output_type": "execute_result"
    }
   ],
   "source": [
    "# Display address of first account\n",
    "accounts[0]"
   ]
  },
  {
   "cell_type": "markdown",
   "metadata": {},
   "source": [
    "Store credentials of first account for testing:"
   ]
  },
  {
   "cell_type": "code",
   "execution_count": 9,
   "metadata": {},
   "outputs": [],
   "source": [
    "# Wallet address\n",
    "wallet_address       = \"0x92D44e8579620F2Db88A12E70FE38e8CDB3541BA\"\n",
    "\n",
    "# Private key (from Ganache interface)\n",
    "wallet_private_key   = \"0x4a2cb86c7d3663abebf7ab86a6ddc3900aee399750f35e65a44ecf843ec39116\""
   ]
  },
  {
   "cell_type": "markdown",
   "metadata": {},
   "source": [
    "### Send ether"
   ]
  },
  {
   "cell_type": "code",
   "execution_count": 11,
   "metadata": {},
   "outputs": [],
   "source": [
    "# Define a function to conveniently send ether\n",
    "import time\n",
    "def send_ether(amount_in_ether, recipient_address):\n",
    "    amount_in_wei = w3.toWei(amount_in_ether,'ether');\n",
    "\n",
    "    # How many transactions have been made by wallet?\n",
    "    nonce = w3.eth.getTransactionCount(wallet_address)\n",
    "    \n",
    "    # Specify transcation details\n",
    "    txn_dict = {\n",
    "            'to': recipient_address,\n",
    "            'value': amount_in_wei,\n",
    "            'gas': 2000000,\n",
    "            'gasPrice': w3.toWei('40', 'gwei'),\n",
    "            'nonce': nonce,\n",
    "            'chainId': 3\n",
    "    }\n",
    "    \n",
    "    # Sign transaction\n",
    "    signed_txn = w3.eth.account.signTransaction(txn_dict, wallet_private_key)\n",
    "\n",
    "    # Send transaction & store transaction hash\n",
    "    txn_hash = w3.eth.sendRawTransaction(signed_txn.rawTransaction)\n",
    "\n",
    "    # Check if transaction was added to blockchain\n",
    "    time.sleep(0.5)\n",
    "    txn_receipt = w3.eth.getTransactionReceipt(txn_hash)\n",
    "    return txn_hash"
   ]
  },
  {
   "cell_type": "code",
   "execution_count": 12,
   "metadata": {},
   "outputs": [],
   "source": [
    "# Set recipient\n",
    "recipient = accounts[1]"
   ]
  },
  {
   "cell_type": "code",
   "execution_count": 13,
   "metadata": {},
   "outputs": [],
   "source": [
    "# Send ether and store transaction hash\n",
    "txn_hash = send_ether(1.5,recipient)"
   ]
  },
  {
   "cell_type": "code",
   "execution_count": 14,
   "metadata": {},
   "outputs": [
    {
     "data": {
      "text/plain": [
       "5"
      ]
     },
     "execution_count": 14,
     "metadata": {},
     "output_type": "execute_result"
    }
   ],
   "source": [
    "# Count transactions performed by a given address\n",
    "w3.eth.getTransactionCount(wallet_address)"
   ]
  },
  {
   "cell_type": "markdown",
   "metadata": {},
   "source": [
    "### Check Balance"
   ]
  },
  {
   "cell_type": "markdown",
   "metadata": {},
   "source": [
    "There are two accounts we are interested in:  \n",
    "The sender: `wallet_address`  \n",
    "And the recipient: `recpient`"
   ]
  },
  {
   "cell_type": "code",
   "execution_count": 15,
   "metadata": {},
   "outputs": [
    {
     "data": {
      "text/plain": [
       "101500000000000000000"
      ]
     },
     "execution_count": 15,
     "metadata": {},
     "output_type": "execute_result"
    }
   ],
   "source": [
    "# Check balance\n",
    "w3.eth.getBalance(recipient)"
   ]
  },
  {
   "cell_type": "code",
   "execution_count": 16,
   "metadata": {},
   "outputs": [
    {
     "data": {
      "text/plain": [
       "Decimal('101.5')"
      ]
     },
     "execution_count": 16,
     "metadata": {},
     "output_type": "execute_result"
    }
   ],
   "source": [
    "# Balance in ether\n",
    "w3.fromWei(w3.eth.getBalance(recipient), 'ether')"
   ]
  },
  {
   "cell_type": "code",
   "execution_count": 17,
   "metadata": {},
   "outputs": [
    {
     "data": {
      "text/plain": [
       "Decimal('98.46921988')"
      ]
     },
     "execution_count": 17,
     "metadata": {},
     "output_type": "execute_result"
    }
   ],
   "source": [
    "# Balance of our primary account\n",
    "w3.fromWei(w3.eth.getBalance(wallet_address), 'ether')"
   ]
  },
  {
   "cell_type": "code",
   "execution_count": 18,
   "metadata": {},
   "outputs": [],
   "source": [
    "tx_hash = send_ether(1, \"0x9B3da536bfFf54974AE3D9151D7C6F5dBE81990E\")"
   ]
  },
  {
   "cell_type": "code",
   "execution_count": 19,
   "metadata": {},
   "outputs": [
    {
     "data": {
      "text/plain": [
       "Decimal('1')"
      ]
     },
     "execution_count": 19,
     "metadata": {},
     "output_type": "execute_result"
    }
   ],
   "source": [
    "w3.fromWei(w3.eth.getBalance(\"0x9B3da536bfFf54974AE3D9151D7C6F5dBE81990E\"), 'ether')"
   ]
  },
  {
   "cell_type": "markdown",
   "metadata": {},
   "source": [
    "### Look up a block"
   ]
  },
  {
   "cell_type": "code",
   "execution_count": 20,
   "metadata": {},
   "outputs": [
    {
     "data": {
      "text/plain": [
       "AttributeDict({'number': 1,\n",
       " 'hash': HexBytes('0x07904a959c3bd4d3ed9b9dee31390fbe79c97be2d274b8b3c6d0bd48ca416ad7'),\n",
       " 'parentHash': HexBytes('0x967fb7c714324204fcb6f5820a1191838bdc08d5c4dce0e17456dab39d0520d7'),\n",
       " 'mixHash': HexBytes('0x0000000000000000000000000000000000000000000000000000000000000000'),\n",
       " 'nonce': HexBytes('0x0000000000000000'),\n",
       " 'sha3Uncles': HexBytes('0x1dcc4de8dec75d7aab85b567b6ccd41ad312451b948a7413f0a142fd40d49347'),\n",
       " 'logsBloom': HexBytes('0x00000000000000000000000000000000000000000000000000000000000000000000000000000000000000000000000000000000000000000000000000000000000000000000000000000000000000000000000000000000000000000000000000000000000000000000000000000000000000000000000000000000000000000000000000000000000000000000000000000000000000000000000000000000000000000000000000000000000000000000000000000000000000000000000000000000000000000000000000000000000000000000000000000000000000000000000000000000000000000000000000000000000000000000000000000000'),\n",
       " 'transactionsRoot': HexBytes('0x102065f18d0ae06274d0b7316894b26ea7692f4b438cd78df2aecc5d8fc29e4e'),\n",
       " 'stateRoot': HexBytes('0x4a39b4ac319f882637f43d44a8d9bfc44f3dd7496846a16dea603f2697d7f90c'),\n",
       " 'receiptsRoot': HexBytes('0xca9924382b773ddb7024946f37fe5d0dcbc1fc90105e22590eaa00acdbb42b4c'),\n",
       " 'miner': '0x0000000000000000000000000000000000000000',\n",
       " 'difficulty': 0,\n",
       " 'totalDifficulty': 0,\n",
       " 'extraData': HexBytes('0x'),\n",
       " 'size': 1000,\n",
       " 'gasLimit': 6721975,\n",
       " 'gasUsed': 1338398,\n",
       " 'timestamp': 1562028316,\n",
       " 'transactions': [HexBytes('0x7ad16a4cb4dfa38437daad29815a481d76b99ed2b3430b015f054c599bae1507')],\n",
       " 'uncles': []})"
      ]
     },
     "execution_count": 20,
     "metadata": {},
     "output_type": "execute_result"
    }
   ],
   "source": [
    "w3.eth.getBlock(1)"
   ]
  },
  {
   "cell_type": "code",
   "execution_count": 21,
   "metadata": {},
   "outputs": [
    {
     "data": {
      "text/plain": [
       "AttributeDict({'number': 6,\n",
       " 'hash': HexBytes('0x78109ffd25389d3f92bef7d8342699279aa3087f81fb70d2f8930aa55c02f308'),\n",
       " 'parentHash': HexBytes('0x956e7f703a9c3799cac6df5db68dc4e57833d7085b76495016030409f06f7342'),\n",
       " 'mixHash': HexBytes('0x0000000000000000000000000000000000000000000000000000000000000000'),\n",
       " 'nonce': HexBytes('0x0000000000000000'),\n",
       " 'sha3Uncles': HexBytes('0x1dcc4de8dec75d7aab85b567b6ccd41ad312451b948a7413f0a142fd40d49347'),\n",
       " 'logsBloom': HexBytes('0x00000000000000000000000000000000000000000000000000000000000000000000000000000000000000000000000000000000000000000000000000000000000000000000000000000000000000000000000000000000000000000000000000000000000000000000000000000000000000000000000000000000000000000000000000000000000000000000000000000000000000000000000000000000000000000000000000000000000000000000000000000000000000000000000000000000000000000000000000000000000000000000000000000000000000000000000000000000000000000000000000000000000000000000000000000000'),\n",
       " 'transactionsRoot': HexBytes('0x8cc11a19b74a4657a8b01f06d584e9bde0565bfb5403904ca681145b42392f53'),\n",
       " 'stateRoot': HexBytes('0xfdfff07076ed4d4a178c6149526af7265e6045b84b0e405555b7246cb05bfc0c'),\n",
       " 'receiptsRoot': HexBytes('0x056b23fbba480696b65fe5a59b8f2148a1299103c4f57df839233af2cf4ca2d2'),\n",
       " 'miner': '0x0000000000000000000000000000000000000000',\n",
       " 'difficulty': 0,\n",
       " 'totalDifficulty': 0,\n",
       " 'extraData': HexBytes('0x'),\n",
       " 'size': 1000,\n",
       " 'gasLimit': 6721975,\n",
       " 'gasUsed': 21000,\n",
       " 'timestamp': 1562038445,\n",
       " 'transactions': [HexBytes('0x6bf733937647c57639cc9f3a15eba69b53bfc089785618a40d8224fbe756d324')],\n",
       " 'uncles': []})"
      ]
     },
     "execution_count": 21,
     "metadata": {},
     "output_type": "execute_result"
    }
   ],
   "source": [
    "# Retrieve the last block\n",
    "w3.eth.getBlock('latest')"
   ]
  },
  {
   "cell_type": "code",
   "execution_count": 22,
   "metadata": {},
   "outputs": [
    {
     "data": {
      "text/plain": [
       "6"
      ]
     },
     "execution_count": 22,
     "metadata": {},
     "output_type": "execute_result"
    }
   ],
   "source": [
    "# Directly obtain the current block number\n",
    "w3.eth.blockNumber"
   ]
  },
  {
   "cell_type": "markdown",
   "metadata": {},
   "source": [
    "### Loop up a transaction via hash"
   ]
  },
  {
   "cell_type": "code",
   "execution_count": 23,
   "metadata": {},
   "outputs": [
    {
     "data": {
      "text/plain": [
       "AttributeDict({'hash': HexBytes('0x045bb049f70bfbe1986a9c16c7f60085ce54e2bbd23544c0a3aa49252f6149c6'),\n",
       " 'nonce': 4,\n",
       " 'blockHash': HexBytes('0x956e7f703a9c3799cac6df5db68dc4e57833d7085b76495016030409f06f7342'),\n",
       " 'blockNumber': 5,\n",
       " 'transactionIndex': 0,\n",
       " 'from': '0x92D44e8579620F2Db88A12E70FE38e8CDB3541BA',\n",
       " 'to': '0xbf7ca7e607516Cd0F1b94a6C77F45fbFD936949C',\n",
       " 'value': 1500000000000000000,\n",
       " 'gas': 2000000,\n",
       " 'gasPrice': 40000000000,\n",
       " 'input': '0x',\n",
       " 'v': 41,\n",
       " 'r': HexBytes('0xe8f05a56b0e47ba19c6ebadf1639f24b6a3ac734d2bb72dda60922382f4e13a9'),\n",
       " 's': HexBytes('0x516a674972b7e2e07de836a8116fea8b41fd0666481b46cd6e70bc386e695dfe')})"
      ]
     },
     "execution_count": 23,
     "metadata": {},
     "output_type": "execute_result"
    }
   ],
   "source": [
    "w3.eth.getTransaction(txn_hash)"
   ]
  },
  {
   "cell_type": "code",
   "execution_count": 24,
   "metadata": {},
   "outputs": [
    {
     "data": {
      "text/plain": [
       "AttributeDict({'transactionHash': HexBytes('0x045bb049f70bfbe1986a9c16c7f60085ce54e2bbd23544c0a3aa49252f6149c6'),\n",
       " 'transactionIndex': 0,\n",
       " 'blockHash': HexBytes('0x956e7f703a9c3799cac6df5db68dc4e57833d7085b76495016030409f06f7342'),\n",
       " 'blockNumber': 5,\n",
       " 'from': '0x92d44e8579620f2db88a12e70fe38e8cdb3541ba',\n",
       " 'to': '0xbf7ca7e607516cd0f1b94a6c77f45fbfd936949c',\n",
       " 'gasUsed': 21000,\n",
       " 'cumulativeGasUsed': 21000,\n",
       " 'contractAddress': None,\n",
       " 'logs': [],\n",
       " 'status': 1,\n",
       " 'logsBloom': HexBytes('0x00000000000000000000000000000000000000000000000000000000000000000000000000000000000000000000000000000000000000000000000000000000000000000000000000000000000000000000000000000000000000000000000000000000000000000000000000000000000000000000000000000000000000000000000000000000000000000000000000000000000000000000000000000000000000000000000000000000000000000000000000000000000000000000000000000000000000000000000000000000000000000000000000000000000000000000000000000000000000000000000000000000000000000000000000000000'),\n",
       " 'v': '0x29',\n",
       " 'r': '0xe8f05a56b0e47ba19c6ebadf1639f24b6a3ac734d2bb72dda60922382f4e13a9',\n",
       " 's': '0x516a674972b7e2e07de836a8116fea8b41fd0666481b46cd6e70bc386e695dfe'})"
      ]
     },
     "execution_count": 24,
     "metadata": {},
     "output_type": "execute_result"
    }
   ],
   "source": [
    "# Transaction receipt\n",
    "w3.eth.getTransactionReceipt(txn_hash)"
   ]
  },
  {
   "cell_type": "markdown",
   "metadata": {},
   "source": [
    "### Compile contract"
   ]
  },
  {
   "cell_type": "markdown",
   "metadata": {},
   "source": [
    "Important that py-solc is installed for code to execute.  \n",
    "Update: No need to worry anymore -> LuceVM has all correct dependencies installed"
   ]
  },
  {
   "cell_type": "code",
   "execution_count": 25,
   "metadata": {},
   "outputs": [],
   "source": [
    "#!{sys.executable} -m pip install py-solc"
   ]
  },
  {
   "cell_type": "code",
   "execution_count": 26,
   "metadata": {},
   "outputs": [],
   "source": [
    "#!{sys.executable} -m pip install py-solc-x"
   ]
  },
  {
   "cell_type": "code",
   "execution_count": 27,
   "metadata": {},
   "outputs": [
    {
     "name": "stdout",
     "output_type": "stream",
     "text": [
      "Using solc version v0.4.25\n"
     ]
    }
   ],
   "source": [
    "import sys\n",
    "import time\n",
    "import pprint\n",
    "\n",
    "from web3.providers.eth_tester import EthereumTesterProvider\n",
    "from web3 import Web3\n",
    "from solcx import compile_source\n",
    "\n",
    "\n",
    "def compile_source_file(file_path):\n",
    "    with open(file_path, 'r') as f:\n",
    "        source = f.read()\n",
    "\n",
    "    return compile_source(source)"
   ]
  },
  {
   "cell_type": "code",
   "execution_count": 28,
   "metadata": {},
   "outputs": [],
   "source": [
    "contract_source_path = './data/contract.sol'"
   ]
  },
  {
   "cell_type": "code",
   "execution_count": 29,
   "metadata": {},
   "outputs": [],
   "source": [
    "compiled_sol = compile_source_file('./data/contract.sol')"
   ]
  },
  {
   "cell_type": "code",
   "execution_count": 30,
   "metadata": {},
   "outputs": [],
   "source": [
    "contract_id, contract_interface = compiled_sol.popitem()"
   ]
  },
  {
   "cell_type": "code",
   "execution_count": 31,
   "metadata": {},
   "outputs": [
    {
     "data": {
      "text/plain": [
       "'<stdin>:StoreVar'"
      ]
     },
     "execution_count": 31,
     "metadata": {},
     "output_type": "execute_result"
    }
   ],
   "source": [
    "contract_id"
   ]
  },
  {
   "cell_type": "code",
   "execution_count": 32,
   "metadata": {},
   "outputs": [
    {
     "data": {
      "text/plain": [
       "{'abi': [{'constant': True,\n",
       "   'inputs': [],\n",
       "   'name': '_myVar',\n",
       "   'outputs': [{'name': '', 'type': 'uint8'}],\n",
       "   'payable': False,\n",
       "   'stateMutability': 'view',\n",
       "   'type': 'function'},\n",
       "  {'constant': True,\n",
       "   'inputs': [],\n",
       "   'name': 'getVar',\n",
       "   'outputs': [{'name': '', 'type': 'uint8'}],\n",
       "   'payable': False,\n",
       "   'stateMutability': 'view',\n",
       "   'type': 'function'},\n",
       "  {'constant': False,\n",
       "   'inputs': [{'name': '_var', 'type': 'uint8'}],\n",
       "   'name': 'setVar',\n",
       "   'outputs': [],\n",
       "   'payable': False,\n",
       "   'stateMutability': 'nonpayable',\n",
       "   'type': 'function'},\n",
       "  {'anonymous': False,\n",
       "   'inputs': [{'indexed': True, 'name': '_var', 'type': 'uint256'}],\n",
       "   'name': 'MyEvent',\n",
       "   'type': 'event'}],\n",
       " 'asm': {'.code': [{'begin': 0, 'end': 262, 'name': 'PUSH', 'value': '80'},\n",
       "   {'begin': 0, 'end': 262, 'name': 'PUSH', 'value': '40'},\n",
       "   {'begin': 0, 'end': 262, 'name': 'MSTORE'},\n",
       "   {'begin': 0, 'end': 262, 'name': 'CALLVALUE'},\n",
       "   {'begin': 8, 'end': 17, 'name': 'DUP1'},\n",
       "   {'begin': 5, 'end': 7, 'name': 'ISZERO'},\n",
       "   {'begin': 5, 'end': 7, 'name': 'PUSH [tag]', 'value': '1'},\n",
       "   {'begin': 5, 'end': 7, 'name': 'JUMPI'},\n",
       "   {'begin': 30, 'end': 31, 'name': 'PUSH', 'value': '0'},\n",
       "   {'begin': 27, 'end': 28, 'name': 'DUP1'},\n",
       "   {'begin': 20, 'end': 32, 'name': 'REVERT'},\n",
       "   {'begin': 5, 'end': 7, 'name': 'tag', 'value': '1'},\n",
       "   {'begin': 5, 'end': 7, 'name': 'JUMPDEST'},\n",
       "   {'begin': 0, 'end': 262, 'name': 'POP'},\n",
       "   {'begin': 0,\n",
       "    'end': 262,\n",
       "    'name': 'PUSH #[$]',\n",
       "    'value': '0000000000000000000000000000000000000000000000000000000000000000'},\n",
       "   {'begin': 0, 'end': 262, 'name': 'DUP1'},\n",
       "   {'begin': 0,\n",
       "    'end': 262,\n",
       "    'name': 'PUSH [$]',\n",
       "    'value': '0000000000000000000000000000000000000000000000000000000000000000'},\n",
       "   {'begin': 0, 'end': 262, 'name': 'PUSH', 'value': '0'},\n",
       "   {'begin': 0, 'end': 262, 'name': 'CODECOPY'},\n",
       "   {'begin': 0, 'end': 262, 'name': 'PUSH', 'value': '0'},\n",
       "   {'begin': 0, 'end': 262, 'name': 'RETURN'}],\n",
       "  '.data': {'0': {'.auxdata': 'a165627a7a72305820e91a9290ababd7a0b53c14553e1023e2fb42ca34d2abf14b2590eaf3e0b31f990029',\n",
       "    '.code': [{'begin': 0, 'end': 262, 'name': 'PUSH', 'value': '80'},\n",
       "     {'begin': 0, 'end': 262, 'name': 'PUSH', 'value': '40'},\n",
       "     {'begin': 0, 'end': 262, 'name': 'MSTORE'},\n",
       "     {'begin': 0, 'end': 262, 'name': 'PUSH', 'value': '4'},\n",
       "     {'begin': 0, 'end': 262, 'name': 'CALLDATASIZE'},\n",
       "     {'begin': 0, 'end': 262, 'name': 'LT'},\n",
       "     {'begin': 0, 'end': 262, 'name': 'PUSH [tag]', 'value': '1'},\n",
       "     {'begin': 0, 'end': 262, 'name': 'JUMPI'},\n",
       "     {'begin': 0, 'end': 262, 'name': 'PUSH', 'value': '0'},\n",
       "     {'begin': 0, 'end': 262, 'name': 'CALLDATALOAD'},\n",
       "     {'begin': 0,\n",
       "      'end': 262,\n",
       "      'name': 'PUSH',\n",
       "      'value': '100000000000000000000000000000000000000000000000000000000'},\n",
       "     {'begin': 0, 'end': 262, 'name': 'SWAP1'},\n",
       "     {'begin': 0, 'end': 262, 'name': 'DIV'},\n",
       "     {'begin': 0, 'end': 262, 'name': 'PUSH', 'value': 'FFFFFFFF'},\n",
       "     {'begin': 0, 'end': 262, 'name': 'AND'},\n",
       "     {'begin': 0, 'end': 262, 'name': 'DUP1'},\n",
       "     {'begin': 0, 'end': 262, 'name': 'PUSH', 'value': '1AD4D87'},\n",
       "     {'begin': 0, 'end': 262, 'name': 'EQ'},\n",
       "     {'begin': 0, 'end': 262, 'name': 'PUSH [tag]', 'value': '2'},\n",
       "     {'begin': 0, 'end': 262, 'name': 'JUMPI'},\n",
       "     {'begin': 0, 'end': 262, 'name': 'DUP1'},\n",
       "     {'begin': 0, 'end': 262, 'name': 'PUSH', 'value': '477A5C98'},\n",
       "     {'begin': 0, 'end': 262, 'name': 'EQ'},\n",
       "     {'begin': 0, 'end': 262, 'name': 'PUSH [tag]', 'value': '3'},\n",
       "     {'begin': 0, 'end': 262, 'name': 'JUMPI'},\n",
       "     {'begin': 0, 'end': 262, 'name': 'DUP1'},\n",
       "     {'begin': 0, 'end': 262, 'name': 'PUSH', 'value': 'EDD89C08'},\n",
       "     {'begin': 0, 'end': 262, 'name': 'EQ'},\n",
       "     {'begin': 0, 'end': 262, 'name': 'PUSH [tag]', 'value': '4'},\n",
       "     {'begin': 0, 'end': 262, 'name': 'JUMPI'},\n",
       "     {'begin': 0, 'end': 262, 'name': 'tag', 'value': '1'},\n",
       "     {'begin': 0, 'end': 262, 'name': 'JUMPDEST'},\n",
       "     {'begin': 0, 'end': 262, 'name': 'PUSH', 'value': '0'},\n",
       "     {'begin': 0, 'end': 262, 'name': 'DUP1'},\n",
       "     {'begin': 0, 'end': 262, 'name': 'REVERT'},\n",
       "     {'begin': 25, 'end': 44, 'name': 'tag', 'value': '2'},\n",
       "     {'begin': 25, 'end': 44, 'name': 'JUMPDEST'},\n",
       "     {'begin': 25, 'end': 44, 'name': 'CALLVALUE'},\n",
       "     {'begin': 8, 'end': 17, 'name': 'DUP1'},\n",
       "     {'begin': 5, 'end': 7, 'name': 'ISZERO'},\n",
       "     {'begin': 5, 'end': 7, 'name': 'PUSH [tag]', 'value': '5'},\n",
       "     {'begin': 5, 'end': 7, 'name': 'JUMPI'},\n",
       "     {'begin': 30, 'end': 31, 'name': 'PUSH', 'value': '0'},\n",
       "     {'begin': 27, 'end': 28, 'name': 'DUP1'},\n",
       "     {'begin': 20, 'end': 32, 'name': 'REVERT'},\n",
       "     {'begin': 5, 'end': 7, 'name': 'tag', 'value': '5'},\n",
       "     {'begin': 5, 'end': 7, 'name': 'JUMPDEST'},\n",
       "     {'begin': 25, 'end': 44, 'name': 'POP'},\n",
       "     {'begin': 25, 'end': 44, 'name': 'PUSH [tag]', 'value': '6'},\n",
       "     {'begin': 25, 'end': 44, 'name': 'PUSH [tag]', 'value': '7'},\n",
       "     {'begin': 25, 'end': 44, 'name': 'JUMP'},\n",
       "     {'begin': 25, 'end': 44, 'name': 'tag', 'value': '6'},\n",
       "     {'begin': 25, 'end': 44, 'name': 'JUMPDEST'},\n",
       "     {'begin': 25, 'end': 44, 'name': 'PUSH', 'value': '40'},\n",
       "     {'begin': 25, 'end': 44, 'name': 'MLOAD'},\n",
       "     {'begin': 25, 'end': 44, 'name': 'DUP1'},\n",
       "     {'begin': 25, 'end': 44, 'name': 'DUP3'},\n",
       "     {'begin': 25, 'end': 44, 'name': 'PUSH', 'value': 'FF'},\n",
       "     {'begin': 25, 'end': 44, 'name': 'AND'},\n",
       "     {'begin': 25, 'end': 44, 'name': 'PUSH', 'value': 'FF'},\n",
       "     {'begin': 25, 'end': 44, 'name': 'AND'},\n",
       "     {'begin': 25, 'end': 44, 'name': 'DUP2'},\n",
       "     {'begin': 25, 'end': 44, 'name': 'MSTORE'},\n",
       "     {'begin': 25, 'end': 44, 'name': 'PUSH', 'value': '20'},\n",
       "     {'begin': 25, 'end': 44, 'name': 'ADD'},\n",
       "     {'begin': 25, 'end': 44, 'name': 'SWAP2'},\n",
       "     {'begin': 25, 'end': 44, 'name': 'POP'},\n",
       "     {'begin': 25, 'end': 44, 'name': 'POP'},\n",
       "     {'begin': 25, 'end': 44, 'name': 'PUSH', 'value': '40'},\n",
       "     {'begin': 25, 'end': 44, 'name': 'MLOAD'},\n",
       "     {'begin': 25, 'end': 44, 'name': 'DUP1'},\n",
       "     {'begin': 25, 'end': 44, 'name': 'SWAP2'},\n",
       "     {'begin': 25, 'end': 44, 'name': 'SUB'},\n",
       "     {'begin': 25, 'end': 44, 'name': 'SWAP1'},\n",
       "     {'begin': 25, 'end': 44, 'name': 'RETURN'},\n",
       "     {'begin': 183, 'end': 259, 'name': 'tag', 'value': '3'},\n",
       "     {'begin': 183, 'end': 259, 'name': 'JUMPDEST'},\n",
       "     {'begin': 183, 'end': 259, 'name': 'CALLVALUE'},\n",
       "     {'begin': 8, 'end': 17, 'name': 'DUP1'},\n",
       "     {'begin': 5, 'end': 7, 'name': 'ISZERO'},\n",
       "     {'begin': 5, 'end': 7, 'name': 'PUSH [tag]', 'value': '8'},\n",
       "     {'begin': 5, 'end': 7, 'name': 'JUMPI'},\n",
       "     {'begin': 30, 'end': 31, 'name': 'PUSH', 'value': '0'},\n",
       "     {'begin': 27, 'end': 28, 'name': 'DUP1'},\n",
       "     {'begin': 20, 'end': 32, 'name': 'REVERT'},\n",
       "     {'begin': 5, 'end': 7, 'name': 'tag', 'value': '8'},\n",
       "     {'begin': 5, 'end': 7, 'name': 'JUMPDEST'},\n",
       "     {'begin': 183, 'end': 259, 'name': 'POP'},\n",
       "     {'begin': 183, 'end': 259, 'name': 'PUSH [tag]', 'value': '9'},\n",
       "     {'begin': 183, 'end': 259, 'name': 'PUSH [tag]', 'value': '10'},\n",
       "     {'begin': 183, 'end': 259, 'name': 'JUMP'},\n",
       "     {'begin': 183, 'end': 259, 'name': 'tag', 'value': '9'},\n",
       "     {'begin': 183, 'end': 259, 'name': 'JUMPDEST'},\n",
       "     {'begin': 183, 'end': 259, 'name': 'PUSH', 'value': '40'},\n",
       "     {'begin': 183, 'end': 259, 'name': 'MLOAD'},\n",
       "     {'begin': 183, 'end': 259, 'name': 'DUP1'},\n",
       "     {'begin': 183, 'end': 259, 'name': 'DUP3'},\n",
       "     {'begin': 183, 'end': 259, 'name': 'PUSH', 'value': 'FF'},\n",
       "     {'begin': 183, 'end': 259, 'name': 'AND'},\n",
       "     {'begin': 183, 'end': 259, 'name': 'PUSH', 'value': 'FF'},\n",
       "     {'begin': 183, 'end': 259, 'name': 'AND'},\n",
       "     {'begin': 183, 'end': 259, 'name': 'DUP2'},\n",
       "     {'begin': 183, 'end': 259, 'name': 'MSTORE'},\n",
       "     {'begin': 183, 'end': 259, 'name': 'PUSH', 'value': '20'},\n",
       "     {'begin': 183, 'end': 259, 'name': 'ADD'},\n",
       "     {'begin': 183, 'end': 259, 'name': 'SWAP2'},\n",
       "     {'begin': 183, 'end': 259, 'name': 'POP'},\n",
       "     {'begin': 183, 'end': 259, 'name': 'POP'},\n",
       "     {'begin': 183, 'end': 259, 'name': 'PUSH', 'value': '40'},\n",
       "     {'begin': 183, 'end': 259, 'name': 'MLOAD'},\n",
       "     {'begin': 183, 'end': 259, 'name': 'DUP1'},\n",
       "     {'begin': 183, 'end': 259, 'name': 'SWAP2'},\n",
       "     {'begin': 183, 'end': 259, 'name': 'SUB'},\n",
       "     {'begin': 183, 'end': 259, 'name': 'SWAP1'},\n",
       "     {'begin': 183, 'end': 259, 'name': 'RETURN'},\n",
       "     {'begin': 89, 'end': 177, 'name': 'tag', 'value': '4'},\n",
       "     {'begin': 89, 'end': 177, 'name': 'JUMPDEST'},\n",
       "     {'begin': 89, 'end': 177, 'name': 'CALLVALUE'},\n",
       "     {'begin': 8, 'end': 17, 'name': 'DUP1'},\n",
       "     {'begin': 5, 'end': 7, 'name': 'ISZERO'},\n",
       "     {'begin': 5, 'end': 7, 'name': 'PUSH [tag]', 'value': '11'},\n",
       "     {'begin': 5, 'end': 7, 'name': 'JUMPI'},\n",
       "     {'begin': 30, 'end': 31, 'name': 'PUSH', 'value': '0'},\n",
       "     {'begin': 27, 'end': 28, 'name': 'DUP1'},\n",
       "     {'begin': 20, 'end': 32, 'name': 'REVERT'},\n",
       "     {'begin': 5, 'end': 7, 'name': 'tag', 'value': '11'},\n",
       "     {'begin': 5, 'end': 7, 'name': 'JUMPDEST'},\n",
       "     {'begin': 89, 'end': 177, 'name': 'POP'},\n",
       "     {'begin': 89, 'end': 177, 'name': 'PUSH [tag]', 'value': '12'},\n",
       "     {'begin': 89, 'end': 177, 'name': 'PUSH', 'value': '4'},\n",
       "     {'begin': 89, 'end': 177, 'name': 'DUP1'},\n",
       "     {'begin': 89, 'end': 177, 'name': 'CALLDATASIZE'},\n",
       "     {'begin': 89, 'end': 177, 'name': 'SUB'},\n",
       "     {'begin': 89, 'end': 177, 'name': 'DUP2'},\n",
       "     {'begin': 89, 'end': 177, 'name': 'ADD'},\n",
       "     {'begin': 89, 'end': 177, 'name': 'SWAP1'},\n",
       "     {'begin': 89, 'end': 177, 'name': 'DUP1'},\n",
       "     {'begin': 89, 'end': 177, 'name': 'DUP1'},\n",
       "     {'begin': 89, 'end': 177, 'name': 'CALLDATALOAD'},\n",
       "     {'begin': 89, 'end': 177, 'name': 'PUSH', 'value': 'FF'},\n",
       "     {'begin': 89, 'end': 177, 'name': 'AND'},\n",
       "     {'begin': 89, 'end': 177, 'name': 'SWAP1'},\n",
       "     {'begin': 89, 'end': 177, 'name': 'PUSH', 'value': '20'},\n",
       "     {'begin': 89, 'end': 177, 'name': 'ADD'},\n",
       "     {'begin': 89, 'end': 177, 'name': 'SWAP1'},\n",
       "     {'begin': 89, 'end': 177, 'name': 'SWAP3'},\n",
       "     {'begin': 89, 'end': 177, 'name': 'SWAP2'},\n",
       "     {'begin': 89, 'end': 177, 'name': 'SWAP1'},\n",
       "     {'begin': 89, 'end': 177, 'name': 'POP'},\n",
       "     {'begin': 89, 'end': 177, 'name': 'POP'},\n",
       "     {'begin': 89, 'end': 177, 'name': 'POP'},\n",
       "     {'begin': 89, 'end': 177, 'name': 'PUSH [tag]', 'value': '13'},\n",
       "     {'begin': 89, 'end': 177, 'name': 'JUMP'},\n",
       "     {'begin': 89, 'end': 177, 'name': 'tag', 'value': '12'},\n",
       "     {'begin': 89, 'end': 177, 'name': 'JUMPDEST'},\n",
       "     {'begin': 89, 'end': 177, 'name': 'STOP'},\n",
       "     {'begin': 25, 'end': 44, 'name': 'tag', 'value': '7'},\n",
       "     {'begin': 25, 'end': 44, 'name': 'JUMPDEST'},\n",
       "     {'begin': 25, 'end': 44, 'name': 'PUSH', 'value': '0'},\n",
       "     {'begin': 25, 'end': 44, 'name': 'DUP1'},\n",
       "     {'begin': 25, 'end': 44, 'name': 'SWAP1'},\n",
       "     {'begin': 25, 'end': 44, 'name': 'SLOAD'},\n",
       "     {'begin': 25, 'end': 44, 'name': 'SWAP1'},\n",
       "     {'begin': 25, 'end': 44, 'name': 'PUSH', 'value': '100'},\n",
       "     {'begin': 25, 'end': 44, 'name': 'EXP'},\n",
       "     {'begin': 25, 'end': 44, 'name': 'SWAP1'},\n",
       "     {'begin': 25, 'end': 44, 'name': 'DIV'},\n",
       "     {'begin': 25, 'end': 44, 'name': 'PUSH', 'value': 'FF'},\n",
       "     {'begin': 25, 'end': 44, 'name': 'AND'},\n",
       "     {'begin': 25, 'end': 44, 'name': 'DUP2'},\n",
       "     {'begin': 25, 'end': 44, 'name': 'JUMP', 'value': '[out]'},\n",
       "     {'begin': 183, 'end': 259, 'name': 'tag', 'value': '10'},\n",
       "     {'begin': 183, 'end': 259, 'name': 'JUMPDEST'},\n",
       "     {'begin': 222, 'end': 227, 'name': 'PUSH', 'value': '0'},\n",
       "     {'begin': 246, 'end': 252, 'name': 'DUP1'},\n",
       "     {'begin': 246, 'end': 252, 'name': 'PUSH', 'value': '0'},\n",
       "     {'begin': 246, 'end': 252, 'name': 'SWAP1'},\n",
       "     {'begin': 246, 'end': 252, 'name': 'SLOAD'},\n",
       "     {'begin': 246, 'end': 252, 'name': 'SWAP1'},\n",
       "     {'begin': 246, 'end': 252, 'name': 'PUSH', 'value': '100'},\n",
       "     {'begin': 246, 'end': 252, 'name': 'EXP'},\n",
       "     {'begin': 246, 'end': 252, 'name': 'SWAP1'},\n",
       "     {'begin': 246, 'end': 252, 'name': 'DIV'},\n",
       "     {'begin': 246, 'end': 252, 'name': 'PUSH', 'value': 'FF'},\n",
       "     {'begin': 246, 'end': 252, 'name': 'AND'},\n",
       "     {'begin': 239, 'end': 252, 'name': 'SWAP1'},\n",
       "     {'begin': 239, 'end': 252, 'name': 'POP'},\n",
       "     {'begin': 183, 'end': 259, 'name': 'SWAP1'},\n",
       "     {'begin': 183, 'end': 259, 'name': 'JUMP', 'value': '[out]'},\n",
       "     {'begin': 89, 'end': 177, 'name': 'tag', 'value': '13'},\n",
       "     {'begin': 89, 'end': 177, 'name': 'JUMPDEST'},\n",
       "     {'begin': 143, 'end': 147, 'name': 'DUP1'},\n",
       "     {'begin': 134, 'end': 140, 'name': 'PUSH', 'value': '0'},\n",
       "     {'begin': 134, 'end': 140, 'name': 'DUP1'},\n",
       "     {'begin': 134, 'end': 147, 'name': 'PUSH', 'value': '100'},\n",
       "     {'begin': 134, 'end': 147, 'name': 'EXP'},\n",
       "     {'begin': 134, 'end': 147, 'name': 'DUP2'},\n",
       "     {'begin': 134, 'end': 147, 'name': 'SLOAD'},\n",
       "     {'begin': 134, 'end': 147, 'name': 'DUP2'},\n",
       "     {'begin': 134, 'end': 147, 'name': 'PUSH', 'value': 'FF'},\n",
       "     {'begin': 134, 'end': 147, 'name': 'MUL'},\n",
       "     {'begin': 134, 'end': 147, 'name': 'NOT'},\n",
       "     {'begin': 134, 'end': 147, 'name': 'AND'},\n",
       "     {'begin': 134, 'end': 147, 'name': 'SWAP1'},\n",
       "     {'begin': 134, 'end': 147, 'name': 'DUP4'},\n",
       "     {'begin': 134, 'end': 147, 'name': 'PUSH', 'value': 'FF'},\n",
       "     {'begin': 134, 'end': 147, 'name': 'AND'},\n",
       "     {'begin': 134, 'end': 147, 'name': 'MUL'},\n",
       "     {'begin': 134, 'end': 147, 'name': 'OR'},\n",
       "     {'begin': 134, 'end': 147, 'name': 'SWAP1'},\n",
       "     {'begin': 134, 'end': 147, 'name': 'SSTORE'},\n",
       "     {'begin': 134, 'end': 147, 'name': 'POP'},\n",
       "     {'begin': 165, 'end': 169, 'name': 'DUP1'},\n",
       "     {'begin': 157, 'end': 170, 'name': 'PUSH', 'value': 'FF'},\n",
       "     {'begin': 157, 'end': 170, 'name': 'AND'},\n",
       "     {'begin': 157,\n",
       "      'end': 170,\n",
       "      'name': 'PUSH',\n",
       "      'value': '6C2B4666BA8DA5A95717621D879A77DE725F3D816709B9CBE9F059B8F875E284'},\n",
       "     {'begin': 157, 'end': 170, 'name': 'PUSH', 'value': '40'},\n",
       "     {'begin': 157, 'end': 170, 'name': 'MLOAD'},\n",
       "     {'begin': 157, 'end': 170, 'name': 'PUSH', 'value': '40'},\n",
       "     {'begin': 157, 'end': 170, 'name': 'MLOAD'},\n",
       "     {'begin': 157, 'end': 170, 'name': 'DUP1'},\n",
       "     {'begin': 157, 'end': 170, 'name': 'SWAP2'},\n",
       "     {'begin': 157, 'end': 170, 'name': 'SUB'},\n",
       "     {'begin': 157, 'end': 170, 'name': 'SWAP1'},\n",
       "     {'begin': 157, 'end': 170, 'name': 'LOG2'},\n",
       "     {'begin': 89, 'end': 177, 'name': 'POP'},\n",
       "     {'begin': 89, 'end': 177, 'name': 'JUMP', 'value': '[out]'}]}}},\n",
       " 'bin': '608060405234801561001057600080fd5b5061018f806100206000396000f300608060405260043610610057576000357c0100000000000000000000000000000000000000000000000000000000900463ffffffff16806301ad4d871461005c578063477a5c981461008d578063edd89c08146100be575b600080fd5b34801561006857600080fd5b506100716100ee565b604051808260ff1660ff16815260200191505060405180910390f35b34801561009957600080fd5b506100a2610100565b604051808260ff1660ff16815260200191505060405180910390f35b3480156100ca57600080fd5b506100ec600480360381019080803560ff169060200190929190505050610116565b005b6000809054906101000a900460ff1681565b60008060009054906101000a900460ff16905090565b806000806101000a81548160ff021916908360ff1602179055508060ff167f6c2b4666ba8da5a95717621d879a77de725f3d816709b9cbe9f059b8f875e28460405160405180910390a2505600a165627a7a72305820e91a9290ababd7a0b53c14553e1023e2fb42ca34d2abf14b2590eaf3e0b31f990029',\n",
       " 'bin-runtime': '608060405260043610610057576000357c0100000000000000000000000000000000000000000000000000000000900463ffffffff16806301ad4d871461005c578063477a5c981461008d578063edd89c08146100be575b600080fd5b34801561006857600080fd5b506100716100ee565b604051808260ff1660ff16815260200191505060405180910390f35b34801561009957600080fd5b506100a2610100565b604051808260ff1660ff16815260200191505060405180910390f35b3480156100ca57600080fd5b506100ec600480360381019080803560ff169060200190929190505050610116565b005b6000809054906101000a900460ff1681565b60008060009054906101000a900460ff16905090565b806000806101000a81548160ff021916908360ff1602179055508060ff167f6c2b4666ba8da5a95717621d879a77de725f3d816709b9cbe9f059b8f875e28460405160405180910390a2505600a165627a7a72305820e91a9290ababd7a0b53c14553e1023e2fb42ca34d2abf14b2590eaf3e0b31f990029',\n",
       " 'clone-bin': '6080604052348015600f57600080fd5b50603380601d6000396000f30036600080376020600036600073cafecafecafecafecafecafecafecafecafecafe6102c65a03f41515602d57fe5b60206000f3',\n",
       " 'devdoc': '{\"methods\":{}}',\n",
       " 'opcodes': 'PUSH1 0x80 PUSH1 0x40 MSTORE CALLVALUE DUP1 ISZERO PUSH2 0x10 JUMPI PUSH1 0x0 DUP1 REVERT JUMPDEST POP PUSH2 0x18F DUP1 PUSH2 0x20 PUSH1 0x0 CODECOPY PUSH1 0x0 RETURN STOP PUSH1 0x80 PUSH1 0x40 MSTORE PUSH1 0x4 CALLDATASIZE LT PUSH2 0x57 JUMPI PUSH1 0x0 CALLDATALOAD PUSH29 0x100000000000000000000000000000000000000000000000000000000 SWAP1 DIV PUSH4 0xFFFFFFFF AND DUP1 PUSH4 0x1AD4D87 EQ PUSH2 0x5C JUMPI DUP1 PUSH4 0x477A5C98 EQ PUSH2 0x8D JUMPI DUP1 PUSH4 0xEDD89C08 EQ PUSH2 0xBE JUMPI JUMPDEST PUSH1 0x0 DUP1 REVERT JUMPDEST CALLVALUE DUP1 ISZERO PUSH2 0x68 JUMPI PUSH1 0x0 DUP1 REVERT JUMPDEST POP PUSH2 0x71 PUSH2 0xEE JUMP JUMPDEST PUSH1 0x40 MLOAD DUP1 DUP3 PUSH1 0xFF AND PUSH1 0xFF AND DUP2 MSTORE PUSH1 0x20 ADD SWAP2 POP POP PUSH1 0x40 MLOAD DUP1 SWAP2 SUB SWAP1 RETURN JUMPDEST CALLVALUE DUP1 ISZERO PUSH2 0x99 JUMPI PUSH1 0x0 DUP1 REVERT JUMPDEST POP PUSH2 0xA2 PUSH2 0x100 JUMP JUMPDEST PUSH1 0x40 MLOAD DUP1 DUP3 PUSH1 0xFF AND PUSH1 0xFF AND DUP2 MSTORE PUSH1 0x20 ADD SWAP2 POP POP PUSH1 0x40 MLOAD DUP1 SWAP2 SUB SWAP1 RETURN JUMPDEST CALLVALUE DUP1 ISZERO PUSH2 0xCA JUMPI PUSH1 0x0 DUP1 REVERT JUMPDEST POP PUSH2 0xEC PUSH1 0x4 DUP1 CALLDATASIZE SUB DUP2 ADD SWAP1 DUP1 DUP1 CALLDATALOAD PUSH1 0xFF AND SWAP1 PUSH1 0x20 ADD SWAP1 SWAP3 SWAP2 SWAP1 POP POP POP PUSH2 0x116 JUMP JUMPDEST STOP JUMPDEST PUSH1 0x0 DUP1 SWAP1 SLOAD SWAP1 PUSH2 0x100 EXP SWAP1 DIV PUSH1 0xFF AND DUP2 JUMP JUMPDEST PUSH1 0x0 DUP1 PUSH1 0x0 SWAP1 SLOAD SWAP1 PUSH2 0x100 EXP SWAP1 DIV PUSH1 0xFF AND SWAP1 POP SWAP1 JUMP JUMPDEST DUP1 PUSH1 0x0 DUP1 PUSH2 0x100 EXP DUP2 SLOAD DUP2 PUSH1 0xFF MUL NOT AND SWAP1 DUP4 PUSH1 0xFF AND MUL OR SWAP1 SSTORE POP DUP1 PUSH1 0xFF AND PUSH32 0x6C2B4666BA8DA5A95717621D879A77DE725F3D816709B9CBE9F059B8F875E284 PUSH1 0x40 MLOAD PUSH1 0x40 MLOAD DUP1 SWAP2 SUB SWAP1 LOG2 POP JUMP STOP LOG1 PUSH6 0x627A7A723058 KECCAK256 0xe9 BYTE SWAP3 SWAP1 0xab 0xab 0xd7 LOG0 0xb5 EXTCODECOPY EQ SSTORE RETURNDATACOPY LT 0x23 0xe2 CREATE2 TIMESTAMP 0xca CALLVALUE 0xd2 0xab CALL 0x4b 0x25 SWAP1 0xea RETURN 0xe0 0xb3 0x1f SWAP10 STOP 0x29 ',\n",
       " 'userdoc': '{\"methods\":{}}',\n",
       " 'ast': {'attributes': {'absolutePath': '<stdin>',\n",
       "   'exportedSymbols': {'StoreVar': [29]}},\n",
       "  'children': [{'attributes': {'baseContracts': [None],\n",
       "     'contractDependencies': [None],\n",
       "     'contractKind': 'contract',\n",
       "     'documentation': None,\n",
       "     'fullyImplemented': True,\n",
       "     'linearizedBaseContracts': [29],\n",
       "     'name': 'StoreVar',\n",
       "     'scope': 30},\n",
       "    'children': [{'attributes': {'constant': False,\n",
       "       'name': '_myVar',\n",
       "       'scope': 29,\n",
       "       'stateVariable': True,\n",
       "       'storageLocation': 'default',\n",
       "       'type': 'uint8',\n",
       "       'value': None,\n",
       "       'visibility': 'public'},\n",
       "      'children': [{'attributes': {'name': 'uint8', 'type': 'uint8'},\n",
       "        'id': 1,\n",
       "        'name': 'ElementaryTypeName',\n",
       "        'src': '25:5:0'}],\n",
       "      'id': 2,\n",
       "      'name': 'VariableDeclaration',\n",
       "      'src': '25:19:0'},\n",
       "     {'attributes': {'anonymous': False,\n",
       "       'documentation': None,\n",
       "       'name': 'MyEvent'},\n",
       "      'children': [{'children': [{'attributes': {'constant': False,\n",
       "           'indexed': True,\n",
       "           'name': '_var',\n",
       "           'scope': 6,\n",
       "           'stateVariable': False,\n",
       "           'storageLocation': 'default',\n",
       "           'type': 'uint256',\n",
       "           'value': None,\n",
       "           'visibility': 'internal'},\n",
       "          'children': [{'attributes': {'name': 'uint', 'type': 'uint256'},\n",
       "            'id': 3,\n",
       "            'name': 'ElementaryTypeName',\n",
       "            'src': '64:4:0'}],\n",
       "          'id': 4,\n",
       "          'name': 'VariableDeclaration',\n",
       "          'src': '64:17:0'}],\n",
       "        'id': 5,\n",
       "        'name': 'ParameterList',\n",
       "        'src': '63:19:0'}],\n",
       "      'id': 6,\n",
       "      'name': 'EventDefinition',\n",
       "      'src': '50:33:0'},\n",
       "     {'attributes': {'constant': False,\n",
       "       'documentation': None,\n",
       "       'implemented': True,\n",
       "       'isConstructor': False,\n",
       "       'modifiers': [None],\n",
       "       'name': 'setVar',\n",
       "       'payable': False,\n",
       "       'scope': 29,\n",
       "       'stateMutability': 'nonpayable',\n",
       "       'superFunction': None,\n",
       "       'visibility': 'public'},\n",
       "      'children': [{'children': [{'attributes': {'constant': False,\n",
       "           'name': '_var',\n",
       "           'scope': 20,\n",
       "           'stateVariable': False,\n",
       "           'storageLocation': 'default',\n",
       "           'type': 'uint8',\n",
       "           'value': None,\n",
       "           'visibility': 'internal'},\n",
       "          'children': [{'attributes': {'name': 'uint8', 'type': 'uint8'},\n",
       "            'id': 7,\n",
       "            'name': 'ElementaryTypeName',\n",
       "            'src': '105:5:0'}],\n",
       "          'id': 8,\n",
       "          'name': 'VariableDeclaration',\n",
       "          'src': '105:10:0'}],\n",
       "        'id': 9,\n",
       "        'name': 'ParameterList',\n",
       "        'src': '104:12:0'},\n",
       "       {'attributes': {'parameters': [None]},\n",
       "        'children': [],\n",
       "        'id': 10,\n",
       "        'name': 'ParameterList',\n",
       "        'src': '124:0:0'},\n",
       "       {'children': [{'children': [{'attributes': {'argumentTypes': None,\n",
       "             'isConstant': False,\n",
       "             'isLValue': False,\n",
       "             'isPure': False,\n",
       "             'lValueRequested': False,\n",
       "             'operator': '=',\n",
       "             'type': 'uint8'},\n",
       "            'children': [{'attributes': {'argumentTypes': None,\n",
       "               'overloadedDeclarations': [None],\n",
       "               'referencedDeclaration': 2,\n",
       "               'type': 'uint8',\n",
       "               'value': '_myVar'},\n",
       "              'id': 11,\n",
       "              'name': 'Identifier',\n",
       "              'src': '134:6:0'},\n",
       "             {'attributes': {'argumentTypes': None,\n",
       "               'overloadedDeclarations': [None],\n",
       "               'referencedDeclaration': 8,\n",
       "               'type': 'uint8',\n",
       "               'value': '_var'},\n",
       "              'id': 12,\n",
       "              'name': 'Identifier',\n",
       "              'src': '143:4:0'}],\n",
       "            'id': 13,\n",
       "            'name': 'Assignment',\n",
       "            'src': '134:13:0'}],\n",
       "          'id': 14,\n",
       "          'name': 'ExpressionStatement',\n",
       "          'src': '134:13:0'},\n",
       "         {'children': [{'attributes': {'argumentTypes': None,\n",
       "             'isConstant': False,\n",
       "             'isLValue': False,\n",
       "             'isPure': False,\n",
       "             'isStructConstructorCall': False,\n",
       "             'lValueRequested': False,\n",
       "             'names': [None],\n",
       "             'type': 'tuple()',\n",
       "             'type_conversion': False},\n",
       "            'children': [{'attributes': {'argumentTypes': [{'typeIdentifier': 't_uint8',\n",
       "                 'typeString': 'uint8'}],\n",
       "               'overloadedDeclarations': [None],\n",
       "               'referencedDeclaration': 6,\n",
       "               'type': 'function (uint256)',\n",
       "               'value': 'MyEvent'},\n",
       "              'id': 15,\n",
       "              'name': 'Identifier',\n",
       "              'src': '157:7:0'},\n",
       "             {'attributes': {'argumentTypes': None,\n",
       "               'overloadedDeclarations': [None],\n",
       "               'referencedDeclaration': 8,\n",
       "               'type': 'uint8',\n",
       "               'value': '_var'},\n",
       "              'id': 16,\n",
       "              'name': 'Identifier',\n",
       "              'src': '165:4:0'}],\n",
       "            'id': 17,\n",
       "            'name': 'FunctionCall',\n",
       "            'src': '157:13:0'}],\n",
       "          'id': 18,\n",
       "          'name': 'ExpressionStatement',\n",
       "          'src': '157:13:0'}],\n",
       "        'id': 19,\n",
       "        'name': 'Block',\n",
       "        'src': '124:53:0'}],\n",
       "      'id': 20,\n",
       "      'name': 'FunctionDefinition',\n",
       "      'src': '89:88:0'},\n",
       "     {'attributes': {'constant': True,\n",
       "       'documentation': None,\n",
       "       'implemented': True,\n",
       "       'isConstructor': False,\n",
       "       'modifiers': [None],\n",
       "       'name': 'getVar',\n",
       "       'payable': False,\n",
       "       'scope': 29,\n",
       "       'stateMutability': 'view',\n",
       "       'superFunction': None,\n",
       "       'visibility': 'public'},\n",
       "      'children': [{'attributes': {'parameters': [None]},\n",
       "        'children': [],\n",
       "        'id': 21,\n",
       "        'name': 'ParameterList',\n",
       "        'src': '198:2:0'},\n",
       "       {'children': [{'attributes': {'constant': False,\n",
       "           'name': '',\n",
       "           'scope': 28,\n",
       "           'stateVariable': False,\n",
       "           'storageLocation': 'default',\n",
       "           'type': 'uint8',\n",
       "           'value': None,\n",
       "           'visibility': 'internal'},\n",
       "          'children': [{'attributes': {'name': 'uint8', 'type': 'uint8'},\n",
       "            'id': 22,\n",
       "            'name': 'ElementaryTypeName',\n",
       "            'src': '222:5:0'}],\n",
       "          'id': 23,\n",
       "          'name': 'VariableDeclaration',\n",
       "          'src': '222:5:0'}],\n",
       "        'id': 24,\n",
       "        'name': 'ParameterList',\n",
       "        'src': '221:7:0'},\n",
       "       {'children': [{'attributes': {'functionReturnParameters': 24},\n",
       "          'children': [{'attributes': {'argumentTypes': None,\n",
       "             'overloadedDeclarations': [None],\n",
       "             'referencedDeclaration': 2,\n",
       "             'type': 'uint8',\n",
       "             'value': '_myVar'},\n",
       "            'id': 25,\n",
       "            'name': 'Identifier',\n",
       "            'src': '246:6:0'}],\n",
       "          'id': 26,\n",
       "          'name': 'Return',\n",
       "          'src': '239:13:0'}],\n",
       "        'id': 27,\n",
       "        'name': 'Block',\n",
       "        'src': '229:30:0'}],\n",
       "      'id': 28,\n",
       "      'name': 'FunctionDefinition',\n",
       "      'src': '183:76:0'}],\n",
       "    'id': 29,\n",
       "    'name': 'ContractDefinition',\n",
       "    'src': '0:262:0'}],\n",
       "  'id': 30,\n",
       "  'name': 'SourceUnit',\n",
       "  'src': '0:263:0'}}"
      ]
     },
     "execution_count": 32,
     "metadata": {},
     "output_type": "execute_result"
    }
   ],
   "source": [
    "# Interface contains ABI and more\n",
    "contract_interface"
   ]
  },
  {
   "cell_type": "markdown",
   "metadata": {},
   "source": [
    "Up to this point everything is working. We can compile the contract and also have the abi and binary code conveniently stored in our ```contract_interface```."
   ]
  },
  {
   "cell_type": "markdown",
   "metadata": {},
   "source": [
    "### Deploy Contract"
   ]
  },
  {
   "cell_type": "markdown",
   "metadata": {},
   "source": [
    "Method 1:"
   ]
  },
  {
   "cell_type": "code",
   "execution_count": 33,
   "metadata": {},
   "outputs": [],
   "source": [
    "# Define default account (used as default for 'from' property in transaction dictionary)\n",
    "w3.eth.defaultAccount = wallet_address"
   ]
  },
  {
   "cell_type": "code",
   "execution_count": 34,
   "metadata": {},
   "outputs": [],
   "source": [
    "# Store abi and bytecode of contract\n",
    "abi = contract_interface['abi']\n",
    "bytecode = contract_interface['bin']"
   ]
  },
  {
   "cell_type": "code",
   "execution_count": 35,
   "metadata": {},
   "outputs": [],
   "source": [
    "# Create contract object\n",
    "my_contract = w3.eth.contract(abi=abi,bytecode=bytecode)"
   ]
  },
  {
   "cell_type": "code",
   "execution_count": 36,
   "metadata": {},
   "outputs": [
    {
     "name": "stderr",
     "output_type": "stream",
     "text": [
      "/home/vagrant/miniconda/envs/luce_vm/lib/python3.7/site-packages/ipykernel_launcher.py:2: DeprecationWarning: deploy is deprecated in favor of contract.constructor.transact\n",
      "  \n"
     ]
    }
   ],
   "source": [
    "# Deploy contract and obtain transaction hash\n",
    "tx_hash = my_contract.deploy()"
   ]
  },
  {
   "cell_type": "markdown",
   "metadata": {},
   "source": [
    "This does work however this approach is deprecated..  \n",
    "Even though the web3.py documentation itself still uses this approach in their examples section."
   ]
  },
  {
   "cell_type": "markdown",
   "metadata": {},
   "source": [
    "Method 2:"
   ]
  },
  {
   "cell_type": "code",
   "execution_count": 37,
   "metadata": {},
   "outputs": [],
   "source": [
    "def deploy_contract(w3, contract_interface):\n",
    "    tx_hash = w3.eth.contract(\n",
    "        abi=contract_interface['abi'],\n",
    "        bytecode=contract_interface['bin']).deploy()\n",
    "\n",
    "    address = w3.eth.getTransactionReceipt(tx_hash)['contractAddress']\n",
    "    return address"
   ]
  },
  {
   "cell_type": "code",
   "execution_count": 38,
   "metadata": {},
   "outputs": [
    {
     "name": "stderr",
     "output_type": "stream",
     "text": [
      "/home/vagrant/miniconda/envs/luce_vm/lib/python3.7/site-packages/ipykernel_launcher.py:4: DeprecationWarning: deploy is deprecated in favor of contract.constructor.transact\n",
      "  after removing the cwd from sys.path.\n"
     ]
    }
   ],
   "source": [
    "address = deploy_contract(w3, contract_interface)"
   ]
  },
  {
   "cell_type": "code",
   "execution_count": 39,
   "metadata": {},
   "outputs": [
    {
     "name": "stdout",
     "output_type": "stream",
     "text": [
      "Deployed <stdin>:StoreVar to: 0x44bf10B9B66Df43Af722dF5f308fa16445efd34e\n",
      "\n"
     ]
    }
   ],
   "source": [
    "print(\"Deployed {0} to: {1}\\n\".format(contract_id, address))"
   ]
  },
  {
   "cell_type": "markdown",
   "metadata": {},
   "source": [
    "This also works but again with deprecation warning."
   ]
  },
  {
   "cell_type": "markdown",
   "metadata": {},
   "source": [
    "### Interact with Contract"
   ]
  },
  {
   "cell_type": "code",
   "execution_count": 40,
   "metadata": {},
   "outputs": [],
   "source": [
    "# Create interface to deployed contract\n",
    "deployed_contract = w3.eth.contract(\n",
    "   address=address,\n",
    "   abi=contract_interface['abi'])"
   ]
  },
  {
   "cell_type": "markdown",
   "metadata": {},
   "source": [
    "**Estimate gas usage**"
   ]
  },
  {
   "cell_type": "code",
   "execution_count": 41,
   "metadata": {},
   "outputs": [
    {
     "name": "stdout",
     "output_type": "stream",
     "text": [
      "Gas estimate to transact with setVar: 43133\n",
      "\n"
     ]
    }
   ],
   "source": [
    "# Estimate gas usage for function call\n",
    "gas_estimate = deployed_contract.functions.setVar(255).estimateGas()\n",
    "print(\"Gas estimate to transact with setVar: {0}\\n\".format(gas_estimate))"
   ]
  },
  {
   "cell_type": "code",
   "execution_count": 42,
   "metadata": {},
   "outputs": [],
   "source": [
    "def wait_for_receipt(w3, tx_hash, poll_interval):\n",
    "    while True:\n",
    "        tx_receipt = w3.eth.getTransactionReceipt(tx_hash)\n",
    "        if tx_receipt:\n",
    "            return tx_receipt\n",
    "        time.sleep(poll_interval)"
   ]
  },
  {
   "cell_type": "code",
   "execution_count": 43,
   "metadata": {},
   "outputs": [
    {
     "name": "stdout",
     "output_type": "stream",
     "text": [
      "Sending transaction to setVar(255)\n",
      "\n",
      "Transaction receipt mined: \n",
      "\n",
      "{'blockHash': HexBytes('0xbf673fcce4ff3edd73e8cb4f3fe93abffa68b0c7fbbcfef1546ca792030e3ded'),\n",
      " 'blockNumber': 9,\n",
      " 'contractAddress': None,\n",
      " 'cumulativeGasUsed': 43133,\n",
      " 'from': '0x92d44e8579620f2db88a12e70fe38e8cdb3541ba',\n",
      " 'gasUsed': 43133,\n",
      " 'logs': [AttributeDict({'logIndex': 0, 'transactionIndex': 0, 'transactionHash': HexBytes('0xccaad3f56a637ac0257976e9593ee847384bac6008ca9b605b2c0a414de3af4d'), 'blockHash': HexBytes('0xbf673fcce4ff3edd73e8cb4f3fe93abffa68b0c7fbbcfef1546ca792030e3ded'), 'blockNumber': 9, 'address': '0x44bf10B9B66Df43Af722dF5f308fa16445efd34e', 'data': '0x', 'topics': [HexBytes('0x6c2b4666ba8da5a95717621d879a77de725f3d816709b9cbe9f059b8f875e284'), HexBytes('0x00000000000000000000000000000000000000000000000000000000000000ff')], 'type': 'mined'})],\n",
      " 'logsBloom': HexBytes('0x00000400000000000000000000000000000000000000000000000000000000000000000000000000000000000000000000000000000000000000000020000000000000000000000000000000000000000000000000000000000000000000000410000000000000000000000000000000000000000000000000000000000000000000000000000000000000000000000000000000000000000000000000000000000000000000000000008000000000000000000000000004000000000000000000800000400000000000000000000000000000000000000000000000000000000000000000000000000000000000400000000000000000000000000000000000'),\n",
      " 'r': '0x7a75eab5a4aef0298094dc447d9f9e266992e64b974c86a4a72b7ce2c8cdcad5',\n",
      " 's': '0x62910268dd876b9f32f7119ad51cb22592ff6f0fbec5a466142a98dfd0dfc8fb',\n",
      " 'status': 1,\n",
      " 'to': '0x44bf10b9b66df43af722df5f308fa16445efd34e',\n",
      " 'transactionHash': HexBytes('0xccaad3f56a637ac0257976e9593ee847384bac6008ca9b605b2c0a414de3af4d'),\n",
      " 'transactionIndex': 0,\n",
      " 'v': '0x1b'}\n"
     ]
    }
   ],
   "source": [
    "# Execute function call to smart contract\n",
    "if gas_estimate < 100000:\n",
    "    print(\"Sending transaction to setVar(255)\\n\")\n",
    "    tx_hash = deployed_contract.functions.setVar(255).transact()\n",
    "    receipt = wait_for_receipt(w3, tx_hash, 1)\n",
    "    print(\"Transaction receipt mined: \\n\")\n",
    "    pprint.pprint(dict(receipt))\n",
    "else:\n",
    "    print(\"Gas cost exceeds 100000\")"
   ]
  },
  {
   "cell_type": "code",
   "execution_count": 44,
   "metadata": {},
   "outputs": [
    {
     "data": {
      "text/plain": [
       "HexBytes('0xa3943b7a6c0dae486bdb8449cd8fc4addc34855035f8ce69f276f82ba7ef5008')"
      ]
     },
     "execution_count": 44,
     "metadata": {},
     "output_type": "execute_result"
    }
   ],
   "source": [
    "# Call setVar on contract\n",
    "deployed_contract.functions.setVar(4).transact()"
   ]
  },
  {
   "cell_type": "code",
   "execution_count": 45,
   "metadata": {},
   "outputs": [
    {
     "data": {
      "text/plain": [
       "4"
      ]
     },
     "execution_count": 45,
     "metadata": {},
     "output_type": "execute_result"
    }
   ],
   "source": [
    "# Obtain value from getVar on contract\n",
    "deployed_contract.functions.getVar().call()"
   ]
  },
  {
   "cell_type": "markdown",
   "metadata": {},
   "source": [
    "### New Contract Deployment Approach\n",
    "Since the old way to deploy contracts via `w3.eth.contract.deploy()` is deprecated I also try out another pathway, as outlined in the contract section of the web3.py documentation [here](https://web3py.readthedocs.io/en/stable/contracts.html?highlight=abi).\n",
    "\n",
    "Note: I replace solc with solcx since solc is throwing errors during compilation. solcx can compile the contract.  \n",
    "Update: I am still using solcx instead of solc but LuceVM now already has all required packages installed"
   ]
  },
  {
   "cell_type": "code",
   "execution_count": 46,
   "metadata": {},
   "outputs": [],
   "source": [
    "#!{sys.executable} -m pip install -U web3[tester]"
   ]
  },
  {
   "cell_type": "markdown",
   "metadata": {},
   "source": [
    "There is a requirement conflict with eth-abi when trying to install web3tester. See if we can use ganache as sandbox instead."
   ]
  },
  {
   "cell_type": "code",
   "execution_count": 47,
   "metadata": {},
   "outputs": [],
   "source": [
    "import json\n",
    "import web3\n",
    "\n",
    "from web3 import Web3\n",
    "from solcx import compile_source\n",
    "from web3.contract import ConciseContract"
   ]
  },
  {
   "cell_type": "code",
   "execution_count": 48,
   "metadata": {},
   "outputs": [],
   "source": [
    "# Solidity source code\n",
    "contract_source_code = '''\n",
    "pragma solidity ^0.4.21;\n",
    "\n",
    "contract Greeter {\n",
    "    string public greeting;\n",
    "\n",
    "    function Greeter() public {\n",
    "        greeting = 'Hello';\n",
    "    }\n",
    "\n",
    "    function setGreeting(string _greeting) public {\n",
    "        greeting = _greeting;\n",
    "    }\n",
    "\n",
    "    function greet() view public returns (string) {\n",
    "        return greeting;\n",
    "    }\n",
    "}\n",
    "'''"
   ]
  },
  {
   "cell_type": "code",
   "execution_count": 49,
   "metadata": {},
   "outputs": [],
   "source": [
    "compiled_sol = compile_source(contract_source_code) # Compiled source code\n",
    "contract_interface = compiled_sol['<stdin>:Greeter']"
   ]
  },
  {
   "cell_type": "markdown",
   "metadata": {},
   "source": [
    "The compilation works fine when using solcx instead of solc."
   ]
  },
  {
   "cell_type": "code",
   "execution_count": 50,
   "metadata": {},
   "outputs": [],
   "source": [
    "# web3.py instance\n",
    "# w3 = Web3(Web3.EthereumTesterProvider())\n",
    "# This causes a requirement conflix with eth-abi.. Use Ganache instead"
   ]
  },
  {
   "cell_type": "code",
   "execution_count": 51,
   "metadata": {},
   "outputs": [],
   "source": [
    "# Use Ganache for web3 instance\n",
    "w3 = Web3(Web3.HTTPProvider(\"HTTP://127.0.0.1:8545\"))"
   ]
  },
  {
   "cell_type": "code",
   "execution_count": 52,
   "metadata": {},
   "outputs": [],
   "source": [
    "# set pre-funded account as sender\n",
    "w3.eth.defaultAccount = w3.eth.accounts[0]"
   ]
  },
  {
   "cell_type": "markdown",
   "metadata": {},
   "source": [
    "**Instantiate Contract Object**"
   ]
  },
  {
   "cell_type": "code",
   "execution_count": 53,
   "metadata": {},
   "outputs": [],
   "source": [
    "# Instantiate contract\n",
    "Greeter = w3.eth.contract(abi=contract_interface['abi'], bytecode=contract_interface['bin'])"
   ]
  },
  {
   "cell_type": "markdown",
   "metadata": {},
   "source": [
    "**Deploy Contract**"
   ]
  },
  {
   "cell_type": "code",
   "execution_count": 54,
   "metadata": {},
   "outputs": [],
   "source": [
    "# Submit the transaction that deploys the contract\n",
    "tx_hash = Greeter.constructor().transact()"
   ]
  },
  {
   "cell_type": "markdown",
   "metadata": {},
   "source": [
    "Halleluhjah! This worked :D  \n",
    "The contract is deployed.  \n",
    "And this time without a deprecation warning.  \n",
    "So this is the new recommended approach of deployment."
   ]
  },
  {
   "cell_type": "code",
   "execution_count": 55,
   "metadata": {},
   "outputs": [],
   "source": [
    "# Wait for the transaction to be mined, and get the transaction receipt\n",
    "tx_receipt = w3.eth.waitForTransactionReceipt(tx_hash)"
   ]
  },
  {
   "cell_type": "code",
   "execution_count": 56,
   "metadata": {},
   "outputs": [
    {
     "data": {
      "text/plain": [
       "AttributeDict({'transactionHash': HexBytes('0x89f4e30a53cc127a8d97970e935670d7fa2baccb4cc7a7dfca44b68a122e9bbd'),\n",
       " 'transactionIndex': 0,\n",
       " 'blockHash': HexBytes('0x2450062af4a29239dc844cb4734c75c3f98f248a676895e5768785c2c085f1c3'),\n",
       " 'blockNumber': 11,\n",
       " 'from': '0x92d44e8579620f2db88a12e70fe38e8cdb3541ba',\n",
       " 'to': None,\n",
       " 'gasUsed': 364124,\n",
       " 'cumulativeGasUsed': 364124,\n",
       " 'contractAddress': '0xa832b74da9969b9019d598d84E82Dd44F855D093',\n",
       " 'logs': [],\n",
       " 'status': 1,\n",
       " 'logsBloom': HexBytes('0x00000000000000000000000000000000000000000000000000000000000000000000000000000000000000000000000000000000000000000000000000000000000000000000000000000000000000000000000000000000000000000000000000000000000000000000000000000000000000000000000000000000000000000000000000000000000000000000000000000000000000000000000000000000000000000000000000000000000000000000000000000000000000000000000000000000000000000000000000000000000000000000000000000000000000000000000000000000000000000000000000000000000000000000000000000000'),\n",
       " 'v': '0x1b',\n",
       " 'r': '0x8dcf81dd809207d46793b4f33cf35da6e305e633aa1f7e6549171808d3ad3c67',\n",
       " 's': '0x2cdb1ffcd861e3933764137ad3256c56ac210bac5cd6b81572a6d2a77d450023'})"
      ]
     },
     "execution_count": 56,
     "metadata": {},
     "output_type": "execute_result"
    }
   ],
   "source": [
    "tx_receipt"
   ]
  },
  {
   "cell_type": "code",
   "execution_count": 57,
   "metadata": {},
   "outputs": [],
   "source": [
    "# Create the contract instance with the newly-deployed address\n",
    "greeter = w3.eth.contract(\n",
    "    address=tx_receipt.contractAddress,\n",
    "    abi=contract_interface['abi'],\n",
    ")"
   ]
  },
  {
   "cell_type": "markdown",
   "metadata": {},
   "source": [
    "**Read contract state**"
   ]
  },
  {
   "cell_type": "code",
   "execution_count": 58,
   "metadata": {},
   "outputs": [
    {
     "name": "stdout",
     "output_type": "stream",
     "text": [
      "Default contract greeting: Hello\n"
     ]
    }
   ],
   "source": [
    "# Display the default greeting from the contract\n",
    "print('Default contract greeting: {}'.format(\n",
    "    greeter.functions.greet().call()\n",
    "))"
   ]
  },
  {
   "cell_type": "code",
   "execution_count": 59,
   "metadata": {},
   "outputs": [
    {
     "data": {
      "text/plain": [
       "[{'constant': False,\n",
       "  'inputs': [{'name': '_greeting', 'type': 'string'}],\n",
       "  'name': 'setGreeting',\n",
       "  'outputs': [],\n",
       "  'payable': False,\n",
       "  'stateMutability': 'nonpayable',\n",
       "  'type': 'function'},\n",
       " {'constant': True,\n",
       "  'inputs': [],\n",
       "  'name': 'greet',\n",
       "  'outputs': [{'name': '', 'type': 'string'}],\n",
       "  'payable': False,\n",
       "  'stateMutability': 'view',\n",
       "  'type': 'function'},\n",
       " {'constant': True,\n",
       "  'inputs': [],\n",
       "  'name': 'greeting',\n",
       "  'outputs': [{'name': '', 'type': 'string'}],\n",
       "  'payable': False,\n",
       "  'stateMutability': 'view',\n",
       "  'type': 'function'},\n",
       " {'inputs': [],\n",
       "  'payable': False,\n",
       "  'stateMutability': 'nonpayable',\n",
       "  'type': 'constructor'}]"
      ]
     },
     "execution_count": 59,
     "metadata": {},
     "output_type": "execute_result"
    }
   ],
   "source": [
    "greeter.functions.abi"
   ]
  },
  {
   "cell_type": "code",
   "execution_count": 60,
   "metadata": {},
   "outputs": [
    {
     "data": {
      "text/plain": [
       "'Hello'"
      ]
     },
     "execution_count": 60,
     "metadata": {},
     "output_type": "execute_result"
    }
   ],
   "source": [
    "greeter.functions.greet().call()"
   ]
  },
  {
   "cell_type": "markdown",
   "metadata": {},
   "source": [
    "**Change contract state**"
   ]
  },
  {
   "cell_type": "code",
   "execution_count": 61,
   "metadata": {},
   "outputs": [],
   "source": [
    "tx_hash = greeter.functions.setGreeting('new greeting').transact()"
   ]
  },
  {
   "cell_type": "code",
   "execution_count": 62,
   "metadata": {},
   "outputs": [
    {
     "data": {
      "text/plain": [
       "AttributeDict({'transactionHash': HexBytes('0xa1e4b776a60b2ee8c25c5e981c729554fce166301bf63b78ca819db2d24122f3'),\n",
       " 'transactionIndex': 0,\n",
       " 'blockHash': HexBytes('0x6419793146fc9aea9697b55131ceeb73116abb4771881f64bc314847e887eae5'),\n",
       " 'blockNumber': 12,\n",
       " 'from': '0x92d44e8579620f2db88a12e70fe38e8cdb3541ba',\n",
       " 'to': '0xa832b74da9969b9019d598d84e82dd44f855d093',\n",
       " 'gasUsed': 33516,\n",
       " 'cumulativeGasUsed': 33516,\n",
       " 'contractAddress': None,\n",
       " 'logs': [],\n",
       " 'status': 1,\n",
       " 'logsBloom': HexBytes('0x00000000000000000000000000000000000000000000000000000000000000000000000000000000000000000000000000000000000000000000000000000000000000000000000000000000000000000000000000000000000000000000000000000000000000000000000000000000000000000000000000000000000000000000000000000000000000000000000000000000000000000000000000000000000000000000000000000000000000000000000000000000000000000000000000000000000000000000000000000000000000000000000000000000000000000000000000000000000000000000000000000000000000000000000000000000'),\n",
       " 'v': '0x1c',\n",
       " 'r': '0xfcc845fa72d23ad0282e12e726f1888b34654f41c1f258c1497d6017e697e2b8',\n",
       " 's': '0x2459d77a172a1bc2943e28b76d6feafe8055f630f05a27ef74f7684e73edad5b'})"
      ]
     },
     "execution_count": 62,
     "metadata": {},
     "output_type": "execute_result"
    }
   ],
   "source": [
    "# Wait for transaction to be mined...\n",
    "w3.eth.waitForTransactionReceipt(tx_hash)"
   ]
  },
  {
   "cell_type": "code",
   "execution_count": 63,
   "metadata": {},
   "outputs": [
    {
     "data": {
      "text/plain": [
       "'new greeting'"
      ]
     },
     "execution_count": 63,
     "metadata": {},
     "output_type": "execute_result"
    }
   ],
   "source": [
    "greeter.functions.greet().call()"
   ]
  },
  {
   "cell_type": "markdown",
   "metadata": {},
   "source": [
    "All is working as intended! I am very happy. This gives enough foundation. The examples here can be used as reference for how to interact with LUCE contract functions."
   ]
  },
  {
   "cell_type": "markdown",
   "metadata": {},
   "source": [
    "### Other Useful Snippets from web3 documentation"
   ]
  },
  {
   "cell_type": "markdown",
   "metadata": {},
   "source": [
    "**web3.eth.*account* object**"
   ]
  },
  {
   "cell_type": "code",
   "execution_count": 64,
   "metadata": {},
   "outputs": [],
   "source": [
    "# Create a new account\n",
    "test_account = w3.eth.account.create()"
   ]
  },
  {
   "cell_type": "code",
   "execution_count": 65,
   "metadata": {},
   "outputs": [
    {
     "data": {
      "text/plain": [
       "'0x27db5EFD8b6863F6E573fbFc04b7957a9F9d14C3'"
      ]
     },
     "execution_count": 65,
     "metadata": {},
     "output_type": "execute_result"
    }
   ],
   "source": [
    "# Display address\n",
    "test_account.address"
   ]
  },
  {
   "cell_type": "code",
   "execution_count": 66,
   "metadata": {},
   "outputs": [
    {
     "data": {
      "text/plain": [
       "HexBytes('0xd6d5a9f687f225d069c80a3da11aadfd4b3b937dba40c9a4343b7eab0b69d35d')"
      ]
     },
     "execution_count": 66,
     "metadata": {},
     "output_type": "execute_result"
    }
   ],
   "source": [
    "# Show private key\n",
    "test_account.privateKey"
   ]
  },
  {
   "cell_type": "code",
   "execution_count": 69,
   "metadata": {},
   "outputs": [],
   "source": [
    "# Restore account from private key\n",
    "test_account_restored = w3.eth.account.privateKeyToAccount(\"0xd6d5a9f687f225d069c80a3da11aadfd4b3b937dba40c9a4343b7eab0b69d35d\")"
   ]
  },
  {
   "cell_type": "code",
   "execution_count": 70,
   "metadata": {
    "scrolled": true
   },
   "outputs": [
    {
     "data": {
      "text/plain": [
       "True"
      ]
     },
     "execution_count": 70,
     "metadata": {},
     "output_type": "execute_result"
    }
   ],
   "source": [
    "# Check if indeed address of restored account is the same\n",
    "test_account_restored.address == test_account.address"
   ]
  },
  {
   "cell_type": "code",
   "execution_count": 71,
   "metadata": {},
   "outputs": [
    {
     "data": {
      "text/plain": [
       "eth_account.signers.local.LocalAccount"
      ]
     },
     "execution_count": 71,
     "metadata": {},
     "output_type": "execute_result"
    }
   ],
   "source": [
    "type(test_account)"
   ]
  },
  {
   "cell_type": "markdown",
   "metadata": {},
   "source": [
    "**Sign a transaction**"
   ]
  },
  {
   "cell_type": "code",
   "execution_count": 72,
   "metadata": {},
   "outputs": [],
   "source": [
    "# 1) First define a transaction dictionary\n",
    "tx_dic ={\n",
    "    'to': '0xF0109fC8DF283027b6285cc889F5aA624EaC1F55',\n",
    "    'value': 1000000000,\n",
    "    'gas': 2000000,\n",
    "    'gasPrice': w3.toWei('40', 'gwei'),\n",
    "    'nonce': w3.eth.getTransactionCount(test_account.address)\n",
    "    \n",
    "}"
   ]
  },
  {
   "cell_type": "code",
   "execution_count": 73,
   "metadata": {},
   "outputs": [
    {
     "data": {
      "text/plain": [
       "AttributeDict({'rawTransaction': HexBytes('0xf869808509502f9000831e848094f0109fc8df283027b6285cc889f5aa624eac1f55843b9aca00801ca0604dc371ee5871b5f7c932f598a769b324ef410690ed5aa594bb06828f8b0be6a0662d57f627a1b0939c1b2e37ca18342ec054acc3455f3afbcb56eed89eb3431e'),\n",
       " 'hash': HexBytes('0x082e4663909a4e423663cd04d8e576fd56f135487a23bffe6aefbbdcdb49fb32'),\n",
       " 'r': 43559429600093815668785665617397752938607520725881376783969806704001539574758,\n",
       " 's': 46216025761660944488180574795730454324155410965290607253559946055926425010974,\n",
       " 'v': 28})"
      ]
     },
     "execution_count": 73,
     "metadata": {},
     "output_type": "execute_result"
    }
   ],
   "source": [
    "# 2) Then sign\n",
    "test_account.signTransaction(tx_dic)"
   ]
  },
  {
   "cell_type": "markdown",
   "metadata": {},
   "source": [
    "---"
   ]
  },
  {
   "cell_type": "markdown",
   "metadata": {},
   "source": [
    "**web3.eth.*contract* object**"
   ]
  },
  {
   "cell_type": "code",
   "execution_count": 74,
   "metadata": {},
   "outputs": [],
   "source": [
    "test_contract = w3.eth.contract()"
   ]
  },
  {
   "cell_type": "code",
   "execution_count": 75,
   "metadata": {},
   "outputs": [
    {
     "data": {
      "text/plain": [
       "web3.utils.datatypes.PropertyCheckingFactory"
      ]
     },
     "execution_count": 75,
     "metadata": {},
     "output_type": "execute_result"
    }
   ],
   "source": [
    "type(test_contract)"
   ]
  },
  {
   "cell_type": "code",
   "execution_count": 76,
   "metadata": {},
   "outputs": [],
   "source": [
    "test_contract.address"
   ]
  },
  {
   "cell_type": "code",
   "execution_count": 77,
   "metadata": {},
   "outputs": [],
   "source": [
    "test_contract.abi"
   ]
  },
  {
   "cell_type": "code",
   "execution_count": 78,
   "metadata": {},
   "outputs": [],
   "source": [
    "test_contract.bytecode"
   ]
  },
  {
   "cell_type": "code",
   "execution_count": 79,
   "metadata": {
    "collapsed": true,
    "jupyter": {
     "outputs_hidden": true
    }
   },
   "outputs": [
    {
     "data": {
      "text/plain": [
       "<bound method Contract.deploy of <class 'web3.utils.datatypes.Contract'>>"
      ]
     },
     "execution_count": 79,
     "metadata": {},
     "output_type": "execute_result"
    }
   ],
   "source": [
    "test_contract.deploy"
   ]
  },
  {
   "cell_type": "code",
   "execution_count": 80,
   "metadata": {},
   "outputs": [],
   "source": [
    "test_function = test_contract.functions"
   ]
  },
  {
   "cell_type": "code",
   "execution_count": 81,
   "metadata": {},
   "outputs": [
    {
     "data": {
      "text/plain": [
       "<web3.contract.ContractFunctions at 0x7f265619b780>"
      ]
     },
     "execution_count": 81,
     "metadata": {},
     "output_type": "execute_result"
    }
   ],
   "source": [
    "test_function"
   ]
  },
  {
   "cell_type": "markdown",
   "metadata": {},
   "source": [
    "### Drop Things Here"
   ]
  },
  {
   "cell_type": "code",
   "execution_count": null,
   "metadata": {},
   "outputs": [],
   "source": [
    "# Contract address from Ganache\n",
    "contract_address     = \"0x9B3da536bfFf54974AE3D9151D7C6F5dBE81990E\""
   ]
  }
 ],
 "metadata": {
  "hide_input": false,
  "kernelspec": {
   "display_name": "Python 3",
   "language": "python",
   "name": "python3"
  },
  "language_info": {
   "codemirror_mode": {
    "name": "ipython",
    "version": 3
   },
   "file_extension": ".py",
   "mimetype": "text/x-python",
   "name": "python",
   "nbconvert_exporter": "python",
   "pygments_lexer": "ipython3",
   "version": "3.9.2"
  },
  "toc": {
   "base_numbering": 1,
   "nav_menu": {},
   "number_sections": false,
   "sideBar": true,
   "skip_h1_title": false,
   "title_cell": "Table of Contents",
   "title_sidebar": "Contents",
   "toc_cell": false,
   "toc_position": {},
   "toc_section_display": true,
   "toc_window_display": true
  },
  "varInspector": {
   "cols": {
    "lenName": 16,
    "lenType": 16,
    "lenVar": 40
   },
   "kernels_config": {
    "python": {
     "delete_cmd_postfix": "",
     "delete_cmd_prefix": "del ",
     "library": "var_list.py",
     "varRefreshCmd": "print(var_dic_list())"
    },
    "r": {
     "delete_cmd_postfix": ") ",
     "delete_cmd_prefix": "rm(",
     "library": "var_list.r",
     "varRefreshCmd": "cat(var_dic_list()) "
    }
   },
   "types_to_exclude": [
    "module",
    "function",
    "builtin_function_or_method",
    "instance",
    "_Feature"
   ],
   "window_display": false
  }
 },
 "nbformat": 4,
 "nbformat_minor": 4
}
