{
 "cells": [
  {
   "cell_type": "markdown",
   "metadata": {},
   "source": [
    "## Important Update (2019-07-02):\n",
    "The content in this notebook is no longer up to date. It is kept here only for reference.\n",
    "\n",
    "Please refer to the `Web3 Examples` and `hello_luce` notebooks instead for examples on how to use Python (and LuceVM) to interact programatically with the Ethereum blockchain."
   ]
  },
  {
   "cell_type": "markdown",
   "metadata": {},
   "source": [
    "# Example of Interaction between Python Code & Ethereum Smart Contract"
   ]
  },
  {
   "cell_type": "markdown",
   "metadata": {},
   "source": [
    "This notebook outlines how to deploy and interact with an Ethereum Solidity Smart Contract using the Python Web3 framework. It covers the setup, as well as deployment and interaction with a contract locally via Ganache. These instructions come in both `.pdf` and `.ipynb` format. The PDF file is intended to access the instructions while setting up the working environment. Once the virtual environment and jupyter notebook server are running the instructions can then be followed interactively directly from the Jupyter notebook file. "
   ]
  },
  {
   "cell_type": "markdown",
   "metadata": {},
   "source": [
    "Software used:  \n",
    "* [Python 3.6](https://www.python.org)\n",
    "* [Jupyter](https://jupyter.org)\n",
    "* [Ganache](https://www.trufflesuite.com/ganache)\n",
    "* [Remix](https://remix.ethereum.org)"
   ]
  },
  {
   "cell_type": "markdown",
   "metadata": {},
   "source": [
    "### Preparation\n",
    "I assume that Python 3.6 (3.7 or higher should work equally well), Ganache and the Jupyter notebook (for example via Anaconda) are already installed on the system. If not, please install these components via the instructions provided on the respective websites.  \n",
    "\n",
    "Next, we create a new project folder somewhere on the system and place the `luce_python.ipynb` file inside this folder."
   ]
  },
  {
   "cell_type": "markdown",
   "metadata": {},
   "source": [
    "### Setup Python Virtualenv"
   ]
  },
  {
   "cell_type": "markdown",
   "metadata": {},
   "source": [
    "It is good practice to set up a separate isolated python development environment for each project. This avoids library version conflicts and also helps with reproducibility as the same working environment can be easily recreated in the future. To set up a new virtual python environment we use the following commands in the terminal:"
   ]
  },
  {
   "cell_type": "markdown",
   "metadata": {},
   "source": [
    "Navigate to desired project location:  \n",
    "(Note: This directory must already exist.)   \n",
    "```cd /Users/arno/Desktop/luce_python/```\n",
    "\n",
    "Install virtual environment manager:  \n",
    "```pip install virtualenv```. \n",
    "\n",
    "Create new virtual environment:  \n",
    "```virtualenv .luce_python```\n",
    "\n",
    "Activate the new environment:  \n",
    "```source .luce_python/bin/activate```\n",
    "\n",
    "Install jupyter kernel in new environment:  \n",
    "```pip install ipykernel```  \n",
    "```python -m ipykernel install --user --name=luce_python_kernel```\n",
    "\n",
    "Run jupyter notebook  \n",
    "```jupyter notebook```\n"
   ]
  },
  {
   "cell_type": "markdown",
   "metadata": {},
   "source": [
    "### Connect Jupyter Notebook to Python Kernel"
   ]
  },
  {
   "cell_type": "markdown",
   "metadata": {},
   "source": [
    "Now, inside the Jupyter Noebook environment we open the `luce_python.ipynb` file to continue with the instructions. We change the python kernel to match the new environment we just created via `Kernel -> Change Kernel -> luce_python _kernel`. We then execute the python cell below to verify that the notebook is indeed using the correct python environment. The path displayed should match the one of our project folder. For example: `/Users/arno/Desktop/luce_python/.luce_python/bin/python`"
   ]
  },
  {
   "cell_type": "code",
   "execution_count": 1,
   "metadata": {},
   "outputs": [
    {
     "data": {
      "text/plain": [
       "'/opt/conda/bin/python'"
      ]
     },
     "execution_count": 1,
     "metadata": {},
     "output_type": "execute_result"
    }
   ],
   "source": [
    "# Check that correct python kernel is running in Notebook\n",
    "import sys\n",
    "sys.executable\n",
    "#sys.prefix"
   ]
  },
  {
   "cell_type": "code",
   "execution_count": 2,
   "metadata": {},
   "outputs": [
    {
     "name": "stdout",
     "output_type": "stream",
     "text": [
      "/opt/conda/bin/python\n"
     ]
    }
   ],
   "source": [
    "!which python"
   ]
  },
  {
   "cell_type": "markdown",
   "metadata": {},
   "source": [
    "Python version used by shell is the same as python kernel used by Jupyter notebook. Very good! :)"
   ]
  },
  {
   "cell_type": "markdown",
   "metadata": {},
   "source": [
    "### Install Python Libraries\n",
    "We install the Python web3 framework and python solidity compiler. The special syntax is used to execute terminal commands from within jupyter and ensure that the packages are installed into our virtual python environment."
   ]
  },
  {
   "cell_type": "code",
   "execution_count": 10,
   "metadata": {},
   "outputs": [
    {
     "name": "stdout",
     "output_type": "stream",
     "text": [
      "Get:1 http://archive.ubuntu.com/ubuntu focal InRelease [265 kB]\n",
      "Get:2 http://archive.ubuntu.com/ubuntu focal-updates InRelease [114 kB]        \u001b[0m\u001b[33m\n",
      "Get:3 http://archive.ubuntu.com/ubuntu focal-backports InRelease [101 kB]      \u001b[0m\u001b[33m\n",
      "Get:4 http://security.ubuntu.com/ubuntu focal-security InRelease [114 kB]      \u001b[0m\u001b[33m\u001b[33m\n",
      "Get:5 http://archive.ubuntu.com/ubuntu focal/multiverse amd64 Packages [177 kB]\n",
      "Get:6 http://archive.ubuntu.com/ubuntu focal/universe amd64 Packages [11.3 MB]33m\u001b[33m\n",
      "Get:7 http://archive.ubuntu.com/ubuntu focal/restricted amd64 Packages [33.4 kB]m\n",
      "Get:8 http://archive.ubuntu.com/ubuntu focal/main amd64 Packages [1,275 kB]\n",
      "Get:9 http://archive.ubuntu.com/ubuntu focal-updates/multiverse amd64 Packages [32.0 kB]\n",
      "Get:10 http://archive.ubuntu.com/ubuntu focal-updates/main amd64 Packages [1,305 kB][33m\n",
      "Get:11 http://archive.ubuntu.com/ubuntu focal-updates/universe amd64 Packages [1,032 kB]\n",
      "Get:12 http://archive.ubuntu.com/ubuntu focal-updates/restricted amd64 Packages [357 kB]\n",
      "Get:13 http://archive.ubuntu.com/ubuntu focal-backports/universe amd64 Packages [4,305 B]\n",
      "Get:14 http://security.ubuntu.com/ubuntu focal-security/restricted amd64 Packages [328 kB]\n",
      "Get:15 http://security.ubuntu.com/ubuntu focal-security/main amd64 Packages [884 kB]\n",
      "Get:16 http://security.ubuntu.com/ubuntu focal-security/multiverse amd64 Packages [27.6 kB]\n",
      "Get:17 http://security.ubuntu.com/ubuntu focal-security/universe amd64 Packages [777 kB]\n",
      "Fetched 18.2 MB in 2s (8,016 kB/s)  \u001b[0m                    \u001b[0m\u001b[33m\u001b[33m\u001b[33m\n",
      "Reading package lists... Done\n",
      "Building dependency tree       \n",
      "Reading state information... Done\n",
      "14 packages can be upgraded. Run 'apt list --upgradable' to see them.\n",
      "Reading package lists... Done\n",
      "Building dependency tree       \n",
      "Reading state information... Done\n",
      "The following additional packages will be installed:\n",
      "  binutils binutils-common binutils-x86-64-linux-gnu cpp cpp-9 gcc-10-base\n",
      "  gcc-9 gcc-9-base libasan5 libatomic1 libbinutils libc-dev-bin libc6-dev\n",
      "  libcc1-0 libcrypt-dev libctf-nobfd0 libctf0 libgcc-9-dev libgcc-s1 libgomp1\n",
      "  libisl22 libitm1 liblsan0 libmpc3 libmpfr6 libquadmath0 libstdc++6 libtsan0\n",
      "  libubsan1 linux-libc-dev manpages manpages-dev\n",
      "Suggested packages:\n",
      "  binutils-doc cpp-doc gcc-9-locales gcc-multilib make autoconf automake\n",
      "  libtool flex bison gdb gcc-doc gcc-9-multilib gcc-9-doc glibc-doc\n",
      "  man-browser\n",
      "The following NEW packages will be installed:\n",
      "  binutils binutils-common binutils-x86-64-linux-gnu cpp cpp-9 gcc gcc-9\n",
      "  gcc-9-base libasan5 libatomic1 libbinutils libc-dev-bin libc6-dev libcc1-0\n",
      "  libcrypt-dev libctf-nobfd0 libctf0 libgcc-9-dev libgomp1 libisl22 libitm1\n",
      "  liblsan0 libmpc3 libmpfr6 libquadmath0 libtsan0 libubsan1 linux-libc-dev\n",
      "  manpages manpages-dev\n",
      "The following packages will be upgraded:\n",
      "  gcc-10-base libgcc-s1 libstdc++6\n",
      "3 upgraded, 30 newly installed, 0 to remove and 11 not upgraded.\n",
      "Need to get 33.7 MB of archives.\n",
      "After this operation, 139 MB of additional disk space will be used.\n",
      "Get:1 http://archive.ubuntu.com/ubuntu focal-updates/main amd64 gcc-10-base amd64 10.3.0-1ubuntu1~20.04 [20.2 kB]\n",
      "Get:2 http://archive.ubuntu.com/ubuntu focal-updates/main amd64 libstdc++6 amd64 10.3.0-1ubuntu1~20.04 [501 kB]\n",
      "Get:3 http://archive.ubuntu.com/ubuntu focal-updates/main amd64 libgcc-s1 amd64 10.3.0-1ubuntu1~20.04 [41.8 kB]\n",
      "Get:4 http://archive.ubuntu.com/ubuntu focal/main amd64 manpages all 5.05-1 [1,314 kB]\n",
      "Get:5 http://archive.ubuntu.com/ubuntu focal-updates/main amd64 binutils-common amd64 2.34-6ubuntu1.1 [207 kB]\n",
      "Get:6 http://archive.ubuntu.com/ubuntu focal-updates/main amd64 libbinutils amd64 2.34-6ubuntu1.1 [475 kB]\n",
      "Get:7 http://archive.ubuntu.com/ubuntu focal-updates/main amd64 libctf-nobfd0 amd64 2.34-6ubuntu1.1 [47.1 kB]\n",
      "Get:8 http://archive.ubuntu.com/ubuntu focal-updates/main amd64 libctf0 amd64 2.34-6ubuntu1.1 [46.6 kB]\n",
      "Get:9 http://archive.ubuntu.com/ubuntu focal-updates/main amd64 binutils-x86-64-linux-gnu amd64 2.34-6ubuntu1.1 [1,613 kB]\n",
      "Get:10 http://archive.ubuntu.com/ubuntu focal-updates/main amd64 binutils amd64 2.34-6ubuntu1.1 [3,380 B]\n",
      "Get:11 http://archive.ubuntu.com/ubuntu focal-updates/main amd64 gcc-9-base amd64 9.3.0-17ubuntu1~20.04 [19.1 kB]\n",
      "Get:12 http://archive.ubuntu.com/ubuntu focal/main amd64 libisl22 amd64 0.22.1-1 [592 kB]\n",
      "Get:13 http://archive.ubuntu.com/ubuntu focal/main amd64 libmpfr6 amd64 4.0.2-1 [240 kB]\n",
      "Get:14 http://archive.ubuntu.com/ubuntu focal/main amd64 libmpc3 amd64 1.1.0-1 [40.8 kB]\n",
      "Get:15 http://archive.ubuntu.com/ubuntu focal-updates/main amd64 cpp-9 amd64 9.3.0-17ubuntu1~20.04 [7,494 kB]\n",
      "Get:16 http://archive.ubuntu.com/ubuntu focal/main amd64 cpp amd64 4:9.3.0-1ubuntu2 [27.6 kB]\n",
      "Get:17 http://archive.ubuntu.com/ubuntu focal-updates/main amd64 libcc1-0 amd64 10.3.0-1ubuntu1~20.04 [48.8 kB]\n",
      "Get:18 http://archive.ubuntu.com/ubuntu focal-updates/main amd64 libgomp1 amd64 10.3.0-1ubuntu1~20.04 [102 kB]\n",
      "Get:19 http://archive.ubuntu.com/ubuntu focal-updates/main amd64 libitm1 amd64 10.3.0-1ubuntu1~20.04 [26.2 kB]\n",
      "Get:20 http://archive.ubuntu.com/ubuntu focal-updates/main amd64 libatomic1 amd64 10.3.0-1ubuntu1~20.04 [9,284 B]\n",
      "Get:21 http://archive.ubuntu.com/ubuntu focal-updates/main amd64 libasan5 amd64 9.3.0-17ubuntu1~20.04 [394 kB]\n",
      "Get:22 http://archive.ubuntu.com/ubuntu focal-updates/main amd64 liblsan0 amd64 10.3.0-1ubuntu1~20.04 [835 kB]\n",
      "Get:23 http://archive.ubuntu.com/ubuntu focal-updates/main amd64 libtsan0 amd64 10.3.0-1ubuntu1~20.04 [2,009 kB]\n",
      "Get:24 http://archive.ubuntu.com/ubuntu focal-updates/main amd64 libubsan1 amd64 10.3.0-1ubuntu1~20.04 [784 kB]\n",
      "Get:25 http://archive.ubuntu.com/ubuntu focal-updates/main amd64 libquadmath0 amd64 10.3.0-1ubuntu1~20.04 [146 kB]\n",
      "Get:26 http://archive.ubuntu.com/ubuntu focal-updates/main amd64 libgcc-9-dev amd64 9.3.0-17ubuntu1~20.04 [2,360 kB]\n",
      "Get:27 http://archive.ubuntu.com/ubuntu focal-updates/main amd64 gcc-9 amd64 9.3.0-17ubuntu1~20.04 [8,241 kB]\n",
      "Get:28 http://archive.ubuntu.com/ubuntu focal/main amd64 gcc amd64 4:9.3.0-1ubuntu2 [5,208 B]\n",
      "Get:29 http://archive.ubuntu.com/ubuntu focal-updates/main amd64 libc-dev-bin amd64 2.31-0ubuntu9.2 [71.8 kB]\n",
      "Get:30 http://archive.ubuntu.com/ubuntu focal-updates/main amd64 linux-libc-dev amd64 5.4.0-74.83 [1,141 kB]\n",
      "Get:31 http://archive.ubuntu.com/ubuntu focal/main amd64 libcrypt-dev amd64 1:4.4.10-10ubuntu4 [104 kB]\n",
      "Get:32 http://archive.ubuntu.com/ubuntu focal-updates/main amd64 libc6-dev amd64 2.31-0ubuntu9.2 [2,520 kB]\n",
      "Get:33 http://archive.ubuntu.com/ubuntu focal/main amd64 manpages-dev all 5.05-1 [2,266 kB]\n",
      "Fetched 33.7 MB in 3s (10.8 MB/s)        \u001b[0m\u001b[33m\n",
      "debconf: delaying package configuration, since apt-utils is not installed\n",
      "\n",
      "(Reading database ... 5177 files and directories currently installed.)\n",
      "Preparing to unpack .../gcc-10-base_10.3.0-1ubuntu1~20.04_amd64.deb ...\n",
      "\u001b7\u001b[24;0f\u001b[42m\u001b[30mProgress: [  0%]\u001b[49m\u001b[39m [..........................................................] \u001b8Unpacking gcc-10-base:amd64 (10.3.0-1ubuntu1~20.04) over (10.2.0-5ubuntu1~20.04) ...\n",
      "\u001b7\u001b[24;0f\u001b[42m\u001b[30mProgress: [  2%]\u001b[49m\u001b[39m [..........................................................] \u001b8Setting up gcc-10-base:amd64 (10.3.0-1ubuntu1~20.04) ...\n",
      "(Reading database ... 5177 files and directories currently installed.)...................................] \u001b8\u001b7\u001b[24;0f\u001b[42m\u001b[30mProgress: [  3%]\u001b[49m\u001b[39m [#.........................................................] \u001b8(Reading database ... \n",
      "Preparing to unpack .../libstdc++6_10.3.0-1ubuntu1~20.04_amd64.deb ...\n",
      "Unpacking libstdc++6:amd64 (10.3.0-1ubuntu1~20.04) over (10.2.0-5ubuntu1~20.04) ...\n",
      "\u001b7\u001b[24;0f\u001b[42m\u001b[30mProgress: [  5%]\u001b[49m\u001b[39m [##........................................................] \u001b8Setting up libstdc++6:amd64 (10.3.0-1ubuntu1~20.04) ...\n",
      "(Reading database ... 5177 files and directories currently installed.)...................................] \u001b8\u001b7\u001b[24;0f\u001b[42m\u001b[30mProgress: [  6%]\u001b[49m\u001b[39m [###.......................................................] \u001b8(Reading database ... \n",
      "Preparing to unpack .../libgcc-s1_10.3.0-1ubuntu1~20.04_amd64.deb ...\n",
      "Unpacking libgcc-s1:amd64 (10.3.0-1ubuntu1~20.04) over (10.2.0-5ubuntu1~20.04) ...\n",
      "\u001b7\u001b[24;0f\u001b[42m\u001b[30mProgress: [  8%]\u001b[49m\u001b[39m [####......................................................] \u001b8Setting up libgcc-s1:amd64 (10.3.0-1ubuntu1~20.04) ...\n",
      "\u001b7\u001b[24;0f\u001b[42m\u001b[30mProgress: [  8%]\u001b[49m\u001b[39m [####......................................................] \u001b8\u001b7\u001b[24;0f\u001b[42m\u001b[30mProgress: [  9%]\u001b[49m\u001b[39m [#####.....................................................] \u001b8Selecting previously unselected package manpages.\n",
      "(Reading database ... 5177 files and directories currently installed.)\n",
      "Preparing to unpack .../00-manpages_5.05-1_all.deb ...\n",
      "Unpacking manpages (5.05-1) ...\n",
      "\u001b7\u001b[24;0f\u001b[42m\u001b[30mProgress: [ 11%]\u001b[49m\u001b[39m [######....................................................] \u001b8Selecting previously unselected package binutils-common:amd64.\n",
      "Preparing to unpack .../01-binutils-common_2.34-6ubuntu1.1_amd64.deb ...\n",
      "\u001b7\u001b[24;0f\u001b[42m\u001b[30mProgress: [ 11%]\u001b[49m\u001b[39m [######....................................................] \u001b8Unpacking binutils-common:amd64 (2.34-6ubuntu1.1) ...\n",
      "\u001b7\u001b[24;0f\u001b[42m\u001b[30mProgress: [ 12%]\u001b[49m\u001b[39m [######....................................................] \u001b8Selecting previously unselected package libbinutils:amd64.\n",
      "Preparing to unpack .../02-libbinutils_2.34-6ubuntu1.1_amd64.deb ...\n",
      "Unpacking libbinutils:amd64 (2.34-6ubuntu1.1) ...\n",
      "\u001b7\u001b[24;0f\u001b[42m\u001b[30mProgress: [ 14%]\u001b[49m\u001b[39m [#######...................................................] \u001b8Selecting previously unselected package libctf-nobfd0:amd64.\n",
      "Preparing to unpack .../03-libctf-nobfd0_2.34-6ubuntu1.1_amd64.deb ...\n",
      "\u001b7\u001b[24;0f\u001b[42m\u001b[30mProgress: [ 14%]\u001b[49m\u001b[39m [########..................................................] \u001b8Unpacking libctf-nobfd0:amd64 (2.34-6ubuntu1.1) ...\n",
      "\u001b7\u001b[24;0f\u001b[42m\u001b[30mProgress: [ 15%]\u001b[49m\u001b[39m [########..................................................] \u001b8Selecting previously unselected package libctf0:amd64.\n",
      "Preparing to unpack .../04-libctf0_2.34-6ubuntu1.1_amd64.deb ...\n",
      "Unpacking libctf0:amd64 (2.34-6ubuntu1.1) ...\n",
      "\u001b7\u001b[24;0f\u001b[42m\u001b[30mProgress: [ 17%]\u001b[49m\u001b[39m [#########.................................................] \u001b8Selecting previously unselected package binutils-x86-64-linux-gnu.\n",
      "Preparing to unpack .../05-binutils-x86-64-linux-gnu_2.34-6ubuntu1.1_amd64.deb ...\n",
      "\u001b7\u001b[24;0f\u001b[42m\u001b[30mProgress: [ 17%]\u001b[49m\u001b[39m [##########................................................] \u001b8Unpacking binutils-x86-64-linux-gnu (2.34-6ubuntu1.1) ...\n",
      "\u001b7\u001b[24;0f\u001b[42m\u001b[30mProgress: [ 18%]\u001b[49m\u001b[39m [##########................................................] \u001b8Selecting previously unselected package binutils.\n",
      "Preparing to unpack .../06-binutils_2.34-6ubuntu1.1_amd64.deb ...\n",
      "Unpacking binutils (2.34-6ubuntu1.1) ...\n",
      "\u001b7\u001b[24;0f\u001b[42m\u001b[30mProgress: [ 20%]\u001b[49m\u001b[39m [###########...............................................] \u001b8Selecting previously unselected package gcc-9-base:amd64.\n",
      "Preparing to unpack .../07-gcc-9-base_9.3.0-17ubuntu1~20.04_amd64.deb ...\n",
      "\u001b7\u001b[24;0f\u001b[42m\u001b[30mProgress: [ 20%]\u001b[49m\u001b[39m [###########...............................................] \u001b8Unpacking gcc-9-base:amd64 (9.3.0-17ubuntu1~20.04) ...\n",
      "\u001b7\u001b[24;0f\u001b[42m\u001b[30mProgress: [ 21%]\u001b[49m\u001b[39m [############..............................................] \u001b8Selecting previously unselected package libisl22:amd64.\n",
      "Preparing to unpack .../08-libisl22_0.22.1-1_amd64.deb ...\n",
      "Unpacking libisl22:amd64 (0.22.1-1) ...\n",
      "\u001b7\u001b[24;0f\u001b[42m\u001b[30mProgress: [ 23%]\u001b[49m\u001b[39m [#############.............................................] \u001b8Selecting previously unselected package libmpfr6:amd64.\n",
      "Preparing to unpack .../09-libmpfr6_4.0.2-1_amd64.deb ...\n",
      "\u001b7\u001b[24;0f\u001b[42m\u001b[30mProgress: [ 23%]\u001b[49m\u001b[39m [#############.............................................] \u001b8Unpacking libmpfr6:amd64 (4.0.2-1) ...\n",
      "\u001b7\u001b[24;0f\u001b[42m\u001b[30mProgress: [ 24%]\u001b[49m\u001b[39m [#############.............................................] \u001b8Selecting previously unselected package libmpc3:amd64.\n",
      "Preparing to unpack .../10-libmpc3_1.1.0-1_amd64.deb ...\n",
      "Unpacking libmpc3:amd64 (1.1.0-1) ...\n",
      "\u001b7\u001b[24;0f\u001b[42m\u001b[30mProgress: [ 26%]\u001b[49m\u001b[39m [##############............................................] \u001b8Selecting previously unselected package cpp-9.\n",
      "Preparing to unpack .../11-cpp-9_9.3.0-17ubuntu1~20.04_amd64.deb ...\n",
      "\u001b7\u001b[24;0f\u001b[42m\u001b[30mProgress: [ 26%]\u001b[49m\u001b[39m [###############...........................................] \u001b8Unpacking cpp-9 (9.3.0-17ubuntu1~20.04) ...\n",
      "\u001b7\u001b[24;0f\u001b[42m\u001b[30mProgress: [ 27%]\u001b[49m\u001b[39m [###############...........................................] \u001b8Selecting previously unselected package cpp.\n",
      "Preparing to unpack .../12-cpp_4%3a9.3.0-1ubuntu2_amd64.deb ...\n",
      "Unpacking cpp (4:9.3.0-1ubuntu2) ...\n",
      "\u001b7\u001b[24;0f\u001b[42m\u001b[30mProgress: [ 29%]\u001b[49m\u001b[39m [################..........................................] \u001b8Selecting previously unselected package libcc1-0:amd64.\n",
      "Preparing to unpack .../13-libcc1-0_10.3.0-1ubuntu1~20.04_amd64.deb ...\n",
      "\u001b7\u001b[24;0f\u001b[42m\u001b[30mProgress: [ 29%]\u001b[49m\u001b[39m [#################.........................................] \u001b8Unpacking libcc1-0:amd64 (10.3.0-1ubuntu1~20.04) ...\n",
      "\u001b7\u001b[24;0f\u001b[42m\u001b[30mProgress: [ 30%]\u001b[49m\u001b[39m [#################.........................................] \u001b8Selecting previously unselected package libgomp1:amd64.\n",
      "Preparing to unpack .../14-libgomp1_10.3.0-1ubuntu1~20.04_amd64.deb ...\n",
      "Unpacking libgomp1:amd64 (10.3.0-1ubuntu1~20.04) ...\n",
      "\u001b7\u001b[24;0f\u001b[42m\u001b[30mProgress: [ 32%]\u001b[49m\u001b[39m [##################........................................] \u001b8Selecting previously unselected package libitm1:amd64.\n",
      "Preparing to unpack .../15-libitm1_10.3.0-1ubuntu1~20.04_amd64.deb ...\n",
      "\u001b7\u001b[24;0f\u001b[42m\u001b[30mProgress: [ 32%]\u001b[49m\u001b[39m [##################........................................] \u001b8Unpacking libitm1:amd64 (10.3.0-1ubuntu1~20.04) ...\n",
      "\u001b7\u001b[24;0f\u001b[42m\u001b[30mProgress: [ 33%]\u001b[49m\u001b[39m [###################.......................................] \u001b8Selecting previously unselected package libatomic1:amd64.\n",
      "Preparing to unpack .../16-libatomic1_10.3.0-1ubuntu1~20.04_amd64.deb ...\n",
      "Unpacking libatomic1:amd64 (10.3.0-1ubuntu1~20.04) ...\n",
      "\u001b7\u001b[24;0f\u001b[42m\u001b[30mProgress: [ 35%]\u001b[49m\u001b[39m [####################......................................] \u001b8Selecting previously unselected package libasan5:amd64.\n",
      "Preparing to unpack .../17-libasan5_9.3.0-17ubuntu1~20.04_amd64.deb ...\n",
      "\u001b7\u001b[24;0f\u001b[42m\u001b[30mProgress: [ 35%]\u001b[49m\u001b[39m [####################......................................] \u001b8Unpacking libasan5:amd64 (9.3.0-17ubuntu1~20.04) ...\n",
      "\u001b7\u001b[24;0f\u001b[42m\u001b[30mProgress: [ 36%]\u001b[49m\u001b[39m [####################......................................] \u001b8Selecting previously unselected package liblsan0:amd64.\n",
      "Preparing to unpack .../18-liblsan0_10.3.0-1ubuntu1~20.04_amd64.deb ...\n",
      "Unpacking liblsan0:amd64 (10.3.0-1ubuntu1~20.04) ...\n",
      "\u001b7\u001b[24;0f\u001b[42m\u001b[30mProgress: [ 38%]\u001b[49m\u001b[39m [#####################.....................................] \u001b8Selecting previously unselected package libtsan0:amd64.\n",
      "Preparing to unpack .../19-libtsan0_10.3.0-1ubuntu1~20.04_amd64.deb ...\n",
      "\u001b7\u001b[24;0f\u001b[42m\u001b[30mProgress: [ 38%]\u001b[49m\u001b[39m [######################....................................] \u001b8Unpacking libtsan0:amd64 (10.3.0-1ubuntu1~20.04) ...\n",
      "\u001b7\u001b[24;0f\u001b[42m\u001b[30mProgress: [ 39%]\u001b[49m\u001b[39m [######################....................................] \u001b8Selecting previously unselected package libubsan1:amd64.\n",
      "Preparing to unpack .../20-libubsan1_10.3.0-1ubuntu1~20.04_amd64.deb ...\n",
      "Unpacking libubsan1:amd64 (10.3.0-1ubuntu1~20.04) ...\n",
      "\u001b7\u001b[24;0f\u001b[42m\u001b[30mProgress: [ 41%]\u001b[49m\u001b[39m [#######################...................................] \u001b8Selecting previously unselected package libquadmath0:amd64.\n",
      "Preparing to unpack .../21-libquadmath0_10.3.0-1ubuntu1~20.04_amd64.deb ...\n",
      "\u001b7\u001b[24;0f\u001b[42m\u001b[30mProgress: [ 41%]\u001b[49m\u001b[39m [#######################...................................] \u001b8Unpacking libquadmath0:amd64 (10.3.0-1ubuntu1~20.04) ...\n",
      "\u001b7\u001b[24;0f\u001b[42m\u001b[30mProgress: [ 42%]\u001b[49m\u001b[39m [########################..................................] \u001b8Selecting previously unselected package libgcc-9-dev:amd64.\n",
      "Preparing to unpack .../22-libgcc-9-dev_9.3.0-17ubuntu1~20.04_amd64.deb ...\n",
      "Unpacking libgcc-9-dev:amd64 (9.3.0-17ubuntu1~20.04) ...\n",
      "\u001b7\u001b[24;0f\u001b[42m\u001b[30mProgress: [ 44%]\u001b[49m\u001b[39m [#########################.................................] \u001b8Selecting previously unselected package gcc-9.\n",
      "Preparing to unpack .../23-gcc-9_9.3.0-17ubuntu1~20.04_amd64.deb ...\n",
      "\u001b7\u001b[24;0f\u001b[42m\u001b[30mProgress: [ 44%]\u001b[49m\u001b[39m [#########################.................................] \u001b8Unpacking gcc-9 (9.3.0-17ubuntu1~20.04) ...\n",
      "\u001b7\u001b[24;0f\u001b[42m\u001b[30mProgress: [ 45%]\u001b[49m\u001b[39m [##########################................................] \u001b8Selecting previously unselected package gcc.\n",
      "Preparing to unpack .../24-gcc_4%3a9.3.0-1ubuntu2_amd64.deb ...\n",
      "Unpacking gcc (4:9.3.0-1ubuntu2) ...\n",
      "\u001b7\u001b[24;0f\u001b[42m\u001b[30mProgress: [ 47%]\u001b[49m\u001b[39m [###########################...............................] \u001b8Selecting previously unselected package libc-dev-bin.\n",
      "Preparing to unpack .../25-libc-dev-bin_2.31-0ubuntu9.2_amd64.deb ...\n",
      "\u001b7\u001b[24;0f\u001b[42m\u001b[30mProgress: [ 47%]\u001b[49m\u001b[39m [###########################...............................] \u001b8Unpacking libc-dev-bin (2.31-0ubuntu9.2) ...\n",
      "\u001b7\u001b[24;0f\u001b[42m\u001b[30mProgress: [ 48%]\u001b[49m\u001b[39m [###########################...............................] \u001b8Selecting previously unselected package linux-libc-dev:amd64.\n",
      "Preparing to unpack .../26-linux-libc-dev_5.4.0-74.83_amd64.deb ...\n",
      "Unpacking linux-libc-dev:amd64 (5.4.0-74.83) ...\n",
      "\u001b7\u001b[24;0f\u001b[42m\u001b[30mProgress: [ 50%]\u001b[49m\u001b[39m [############################..............................] \u001b8Selecting previously unselected package libcrypt-dev:amd64.\n",
      "Preparing to unpack .../27-libcrypt-dev_1%3a4.4.10-10ubuntu4_amd64.deb ...\n",
      "\u001b7\u001b[24;0f\u001b[42m\u001b[30mProgress: [ 50%]\u001b[49m\u001b[39m [#############################.............................] \u001b8Unpacking libcrypt-dev:amd64 (1:4.4.10-10ubuntu4) ...\n",
      "\u001b7\u001b[24;0f\u001b[42m\u001b[30mProgress: [ 51%]\u001b[49m\u001b[39m [#############################.............................] \u001b8Selecting previously unselected package libc6-dev:amd64.\n",
      "Preparing to unpack .../28-libc6-dev_2.31-0ubuntu9.2_amd64.deb ...\n",
      "Unpacking libc6-dev:amd64 (2.31-0ubuntu9.2) ...\n",
      "\u001b7\u001b[24;0f\u001b[42m\u001b[30mProgress: [ 53%]\u001b[49m\u001b[39m [##############################............................] \u001b8Selecting previously unselected package manpages-dev.\n",
      "Preparing to unpack .../29-manpages-dev_5.05-1_all.deb ...\n",
      "\u001b7\u001b[24;0f\u001b[42m\u001b[30mProgress: [ 53%]\u001b[49m\u001b[39m [##############################............................] \u001b8Unpacking manpages-dev (5.05-1) ...\n",
      "\u001b7\u001b[24;0f\u001b[42m\u001b[30mProgress: [ 54%]\u001b[49m\u001b[39m [###############################...........................] \u001b8Setting up manpages (5.05-1) ...\n",
      "\u001b7\u001b[24;0f\u001b[42m\u001b[30mProgress: [ 56%]\u001b[49m\u001b[39m [################################..........................] \u001b8Setting up binutils-common:amd64 (2.34-6ubuntu1.1) ...\n",
      "\u001b7\u001b[24;0f\u001b[42m\u001b[30mProgress: [ 56%]\u001b[49m\u001b[39m [################################..........................] \u001b8\u001b7\u001b[24;0f\u001b[42m\u001b[30mProgress: [ 57%]\u001b[49m\u001b[39m [#################################.........................] \u001b8Setting up linux-libc-dev:amd64 (5.4.0-74.83) ...\n",
      "\u001b7\u001b[24;0f\u001b[42m\u001b[30mProgress: [ 59%]\u001b[49m\u001b[39m [##################################........................] \u001b8Setting up libctf-nobfd0:amd64 (2.34-6ubuntu1.1) ...\n",
      "\u001b7\u001b[24;0f\u001b[42m\u001b[30mProgress: [ 59%]\u001b[49m\u001b[39m [##################################........................] \u001b8\u001b7\u001b[24;0f\u001b[42m\u001b[30mProgress: [ 60%]\u001b[49m\u001b[39m [##################################........................] \u001b8Setting up libgomp1:amd64 (10.3.0-1ubuntu1~20.04) ...\n",
      "\u001b7\u001b[24;0f\u001b[42m\u001b[30mProgress: [ 62%]\u001b[49m\u001b[39m [###################################.......................] \u001b8Setting up libmpfr6:amd64 (4.0.2-1) ...\n",
      "\u001b7\u001b[24;0f\u001b[42m\u001b[30mProgress: [ 62%]\u001b[49m\u001b[39m [####################################......................] \u001b8\u001b7\u001b[24;0f\u001b[42m\u001b[30mProgress: [ 63%]\u001b[49m\u001b[39m [####################################......................] \u001b8Setting up libquadmath0:amd64 (10.3.0-1ubuntu1~20.04) ...\n",
      "\u001b7\u001b[24;0f\u001b[42m\u001b[30mProgress: [ 65%]\u001b[49m\u001b[39m [#####################################.....................] \u001b8Setting up libmpc3:amd64 (1.1.0-1) ...\n",
      "\u001b7\u001b[24;0f\u001b[42m\u001b[30mProgress: [ 65%]\u001b[49m\u001b[39m [#####################################.....................] \u001b8\u001b7\u001b[24;0f\u001b[42m\u001b[30mProgress: [ 66%]\u001b[49m\u001b[39m [######################################....................] \u001b8Setting up libatomic1:amd64 (10.3.0-1ubuntu1~20.04) ...\n",
      "\u001b7\u001b[24;0f\u001b[42m\u001b[30mProgress: [ 68%]\u001b[49m\u001b[39m [#######################################...................] \u001b8Setting up libubsan1:amd64 (10.3.0-1ubuntu1~20.04) ...\n",
      "\u001b7\u001b[24;0f\u001b[42m\u001b[30mProgress: [ 68%]\u001b[49m\u001b[39m [#######################################...................] \u001b8\u001b7\u001b[24;0f\u001b[42m\u001b[30mProgress: [ 69%]\u001b[49m\u001b[39m [########################################..................] \u001b8Setting up libcrypt-dev:amd64 (1:4.4.10-10ubuntu4) ...\n",
      "\u001b7\u001b[24;0f\u001b[42m\u001b[30mProgress: [ 71%]\u001b[49m\u001b[39m [########################################..................] \u001b8Setting up libisl22:amd64 (0.22.1-1) ...\n",
      "\u001b7\u001b[24;0f\u001b[42m\u001b[30mProgress: [ 71%]\u001b[49m\u001b[39m [#########################################.................] \u001b8\u001b7\u001b[24;0f\u001b[42m\u001b[30mProgress: [ 72%]\u001b[49m\u001b[39m [#########################################.................] \u001b8Setting up libbinutils:amd64 (2.34-6ubuntu1.1) ...\n",
      "\u001b7\u001b[24;0f\u001b[42m\u001b[30mProgress: [ 74%]\u001b[49m\u001b[39m [##########################################................] \u001b8Setting up libc-dev-bin (2.31-0ubuntu9.2) ...\n",
      "\u001b7\u001b[24;0f\u001b[42m\u001b[30mProgress: [ 74%]\u001b[49m\u001b[39m [###########################################...............] \u001b8\u001b7\u001b[24;0f\u001b[42m\u001b[30mProgress: [ 75%]\u001b[49m\u001b[39m [###########################################...............] \u001b8Setting up libcc1-0:amd64 (10.3.0-1ubuntu1~20.04) ...\n",
      "\u001b7\u001b[24;0f\u001b[42m\u001b[30mProgress: [ 77%]\u001b[49m\u001b[39m [############################################..............] \u001b8Setting up liblsan0:amd64 (10.3.0-1ubuntu1~20.04) ...\n",
      "\u001b7\u001b[24;0f\u001b[42m\u001b[30mProgress: [ 77%]\u001b[49m\u001b[39m [############################################..............] \u001b8\u001b7\u001b[24;0f\u001b[42m\u001b[30mProgress: [ 78%]\u001b[49m\u001b[39m [#############################################.............] \u001b8Setting up libitm1:amd64 (10.3.0-1ubuntu1~20.04) ...\n",
      "\u001b7\u001b[24;0f\u001b[42m\u001b[30mProgress: [ 80%]\u001b[49m\u001b[39m [##############################################............] \u001b8Setting up gcc-9-base:amd64 (9.3.0-17ubuntu1~20.04) ...\n",
      "\u001b7\u001b[24;0f\u001b[42m\u001b[30mProgress: [ 80%]\u001b[49m\u001b[39m [##############################################............] \u001b8\u001b7\u001b[24;0f\u001b[42m\u001b[30mProgress: [ 81%]\u001b[49m\u001b[39m [###############################################...........] \u001b8Setting up libtsan0:amd64 (10.3.0-1ubuntu1~20.04) ...\n",
      "\u001b7\u001b[24;0f\u001b[42m\u001b[30mProgress: [ 83%]\u001b[49m\u001b[39m [###############################################...........] \u001b8Setting up libctf0:amd64 (2.34-6ubuntu1.1) ...\n",
      "\u001b7\u001b[24;0f\u001b[42m\u001b[30mProgress: [ 83%]\u001b[49m\u001b[39m [################################################..........] \u001b8\u001b7\u001b[24;0f\u001b[42m\u001b[30mProgress: [ 84%]\u001b[49m\u001b[39m [################################################..........] \u001b8Setting up manpages-dev (5.05-1) ...\n",
      "\u001b7\u001b[24;0f\u001b[42m\u001b[30mProgress: [ 86%]\u001b[49m\u001b[39m [#################################################.........] \u001b8Setting up libasan5:amd64 (9.3.0-17ubuntu1~20.04) ...\n",
      "\u001b7\u001b[24;0f\u001b[42m\u001b[30mProgress: [ 86%]\u001b[49m\u001b[39m [##################################################........] \u001b8\u001b7\u001b[24;0f\u001b[42m\u001b[30mProgress: [ 87%]\u001b[49m\u001b[39m [##################################################........] \u001b8Setting up cpp-9 (9.3.0-17ubuntu1~20.04) ...\n",
      "\u001b7\u001b[24;0f\u001b[42m\u001b[30mProgress: [ 89%]\u001b[49m\u001b[39m [###################################################.......] \u001b8Setting up libc6-dev:amd64 (2.31-0ubuntu9.2) ...\n",
      "\u001b7\u001b[24;0f\u001b[42m\u001b[30mProgress: [ 89%]\u001b[49m\u001b[39m [###################################################.......] \u001b8\u001b7\u001b[24;0f\u001b[42m\u001b[30mProgress: [ 90%]\u001b[49m\u001b[39m [####################################################......] \u001b8Setting up binutils-x86-64-linux-gnu (2.34-6ubuntu1.1) ...\n",
      "\u001b7\u001b[24;0f\u001b[42m\u001b[30mProgress: [ 92%]\u001b[49m\u001b[39m [#####################################################.....] \u001b8Setting up binutils (2.34-6ubuntu1.1) ...\n",
      "\u001b7\u001b[24;0f\u001b[42m\u001b[30mProgress: [ 92%]\u001b[49m\u001b[39m [#####################################################.....] \u001b8\u001b7\u001b[24;0f\u001b[42m\u001b[30mProgress: [ 93%]\u001b[49m\u001b[39m [######################################################....] \u001b8Setting up libgcc-9-dev:amd64 (9.3.0-17ubuntu1~20.04) ...\n",
      "\u001b7\u001b[24;0f\u001b[42m\u001b[30mProgress: [ 95%]\u001b[49m\u001b[39m [######################################################....] \u001b8Setting up cpp (4:9.3.0-1ubuntu2) ...\n",
      "\u001b7\u001b[24;0f\u001b[42m\u001b[30mProgress: [ 95%]\u001b[49m\u001b[39m [#######################################################...] \u001b8\u001b7\u001b[24;0f\u001b[42m\u001b[30mProgress: [ 96%]\u001b[49m\u001b[39m [#######################################################...] \u001b8Setting up gcc-9 (9.3.0-17ubuntu1~20.04) ...\n",
      "\u001b7\u001b[24;0f\u001b[42m\u001b[30mProgress: [ 98%]\u001b[49m\u001b[39m [########################################################..] \u001b8Setting up gcc (4:9.3.0-1ubuntu2) ...\n",
      "\u001b7\u001b[24;0f\u001b[42m\u001b[30mProgress: [ 98%]\u001b[49m\u001b[39m [#########################################################.] \u001b8\u001b7\u001b[24;0f\u001b[42m\u001b[30mProgress: [ 99%]\u001b[49m\u001b[39m [#########################################################.] \u001b8Processing triggers for libc-bin (2.31-0ubuntu9.2) ...\n",
      "\n",
      "\u001b7\u001b[0;24r\u001b8\u001b[1A\u001b[JCollecting py-solc\n",
      "  Using cached py_solc-3.2.0-py3-none-any.whl (12 kB)\n",
      "Collecting py-solc-x\n",
      "  Using cached py_solc_x-1.1.0-py3-none-any.whl (15 kB)\n",
      "Collecting web3\n",
      "  Using cached web3-5.20.0-py3-none-any.whl (480 kB)\n",
      "Requirement already satisfied: ipykernel in /opt/conda/lib/python3.9/site-packages (from -r requirements.txt (line 4)) (5.5.5)\n",
      "Collecting Cython\n",
      "  Using cached Cython-0.29.23-cp39-cp39-manylinux1_x86_64.whl (1.9 MB)\n",
      "Collecting ethereum==2.3.1\n",
      "  Using cached ethereum-2.3.1-py3-none-any.whl\n",
      "Collecting rlp==1.0.1\n",
      "  Using cached rlp-1.0.1-py2.py3-none-any.whl (18 kB)\n",
      "Collecting eth_utils>=1.0.3\n",
      "  Using cached eth_utils-1.10.0-py3-none-any.whl (24 kB)\n",
      "Collecting numpy\n",
      "  Using cached numpy-1.21.0-cp39-cp39-manylinux_2_12_x86_64.manylinux2010_x86_64.whl (15.7 MB)\n",
      "Collecting pandas\n",
      "  Using cached pandas-1.2.5-cp39-cp39-manylinux_2_5_x86_64.manylinux1_x86_64.whl (9.7 MB)\n",
      "Requirement already satisfied: tqdm in /opt/conda/lib/python3.9/site-packages (from -r requirements.txt (line 11)) (4.61.0)\n",
      "Collecting altair\n",
      "  Using cached altair-4.1.0-py3-none-any.whl (727 kB)\n",
      "Collecting matplotlib\n",
      "  Using cached matplotlib-3.4.2-cp39-cp39-manylinux1_x86_64.whl (10.3 MB)\n",
      "Collecting pyethash\n",
      "  Using cached pyethash-0.1.27.tar.gz (38 kB)\n",
      "Collecting coincurve>=7.0.0\n",
      "  Using cached coincurve-15.0.0-cp39-cp39-manylinux2014_x86_64.whl (555 kB)\n",
      "Collecting py-ecc\n",
      "  Using cached py_ecc-5.2.0-py3-none-any.whl (43 kB)\n",
      "Collecting scrypt\n",
      "  Using cached scrypt-0.8.18-cp39-cp39-manylinux2010_x86_64.whl (924 kB)\n",
      "Collecting pbkdf2\n",
      "  Using cached pbkdf2-1.3-py3-none-any.whl\n",
      "Collecting PyYAML\n",
      "  Using cached PyYAML-5.4.1-cp39-cp39-manylinux1_x86_64.whl (630 kB)\n",
      "Collecting pysha3>=1.0.1\n",
      "  Using cached pysha3-1.0.2.tar.gz (829 kB)\n",
      "Collecting pycryptodome>=3.4.7\n",
      "  Using cached pycryptodome-3.10.1-cp35-abi3-manylinux2010_x86_64.whl (1.9 MB)\n",
      "Collecting future\n",
      "  Using cached future-0.18.2-py3-none-any.whl\n",
      "Collecting repoze.lru\n",
      "  Using cached repoze.lru-0.7-py3-none-any.whl (10 kB)\n",
      "Collecting cytoolz<1.0.0,>=0.10.1\n",
      "  Using cached cytoolz-0.11.0.tar.gz (477 kB)\n",
      "Requirement already satisfied: eth-typing<3.0.0,>=2.2.1 in /opt/conda/lib/python3.9/site-packages (from eth_utils>=1.0.3->-r requirements.txt (line 8)) (2.2.2)\n",
      "Requirement already satisfied: eth-hash<0.4.0,>=0.3.1 in /opt/conda/lib/python3.9/site-packages (from eth_utils>=1.0.3->-r requirements.txt (line 8)) (0.3.1)\n",
      "Requirement already satisfied: cffi>=1.3.0 in /opt/conda/lib/python3.9/site-packages (from coincurve>=7.0.0->ethereum==2.3.1->-r requirements.txt (line 6)) (1.14.5)\n",
      "Collecting asn1crypto\n",
      "  Using cached asn1crypto-1.4.0-py2.py3-none-any.whl (104 kB)\n",
      "Requirement already satisfied: pycparser in /opt/conda/lib/python3.9/site-packages (from cffi>=1.3.0->coincurve>=7.0.0->ethereum==2.3.1->-r requirements.txt (line 6)) (2.20)\n",
      "Requirement already satisfied: toolz>=0.8.0 in /opt/conda/lib/python3.9/site-packages (from cytoolz<1.0.0,>=0.10.1->eth_utils>=1.0.3->-r requirements.txt (line 8)) (0.11.1)\n",
      "Collecting semantic-version>=2.6.0\n",
      "  Using cached semantic_version-2.8.5-py2.py3-none-any.whl (15 kB)\n",
      "Requirement already satisfied: requests<3,>=2.19.0 in /opt/conda/lib/python3.9/site-packages (from py-solc-x->-r requirements.txt (line 2)) (2.25.1)\n",
      "Requirement already satisfied: idna<3,>=2.5 in /opt/conda/lib/python3.9/site-packages (from requests<3,>=2.19.0->py-solc-x->-r requirements.txt (line 2)) (2.10)\n",
      "Requirement already satisfied: certifi>=2017.4.17 in /opt/conda/lib/python3.9/site-packages (from requests<3,>=2.19.0->py-solc-x->-r requirements.txt (line 2)) (2021.5.30)\n",
      "Requirement already satisfied: urllib3<1.27,>=1.21.1 in /opt/conda/lib/python3.9/site-packages (from requests<3,>=2.19.0->py-solc-x->-r requirements.txt (line 2)) (1.26.5)\n",
      "Requirement already satisfied: chardet<5,>=3.0.2 in /opt/conda/lib/python3.9/site-packages (from requests<3,>=2.19.0->py-solc-x->-r requirements.txt (line 2)) (4.0.0)\n",
      "Collecting lru-dict<2.0.0,>=1.1.6\n",
      "  Using cached lru-dict-1.1.7.tar.gz (10 kB)\n",
      "Requirement already satisfied: jsonschema<4.0.0,>=3.2.0 in /opt/conda/lib/python3.9/site-packages (from web3->-r requirements.txt (line 3)) (3.2.0)\n",
      "Collecting aiohttp<4,>=3.7.4.post0\n",
      "  Using cached aiohttp-3.7.4.post0-cp39-cp39-manylinux2014_x86_64.whl (1.4 MB)\n",
      "Collecting eth-abi<3.0.0,>=2.0.0b6\n",
      "  Using cached eth_abi-2.1.1-py3-none-any.whl (27 kB)\n",
      "Collecting eth-account<0.6.0,>=0.5.3\n",
      "  Using cached eth_account-0.5.4-py3-none-any.whl (94 kB)\n",
      "Collecting protobuf<4,>=3.10.0\n",
      "  Using cached protobuf-3.17.3-cp39-cp39-manylinux_2_5_x86_64.manylinux1_x86_64.whl (1.0 MB)\n",
      "Collecting websockets<9.0.0,>=8.1.0\n",
      "  Using cached websockets-8.1-cp39-cp39-linux_x86_64.whl\n",
      "Collecting ipfshttpclient==0.7.0\n",
      "  Using cached ipfshttpclient-0.7.0-py3-none-any.whl (82 kB)\n",
      "Collecting hexbytes<1.0.0,>=0.1.0\n",
      "  Using cached hexbytes-0.2.1-py3-none-any.whl (6.0 kB)\n",
      "Collecting multiaddr>=0.0.7\n",
      "  Using cached multiaddr-0.0.9-py2.py3-none-any.whl (16 kB)\n",
      "Collecting async-timeout<4.0,>=3.0\n",
      "  Using cached async_timeout-3.0.1-py3-none-any.whl (8.2 kB)\n",
      "Collecting multidict<7.0,>=4.5\n",
      "  Using cached multidict-5.1.0-cp39-cp39-manylinux2014_x86_64.whl (151 kB)\n",
      "Requirement already satisfied: attrs>=17.3.0 in /opt/conda/lib/python3.9/site-packages (from aiohttp<4,>=3.7.4.post0->web3->-r requirements.txt (line 3)) (21.2.0)\n",
      "Collecting typing-extensions>=3.6.5\n",
      "  Using cached typing_extensions-3.10.0.0-py3-none-any.whl (26 kB)\n",
      "Collecting yarl<2.0,>=1.0\n",
      "  Using cached yarl-1.6.3-cp39-cp39-manylinux2014_x86_64.whl (315 kB)\n",
      "Collecting parsimonious<0.9.0,>=0.8.0\n",
      "  Using cached parsimonious-0.8.1-py3-none-any.whl\n",
      "Collecting bitarray<1.3.0,>=1.2.1\n",
      "  Using cached bitarray-1.2.2.tar.gz (48 kB)\n",
      "Collecting eth-rlp<2,>=0.1.2\n",
      "  Using cached eth_rlp-0.2.1-py3-none-any.whl (5.0 kB)\n",
      "Collecting eth-keyfile<0.6.0,>=0.5.0\n",
      "  Using cached eth_keyfile-0.5.1-py3-none-any.whl (8.3 kB)\n",
      "Collecting eth-keys!=0.3.2,<0.4.0,>=0.2.1\n",
      "  Using cached eth_keys-0.3.3-py3-none-any.whl (20 kB)\n",
      "Requirement already satisfied: setuptools in /opt/conda/lib/python3.9/site-packages (from jsonschema<4.0.0,>=3.2.0->web3->-r requirements.txt (line 3)) (49.6.0.post20210108)\n",
      "Requirement already satisfied: six>=1.11.0 in /opt/conda/lib/python3.9/site-packages (from jsonschema<4.0.0,>=3.2.0->web3->-r requirements.txt (line 3)) (1.16.0)\n",
      "Requirement already satisfied: pyrsistent>=0.14.0 in /opt/conda/lib/python3.9/site-packages (from jsonschema<4.0.0,>=3.2.0->web3->-r requirements.txt (line 3)) (0.17.3)\n",
      "Collecting varint\n",
      "  Using cached varint-1.0.2-py3-none-any.whl\n",
      "Collecting netaddr\n",
      "  Using cached netaddr-0.8.0-py2.py3-none-any.whl (1.9 MB)\n",
      "Collecting base58\n",
      "  Using cached base58-2.1.0-py3-none-any.whl (5.6 kB)\n",
      "Requirement already satisfied: jupyter-client in /opt/conda/lib/python3.9/site-packages (from ipykernel->-r requirements.txt (line 4)) (6.1.12)\n",
      "Requirement already satisfied: ipython>=5.0.0 in /opt/conda/lib/python3.9/site-packages (from ipykernel->-r requirements.txt (line 4)) (7.24.0)\n",
      "Requirement already satisfied: tornado>=4.2 in /opt/conda/lib/python3.9/site-packages (from ipykernel->-r requirements.txt (line 4)) (6.1)\n",
      "Requirement already satisfied: traitlets>=4.1.0 in /opt/conda/lib/python3.9/site-packages (from ipykernel->-r requirements.txt (line 4)) (5.0.5)\n",
      "Requirement already satisfied: decorator in /opt/conda/lib/python3.9/site-packages (from ipython>=5.0.0->ipykernel->-r requirements.txt (line 4)) (5.0.9)\n",
      "Requirement already satisfied: jedi>=0.16 in /opt/conda/lib/python3.9/site-packages (from ipython>=5.0.0->ipykernel->-r requirements.txt (line 4)) (0.18.0)\n",
      "Requirement already satisfied: prompt-toolkit!=3.0.0,!=3.0.1,<3.1.0,>=2.0.0 in /opt/conda/lib/python3.9/site-packages (from ipython>=5.0.0->ipykernel->-r requirements.txt (line 4)) (3.0.18)\n",
      "Requirement already satisfied: pygments in /opt/conda/lib/python3.9/site-packages (from ipython>=5.0.0->ipykernel->-r requirements.txt (line 4)) (2.9.0)\n",
      "Requirement already satisfied: matplotlib-inline in /opt/conda/lib/python3.9/site-packages (from ipython>=5.0.0->ipykernel->-r requirements.txt (line 4)) (0.1.2)\n",
      "Requirement already satisfied: pexpect>4.3 in /opt/conda/lib/python3.9/site-packages (from ipython>=5.0.0->ipykernel->-r requirements.txt (line 4)) (4.8.0)\n",
      "Requirement already satisfied: backcall in /opt/conda/lib/python3.9/site-packages (from ipython>=5.0.0->ipykernel->-r requirements.txt (line 4)) (0.2.0)\n",
      "Requirement already satisfied: pickleshare in /opt/conda/lib/python3.9/site-packages (from ipython>=5.0.0->ipykernel->-r requirements.txt (line 4)) (0.7.5)\n",
      "Requirement already satisfied: parso<0.9.0,>=0.8.0 in /opt/conda/lib/python3.9/site-packages (from jedi>=0.16->ipython>=5.0.0->ipykernel->-r requirements.txt (line 4)) (0.8.2)\n",
      "Requirement already satisfied: ptyprocess>=0.5 in /opt/conda/lib/python3.9/site-packages (from pexpect>4.3->ipython>=5.0.0->ipykernel->-r requirements.txt (line 4)) (0.7.0)\n",
      "Requirement already satisfied: wcwidth in /opt/conda/lib/python3.9/site-packages (from prompt-toolkit!=3.0.0,!=3.0.1,<3.1.0,>=2.0.0->ipython>=5.0.0->ipykernel->-r requirements.txt (line 4)) (0.2.5)\n",
      "Requirement already satisfied: ipython-genutils in /opt/conda/lib/python3.9/site-packages (from traitlets>=4.1.0->ipykernel->-r requirements.txt (line 4)) (0.2.0)\n",
      "Requirement already satisfied: pytz>=2017.3 in /opt/conda/lib/python3.9/site-packages (from pandas->-r requirements.txt (line 10)) (2021.1)\n",
      "Requirement already satisfied: python-dateutil>=2.7.3 in /opt/conda/lib/python3.9/site-packages (from pandas->-r requirements.txt (line 10)) (2.8.1)\n",
      "Requirement already satisfied: jinja2 in /opt/conda/lib/python3.9/site-packages (from altair->-r requirements.txt (line 12)) (3.0.1)\n",
      "Requirement already satisfied: entrypoints in /opt/conda/lib/python3.9/site-packages (from altair->-r requirements.txt (line 12)) (0.3)\n",
      "Requirement already satisfied: pyparsing>=2.2.1 in /opt/conda/lib/python3.9/site-packages (from matplotlib->-r requirements.txt (line 13)) (2.4.7)\n",
      "Collecting kiwisolver>=1.0.1\n",
      "  Using cached kiwisolver-1.3.1-cp39-cp39-manylinux1_x86_64.whl (1.2 MB)\n",
      "Collecting cycler>=0.10\n",
      "  Using cached cycler-0.10.0-py2.py3-none-any.whl (6.5 kB)\n",
      "Collecting pillow>=6.2.0\n",
      "  Using cached Pillow-8.2.0-cp39-cp39-manylinux1_x86_64.whl (3.0 MB)\n",
      "Requirement already satisfied: MarkupSafe>=2.0 in /opt/conda/lib/python3.9/site-packages (from jinja2->altair->-r requirements.txt (line 12)) (2.0.1)\n",
      "Requirement already satisfied: jupyter-core>=4.6.0 in /opt/conda/lib/python3.9/site-packages (from jupyter-client->ipykernel->-r requirements.txt (line 4)) (4.7.1)\n",
      "Requirement already satisfied: pyzmq>=13 in /opt/conda/lib/python3.9/site-packages (from jupyter-client->ipykernel->-r requirements.txt (line 4)) (22.1.0)\n",
      "Collecting mypy-extensions>=0.4.1\n",
      "  Using cached mypy_extensions-0.4.3-py2.py3-none-any.whl (4.5 kB)\n",
      "Collecting cached-property<2,>=1.5.1\n",
      "  Using cached cached_property-1.5.2-py2.py3-none-any.whl (7.6 kB)\n",
      "Building wheels for collected packages: cytoolz, pysha3, bitarray, lru-dict, pyethash\n",
      "  Building wheel for cytoolz (setup.py) ... \u001b[?25ldone\n",
      "\u001b[?25h  Created wheel for cytoolz: filename=cytoolz-0.11.0-cp39-cp39-linux_x86_64.whl size=448695 sha256=3df06e7da822a61d2eb45b7a04fd5d48c005d445bc703dfcede23da788d24f6e\n",
      "  Stored in directory: /home/jovyan/.cache/pip/wheels/44/32/8a/20fd18c5c2980d618d0170f871d5de63729c398569ff8595e0\n",
      "  Building wheel for pysha3 (setup.py) ... \u001b[?25ldone\n",
      "\u001b[?25h  Created wheel for pysha3: filename=pysha3-1.0.2-cp39-cp39-linux_x86_64.whl size=47977 sha256=0c1ee85df4be02b1163bb155166068e6f00d86e3a3e3976a46b7d9b523242c3a\n",
      "  Stored in directory: /home/jovyan/.cache/pip/wheels/17/9d/00/86e22a32b0109bd3c8797adf13a74427aa38e6ad1135633d50\n",
      "  Building wheel for bitarray (setup.py) ... \u001b[?25ldone\n",
      "\u001b[?25h  Created wheel for bitarray: filename=bitarray-1.2.2-cp39-cp39-linux_x86_64.whl size=53584 sha256=7c6b96f39a08b82359ba67c49491a68625a775c30fdb9f09a46fd03ba5e4a056\n",
      "  Stored in directory: /home/jovyan/.cache/pip/wheels/f6/b3/8d/0bb7212600c4671dcb713dec6574c37b118c2c321e6ed52fe3\n",
      "  Building wheel for lru-dict (setup.py) ... \u001b[?25ldone\n",
      "\u001b[?25h  Created wheel for lru-dict: filename=lru_dict-1.1.7-cp39-cp39-linux_x86_64.whl size=11545 sha256=bdb47d469ea5e59fc8c5f272a8d87ed496ffec1145a1ee5cd28fa2ac9bf3e34d\n",
      "  Stored in directory: /home/jovyan/.cache/pip/wheels/86/3f/f6/6efebdbc72403e91c39f8cc817f61627d065eed97921b8e5b8\n",
      "  Building wheel for pyethash (setup.py) ... \u001b[?25ldone\n",
      "\u001b[?25h  Created wheel for pyethash: filename=pyethash-0.1.27-cp39-cp39-linux_x86_64.whl size=25028 sha256=2ec8626cdfad580614d65d13f512382d70fea334d954e1c3dfe9dd8be6da8cea\n",
      "  Stored in directory: /home/jovyan/.cache/pip/wheels/4c/18/f0/cd1732ca0b05b39f2bcdf668b335811e89e74f46e8ca19efaf\n",
      "Successfully built cytoolz pysha3 bitarray lru-dict pyethash\n",
      "Installing collected packages: cytoolz, eth-utils, varint, rlp, pycryptodome, parsimonious, netaddr, multidict, hexbytes, eth-keys, base58, yarl, typing-extensions, numpy, mypy-extensions, multiaddr, eth-rlp, eth-keyfile, eth-abi, cached-property, bitarray, async-timeout, asn1crypto, websockets, semantic-version, scrypt, repoze.lru, PyYAML, pysha3, pyethash, py-ecc, protobuf, pillow, pbkdf2, pandas, lru-dict, kiwisolver, ipfshttpclient, future, eth-account, cycler, coincurve, aiohttp, web3, py-solc-x, py-solc, matplotlib, ethereum, Cython, altair\n",
      "Successfully installed Cython-0.29.23 PyYAML-5.4.1 aiohttp-3.7.4.post0 altair-4.1.0 asn1crypto-1.4.0 async-timeout-3.0.1 base58-2.1.0 bitarray-1.2.2 cached-property-1.5.2 coincurve-15.0.0 cycler-0.10.0 cytoolz-0.11.0 eth-abi-2.1.1 eth-account-0.5.4 eth-keyfile-0.5.1 eth-keys-0.3.3 eth-rlp-0.2.1 eth-utils-1.10.0 ethereum-2.3.1 future-0.18.2 hexbytes-0.2.1 ipfshttpclient-0.7.0 kiwisolver-1.3.1 lru-dict-1.1.7 matplotlib-3.4.2 multiaddr-0.0.9 multidict-5.1.0 mypy-extensions-0.4.3 netaddr-0.8.0 numpy-1.21.0 pandas-1.2.5 parsimonious-0.8.1 pbkdf2-1.3 pillow-8.2.0 protobuf-3.17.3 py-ecc-5.2.0 py-solc-3.2.0 py-solc-x-1.1.0 pycryptodome-3.10.1 pyethash-0.1.27 pysha3-1.0.2 repoze.lru-0.7 rlp-1.0.1 scrypt-0.8.18 semantic-version-2.8.5 typing-extensions-3.10.0.0 varint-1.0.2 web3-5.20.0 websockets-8.1 yarl-1.6.3\n"
     ]
    }
   ],
   "source": [
    "# Install Python Web3 package\n",
    "!sudo apt update\n",
    "!sudo apt install -y gcc\n",
    "!{sys.executable} -m pip install -r requirements.txt"
   ]
  },
  {
   "cell_type": "code",
   "execution_count": null,
   "metadata": {},
   "outputs": [],
   "source": [
    "# Install Python Solidity Compiler\n",
    "#!{sys.executable} -m pip install py-solc"
   ]
  },
  {
   "cell_type": "markdown",
   "metadata": {},
   "source": [
    "### Solidity Smart Contract"
   ]
  },
  {
   "cell_type": "markdown",
   "metadata": {},
   "source": [
    "```javascript\n",
    "pragma solidity ^0.4.26;\n",
    "\n",
    "contract Data{\n",
    "    \n",
    "    address public dataProvider;\n",
    "    uint public licence;\n",
    "    string private link;\n",
    "    string public dataDescription=\"default\"; //this needs to become a struct!\n",
    "\n",
    "    // The keyword \"public\" makes those variables\n",
    "    // easily readable from outside.\n",
    "    mapping (address => uint) userTokens;\n",
    "    mapping (address => address) public mappedUsers;\n",
    "    address[] public addressIndices;\n",
    "    // Events allow light clients to react to changes efficiently.\n",
    "    event Sent(address from, address to, uint token);\n",
    "    event publishedDataset(address publisher, string description, string link, uint licence); // Event\n",
    "    event updateDataset(address to, string uspdateDescr, string link);\n",
    "    constructor () public{\n",
    "                dataProvider=msg.sender;\n",
    "    }\n",
    "    \n",
    "    function publishData(string memory _newdescription, string memory _link, uint _licence) public {\n",
    "        require(msg.sender == dataProvider);\n",
    "        dataDescription=_newdescription;\n",
    "        link=_link;\n",
    "        licence=_licence;\n",
    "        emit publishedDataset(msg.sender, _newdescription, link, licence); // Triggering event\n",
    "    }\n",
    "    function setLicence(uint newLicence) public{\n",
    "       dataProvider=msg.sender;\n",
    "       licence=newLicence;\n",
    "    //TODO we need to update all of the changes!! \n",
    "    //Not focusing here as I am not sure we need to change licences once the data is published.\n",
    "    }\n",
    "    \n",
    "    \n",
    "    function getLicence() public view returns(uint) {\n",
    "       return licence;\n",
    "    }\n",
    "    //DataRequesters get the link to the data only if the token is right!\n",
    "    function getLink(uint token) public view returns(string memory){\n",
    "        require(token==1);\n",
    "        return link;\n",
    "    }\n",
    "    //This is a function to notify the dataRequesters to update the data records\n",
    "    function updateData(string memory updateDescr, string memory _newlink) public{\n",
    "        require(dataProvider==msg.sender);\n",
    "        dataDescription=updateDescr;\n",
    "        link=_newlink;\n",
    "        uint arrayLength = addressIndices.length;\n",
    "        for (uint i=0; i<arrayLength; i++) {\n",
    "            address to=mappedUsers[addressIndices[i]];\n",
    "            emit updateDataset(to, updateDescr, link); // Triggering event for all dataRequesters\n",
    "        }//for\n",
    "   }\n",
    "    function addDataRequester(uint purposeCode, uint licenceType) public returns(uint){\n",
    "       //for now the purpose is a code as the string comparison it's expensive in solidity\n",
    "       //in the future the purpose should be compared to a field of the overall contract description\n",
    "        require(purposeCode<=20);\n",
    "        require(licence==licenceType);\n",
    "        addressIndices.push(msg.sender); //adding the data requester to an array so that I can loop the mapping of dataRequesters later!\n",
    "        mappedUsers[msg.sender] = msg.sender;//adding a new data requester (key and value are the same!)!\n",
    "        userTokens[msg.sender] = 1; //TODO this should become a token generation function!\n",
    "        uint token=1; //TODO this is a shortcut. tokens should be derived from some verifiable function that cannot be faked\n",
    "        return token;\n",
    "    }\n",
    "    function renewToken(uint compliance) public returns(uint token){\n",
    "        require(userTokens[msg.sender] > 0, \"need to agree on licence first\");\n",
    "        if(licence==compliance){\n",
    "            emit Sent(msg.sender, dataProvider, userTokens[msg.sender]++);\n",
    "           token=userTokens[msg.sender]++;\n",
    "           //TODO add compliance in respect to dataUpdates\n",
    "           //the compliance that is given in input will need to show that updates were performed\n",
    "        }\n",
    "        else{\n",
    "            userTokens[msg.sender] = 0;\n",
    "            emit Sent(msg.sender, dataProvider, 0);\n",
    "            token=0;\n",
    "        }\n",
    "        return token;\n",
    "    }\n",
    "}\n",
    "```"
   ]
  },
  {
   "cell_type": "markdown",
   "metadata": {},
   "source": [
    "### Deploy Contract"
   ]
  },
  {
   "cell_type": "markdown",
   "metadata": {},
   "source": [
    "Compile (Compiler Version: 0.4.26 commit) & Deploy the solidity contract via Remix and Chrome + Metamask web3 injection to locally running instance of Ganache. Obtain smart contract address from transaction within Ganache and the public and private wallet keys from Metamask."
   ]
  },
  {
   "cell_type": "markdown",
   "metadata": {},
   "source": [
    "### Connect Python to local Ganache Node"
   ]
  },
  {
   "cell_type": "code",
   "execution_count": 5,
   "metadata": {},
   "outputs": [],
   "source": [
    "import time\n",
    "from web3 import Web3, HTTPProvider\n",
    "\n",
    "# Contract address from Ganache\n",
    "contract_address     = \"0x9B3da536bfFf54974AE3D9151D7C6F5dBE81990E\"\n",
    "\n",
    "# Private key obtained via Metamask\n",
    "wallet_private_key   = \"46CFCDA83AAA94D428D971517AC4A80AEE039B5C4B5CC6D876B78D06076A025A\"\n",
    "\n",
    "# Wallet address from Metamask\n",
    "wallet_address       = \"0x0a68a27F5b59C7Ed8A3c64330745AffD88ecfc85\"\n",
    "\n",
    "# Ganache Connection\n",
    "w3 = Web3(Web3.HTTPProvider(\"HTTP://127.0.0.1:7545\"))"
   ]
  },
  {
   "cell_type": "markdown",
   "metadata": {},
   "source": [
    "### Interacting with the smart contract"
   ]
  },
  {
   "cell_type": "markdown",
   "metadata": {},
   "source": [
    "In order to interact with the contract functions we need to expose the application binary interface (ABI) of the compiled smart contract to our Python code. The easiest way to do so is by copying the ABI data in json from Remix and storing it in another python module for easy access. (The ABI can be found in the Compile tab in Remix after compilation of the smart contract.)"
   ]
  },
  {
   "cell_type": "code",
   "execution_count": 3,
   "metadata": {},
   "outputs": [],
   "source": [
    "# Import Python module containing application binary interface \n",
    "import luce_abi\n",
    "# Instantiate web3 contract object using the contract address & corresponding application binary interface\n",
    "contract = w3.eth.contract(address = contract_address, abi = luce_abi.abi)"
   ]
  },
  {
   "cell_type": "markdown",
   "metadata": {},
   "source": [
    "This does NOT work:"
   ]
  },
  {
   "cell_type": "code",
   "execution_count": 4,
   "metadata": {},
   "outputs": [],
   "source": [
    "def setLicence(licence_uint):\n",
    "    return contract.functions.setLicence(licence_uint).call()"
   ]
  },
  {
   "cell_type": "markdown",
   "metadata": {},
   "source": [
    "But this DOES work:"
   ]
  },
  {
   "cell_type": "code",
   "execution_count": 5,
   "metadata": {},
   "outputs": [],
   "source": [
    "def setLicence(licence_uint):\n",
    "    nonce = w3.eth.getTransactionCount(wallet_address)\n",
    "    txn_dict = contract.functions.setLicence(licence_uint).buildTransaction({\n",
    "        'chainId': 3,\n",
    "        'gas': 140000,\n",
    "        'gasPrice': w3.toWei('40', 'gwei'),\n",
    "        'nonce': nonce,\n",
    "    })\n",
    "    # Sign transaction\n",
    "    signed_txn = w3.eth.account.signTransaction(txn_dict, private_key=wallet_private_key)    \n",
    "\n",
    "    # Send transaction and store hash\n",
    "    txn_hash = w3.eth.sendRawTransaction(signed_txn.rawTransaction)\n",
    "    \n",
    "    # Check if transaction was added to blockchain\n",
    "    time.sleep(2) # wait 2 seconds\n",
    "    tx_receipt = w3.eth.getTransactionReceipt(txn_hash)\n",
    "    if tx_receipt is None:\n",
    "        return {'status': 'failed', 'error': 'timeout'}\n",
    "    else:\n",
    "        print(tx_receipt)"
   ]
  },
  {
   "cell_type": "code",
   "execution_count": 6,
   "metadata": {},
   "outputs": [
    {
     "name": "stdout",
     "output_type": "stream",
     "text": [
      "AttributeDict({'transactionHash': HexBytes('0x80d20f65007d3a7370877d1d4d76f95e48b42fc19a6e1b51795ac4d6077758b2'), 'transactionIndex': 0, 'blockHash': HexBytes('0x7ffdfa09465347e1da19e2d0aa7bd5f1d59dbcca54963b7fb41db637d55366ed'), 'blockNumber': 31, 'from': '0x0a68a27f5b59c7ed8a3c64330745affd88ecfc85', 'to': '0x9b3da536bfff54974ae3d9151d7c6f5dbe81990e', 'gasUsed': 47001, 'cumulativeGasUsed': 47001, 'contractAddress': None, 'logs': [], 'status': 1, 'logsBloom': HexBytes('0x00000000000000000000000000000000000000000000000000000000000000000000000000000000000000000000000000000000000000000000000000000000000000000000000000000000000000000000000000000000000000000000000000000000000000000000000000000000000000000000000000000000000000000000000000000000000000000000000000000000000000000000000000000000000000000000000000000000000000000000000000000000000000000000000000000000000000000000000000000000000000000000000000000000000000000000000000000000000000000000000000000000000000000000000000000000'), 'v': '0x2a', 'r': '0x46ea738e060fcd7d7265813fb838f9027bf3f5329ec36582e101caa1a2b2cc47', 's': '0x5312ba4bd9c15deeda3acc782bf943b81e02041c919b4d33cd01ee0b66024d6c'})\n"
     ]
    }
   ],
   "source": [
    "setLicence(3)"
   ]
  },
  {
   "cell_type": "code",
   "execution_count": 7,
   "metadata": {},
   "outputs": [],
   "source": [
    "def getLicence():\n",
    "    return contract.functions.getLicence().call()"
   ]
  },
  {
   "cell_type": "code",
   "execution_count": 8,
   "metadata": {},
   "outputs": [
    {
     "data": {
      "text/plain": [
       "3"
      ]
     },
     "execution_count": 8,
     "metadata": {},
     "output_type": "execute_result"
    }
   ],
   "source": [
    "getLicence()"
   ]
  },
  {
   "cell_type": "markdown",
   "metadata": {},
   "source": [
    "---"
   ]
  },
  {
   "cell_type": "code",
   "execution_count": 9,
   "metadata": {},
   "outputs": [],
   "source": [
    "def publishData(description, link, licence):\n",
    "    nonce = w3.eth.getTransactionCount(wallet_address)\n",
    "    txn_dict = contract.functions.publishData(description, link, licence).buildTransaction({\n",
    "        'chainId': 3,\n",
    "        'gas': 140000,\n",
    "        'gasPrice': w3.toWei('40', 'gwei'),\n",
    "        'nonce': nonce,\n",
    "    })\n",
    "    # Sign transaction\n",
    "    signed_txn = w3.eth.account.signTransaction(txn_dict, private_key=wallet_private_key)    \n",
    "\n",
    "    # Send transaction and store hash\n",
    "    txn_hash = w3.eth.sendRawTransaction(signed_txn.rawTransaction)\n",
    "    \n",
    "    # Check if transaction was added to blockchain\n",
    "    time.sleep(2) # wait 2 seconds\n",
    "    tx_receipt = w3.eth.getTransactionReceipt(txn_hash)\n",
    "    if tx_receipt is None:\n",
    "        return {'status': 'failed', 'error': 'timeout'}\n",
    "    else:\n",
    "        print(tx_receipt)"
   ]
  },
  {
   "cell_type": "code",
   "execution_count": 10,
   "metadata": {
    "collapsed": true,
    "jupyter": {
     "outputs_hidden": true
    }
   },
   "outputs": [
    {
     "name": "stdout",
     "output_type": "stream",
     "text": [
      "AttributeDict({'transactionHash': HexBytes('0x27353b68c53891a44194cc46722b318fc4e951208ca5ccf20e93b415cbba2e0c'), 'transactionIndex': 0, 'blockHash': HexBytes('0x667fd72c3097bc5b33660a7da69c51500345b9b9c1c2be563d29f67835d2cf04'), 'blockNumber': 32, 'from': '0x0a68a27f5b59c7ed8a3c64330745affd88ecfc85', 'to': '0x9b3da536bfff54974ae3d9151d7c6f5dbe81990e', 'gasUsed': 65548, 'cumulativeGasUsed': 65548, 'contractAddress': None, 'logs': [AttributeDict({'logIndex': 0, 'transactionIndex': 0, 'transactionHash': HexBytes('0x27353b68c53891a44194cc46722b318fc4e951208ca5ccf20e93b415cbba2e0c'), 'blockHash': HexBytes('0x667fd72c3097bc5b33660a7da69c51500345b9b9c1c2be563d29f67835d2cf04'), 'blockNumber': 32, 'address': '0x9B3da536bfFf54974AE3D9151D7C6F5dBE81990E', 'data': '0x0000000000000000000000000a68a27f5b59c7ed8a3c64330745affd88ecfc85000000000000000000000000000000000000000000000000000000000000008000000000000000000000000000000000000000000000000000000000000000c00000000000000000000000000000000000000000000000000000000000000003000000000000000000000000000000000000000000000000000000000000001074657374206465736372697074696f6e00000000000000000000000000000000000000000000000000000000000000000000000000000000000000000000000974657374206c696e6b0000000000000000000000000000000000000000000000', 'topics': [HexBytes('0xab57663640fff2a2f04b950f55e12d7e8c0131e0fcd75753cb1ccc510b18dbfa')], 'type': 'mined'})], 'status': 1, 'logsBloom': HexBytes('0x00000000000000000000000000000000000000000000000000000000000004000000000000000000000000000000000000000000000000000000000000000000000000000000000000000000000000000000000000000000000000000000000000000000000000000000000000000000000000000000000000000000000000000000000000000000000000000000000000000000000000000000000000000000000000000000000000000000000000000000020000000000000000000000000000000000000040000000000080000000000000000000000000000800000000002000000000000000000000000000000000000000000000000000000000000000'), 'v': '0x29', 'r': '0x1538b1f41092a2243a57f5acb3db814d90d0937482b6c2815c3f3dfa49648905', 's': '0x60de107b6af11d47dd22a00fc974fb5239369d1de3d755dedb09e82549373223'})\n"
     ]
    }
   ],
   "source": [
    "publishData(\"test description\",\"test link\",3)"
   ]
  }
 ],
 "metadata": {
  "kernelspec": {
   "display_name": "Python 3",
   "language": "python",
   "name": "python3"
  },
  "language_info": {
   "codemirror_mode": {
    "name": "ipython",
    "version": 3
   },
   "file_extension": ".py",
   "mimetype": "text/x-python",
   "name": "python",
   "nbconvert_exporter": "python",
   "pygments_lexer": "ipython3",
   "version": "3.9.2"
  },
  "toc": {
   "base_numbering": 1,
   "nav_menu": {},
   "number_sections": false,
   "sideBar": true,
   "skip_h1_title": false,
   "title_cell": "Table of Contents",
   "title_sidebar": "Contents",
   "toc_cell": false,
   "toc_position": {},
   "toc_section_display": true,
   "toc_window_display": true
  }
 },
 "nbformat": 4,
 "nbformat_minor": 4
}
